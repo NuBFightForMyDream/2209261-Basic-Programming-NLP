{
  "cells": [
    {
      "cell_type": "markdown",
      "id": "27f3678a",
      "metadata": {
        "id": "27f3678a"
      },
      "source": [
        "# 2209261 Basic Programming NLP \n",
        "## Lab Part I : Variable & function exercise\n",
        "## Lectured by : Chatrphol Ovanonchai 6730084521 "
      ]
    },
    {
      "cell_type": "markdown",
      "id": "acd97e90",
      "metadata": {},
      "source": [
        "# Part I : Expression"
      ]
    },
    {
      "cell_type": "markdown",
      "id": "c74d3320",
      "metadata": {
        "id": "c74d3320"
      },
      "source": [
        "## Exercise 1 : Celsius to Fahrenheit\n",
        "\n",
        "Write a Python program to receive an input from x variable in degree Celsius and convert the temperature to Fahrenheit\n",
        "\n",
        "- Fahrenheit = (9*Celsius/5)+32"
      ]
    },
    {
      "cell_type": "code",
      "execution_count": 1,
      "id": "bd5b6684",
      "metadata": {
        "id": "bd5b6684",
        "outputId": "295d9603-b9ed-44a4-9d2f-f77bfa001b20"
      },
      "outputs": [
        {
          "name": "stdout",
          "output_type": "stream",
          "text": [
            "Celsius :  10.0  -> Fahrenheit :  50.0\n"
          ]
        }
      ],
      "source": [
        "# input celsius\n",
        "x = float(input(\"x = \"))\n",
        "celsius = x # assign x to celsius\n",
        "\n",
        "# transform celsius to fahrenheit\n",
        "fahrenheit = (9 * celsius / 5) + 32\n",
        "\n",
        "# output info\n",
        "print(\"Celsius : \" , celsius , \" -> Fahrenheit : \" , fahrenheit)"
      ]
    },
    {
      "cell_type": "markdown",
      "id": "60d4b2ad",
      "metadata": {
        "id": "60d4b2ad"
      },
      "source": [
        "## Exercise 2: Swap Values\n",
        "Write a Python Program to Swap Two Variables\n",
        "\n",
        "\n",
        "```\n",
        "# Python program to swap two variables\n",
        "\n",
        "x = 5\n",
        "y = 10\n",
        "```\n"
      ]
    },
    {
      "cell_type": "code",
      "execution_count": 3,
      "id": "6eb68154",
      "metadata": {
        "id": "6eb68154",
        "outputId": "2d29910e-e36a-416e-b6b7-51e485872814"
      },
      "outputs": [
        {
          "name": "stdout",
          "output_type": "stream",
          "text": [
            "x :  5 y :  10\n"
          ]
        }
      ],
      "source": [
        "# input x,y\n",
        "x = int(input()) ; y = int(input())\n",
        "\n",
        "# swap x,y\n",
        "x,y = y,x\n",
        "\n",
        "# print x,y\n",
        "print(\"x : \" , x , \"y : \" , y)"
      ]
    },
    {
      "cell_type": "markdown",
      "id": "203d4d7a",
      "metadata": {
        "id": "203d4d7a"
      },
      "source": [
        "## Exercise 3: Time to Seconds\n",
        "Write a Python function that receives 2 parameters (hour, minute) and returns the number of seconds derived from hour and minute."
      ]
    },
    {
      "cell_type": "code",
      "execution_count": 4,
      "id": "d8b54692",
      "metadata": {
        "id": "d8b54692",
        "outputId": "4c7f16bd-8f5a-4382-c77e-c32d3a91180c"
      },
      "outputs": [
        {
          "name": "stdout",
          "output_type": "stream",
          "text": [
            "5400\n",
            "7200\n"
          ]
        }
      ],
      "source": [
        "def time_to_seconds(hour , minute) : \n",
        "    return 60 * 60 * hour + 60 * minute\n",
        "\n",
        "# Example usage:\n",
        "print(time_to_seconds(1, 30))  # 1 hour 30 minutes = 5400 seconds\n",
        "print(time_to_seconds(2, 0))   # 2 hours = 7200 seconds"
      ]
    },
    {
      "cell_type": "markdown",
      "id": "d7fca65e",
      "metadata": {
        "id": "d7fca65e"
      },
      "source": [
        "# Part II : Condition"
      ]
    },
    {
      "cell_type": "markdown",
      "id": "99f89a17",
      "metadata": {
        "id": "99f89a17"
      },
      "source": [
        "## Exercise 4: Even Number\n",
        "Write a function named \"evens\" which returns True (boolean) if a number is even and otherwise returns False (boolean)."
      ]
    },
    {
      "cell_type": "code",
      "execution_count": null,
      "id": "70f35146",
      "metadata": {
        "id": "70f35146",
        "outputId": "b67a9c90-4fd7-43a2-b9f9-cf93c2cd77a3"
      },
      "outputs": [
        {
          "name": "stdout",
          "output_type": "stream",
          "text": [
            "False\n",
            "True\n"
          ]
        }
      ],
      "source": [
        "def evens(number) : \n",
        "    if number % 2 == 0 : \n",
        "        return True\n",
        "    else : \n",
        "        return False\n",
        "    \n",
        "print(evens(1))\n",
        "print(evens(2))"
      ]
    },
    {
      "cell_type": "markdown",
      "id": "e49ad06b",
      "metadata": {
        "id": "e49ad06b"
      },
      "source": [
        "## Exercise 5: Compare Values\n",
        "Write a python function that recieve 2 parameters and print out the smaller value.  \n",
        "\n",
        "- if one or more of the values is string, print (\"Can't compare the value of string\")\n",
        "- if two values are equal, print only one value.\n"
      ]
    },
    {
      "cell_type": "code",
      "execution_count": 7,
      "id": "02805811",
      "metadata": {
        "id": "02805811",
        "outputId": "52641c20-2185-45da-d961-366e6bb1170c"
      },
      "outputs": [
        {
          "name": "stdout",
          "output_type": "stream",
          "text": [
            "Can't compare the value of string\n",
            "2\n",
            "1\n"
          ]
        }
      ],
      "source": [
        "def compareVal(val1 , val2) : \n",
        "    if (type(val1) != type(val2)) or (type(val1) == str and type(val2) == str) :\n",
        "        return \"Can't compare the value of string\"\n",
        "    else : \n",
        "        # normal case , check which one is greater\n",
        "        if val1 > val2 : \n",
        "            return val1\n",
        "        elif val1 < val2 : \n",
        "            return val2\n",
        "        else : \n",
        "            return val1 # return one of val1 , val2\n",
        "     \n",
        "print(compareVal(\"x\",1))\n",
        "print(compareVal(2,1))\n",
        "print(compareVal(1,1))"
      ]
    },
    {
      "cell_type": "markdown",
      "id": "d0843dc0",
      "metadata": {
        "id": "d0843dc0"
      },
      "source": [
        "## Exercise 6: Divisible Number\n",
        "Write a program to check whether a number is divisible by 2 or 3."
      ]
    },
    {
      "cell_type": "code",
      "execution_count": 2,
      "id": "adfb8e6b",
      "metadata": {
        "id": "adfb8e6b",
        "outputId": "e7424c16-22f3-4e6f-b178-b9cce1ab9dc4"
      },
      "outputs": [
        {
          "name": "stdout",
          "output_type": "stream",
          "text": [
            "6 is divisible by 2\n",
            "6 is divisible by 3\n"
          ]
        }
      ],
      "source": [
        "def isDivisible(number) : # not returning value , just print (check many cases)\n",
        "    if number % 2 == 0 :\n",
        "        print(str(number) + \" is divisible by 2\")\n",
        "    if number % 3 == 0 :\n",
        "        print(str(number) + \" is divisible by 3\")\n",
        "\n",
        "isDivisible(6)"
      ]
    },
    {
      "cell_type": "markdown",
      "id": "3a923604",
      "metadata": {
        "id": "3a923604"
      },
      "source": [
        "## Exercise 7: Grade Letter\n",
        "write a python function to recieve 1 parameter as an exam score. Then, return grading character as an string output.\n",
        "\n",
        "Here are the condition:\n",
        "- A >= 80\n",
        "- 80>B>=70\n",
        "- 70>C>=60\n",
        "- 60>D>=50\n",
        "- F<50"
      ]
    },
    {
      "cell_type": "code",
      "execution_count": 16,
      "id": "56a04bd8",
      "metadata": {
        "id": "56a04bd8",
        "outputId": "f6f4c2b6-16c6-43f1-824b-f447a2f38707"
      },
      "outputs": [
        {
          "name": "stdout",
          "output_type": "stream",
          "text": [
            "A\n",
            "F\n"
          ]
        }
      ],
      "source": [
        "def getLetterGrade(score) : \n",
        "    # check condition\n",
        "    if score >= 80 : \n",
        "        return 'A'\n",
        "    elif 70 <= score <= 80 : \n",
        "        return 'B'\n",
        "    elif 60 <= score <= 70 : \n",
        "        return 'C'\n",
        "    elif 50 <= score <= 60 : \n",
        "        return 'D'\n",
        "    else : \n",
        "        return 'F'\n",
        "\n",
        "print(getLetterGrade(80)) # A\n",
        "print(getLetterGrade(49)) # F"
      ]
    },
    {
      "cell_type": "markdown",
      "id": "6e632183",
      "metadata": {
        "id": "6e632183"
      },
      "source": [
        "## Exercise 8: Get Discount\n",
        "create a python function that take 2 input parameters (price and amount) and return the total price you need to pay.\n",
        "\n",
        "* if you buy lesser than 100 pieces, no discount.\n",
        "* if you buy greater than equal 100 pieces, give 10% discount.\n",
        "* if you buy greater than equal 1000 pieces, give 20% discount.\n",
        "\n"
      ]
    },
    {
      "cell_type": "code",
      "execution_count": null,
      "id": "659962c1",
      "metadata": {
        "id": "659962c1",
        "outputId": "ab5b33e8-f690-4677-bc09-f7ec5e8653e8"
      },
      "outputs": [
        {
          "name": "stdout",
          "output_type": "stream",
          "text": [
            "900.0\n",
            "9000.0\n"
          ]
        }
      ],
      "source": [
        "def getTotalPrice(price_per_unit , amount) : \n",
        "    total_paid = 0 \n",
        "    # check condition\n",
        "    if amount < 100 : \n",
        "        total_paid = amount * price_per_unit\n",
        "    elif 100 <= amount <= 1000 : \n",
        "        total_paid = 0.9 * (amount * price_per_unit)\n",
        "    elif amount > 1000 : \n",
        "        total_paid = 0.8 * (amount * price_per_unit)\n",
        "    \n",
        "    # return total_paid\n",
        "    return total_paid\n",
        "\n",
        "# call function\n",
        "print(getTotalPrice(10,100))\n",
        "print(getTotalPrice(10,1000))"
      ]
    },
    {
      "cell_type": "markdown",
      "id": "78f2afbc",
      "metadata": {
        "id": "78f2afbc"
      },
      "source": [
        "# Part III : Loop (Iteration)"
      ]
    },
    {
      "cell_type": "markdown",
      "id": "e34042a4",
      "metadata": {
        "id": "e34042a4"
      },
      "source": [
        "## Exercise 9 : Print Numbers\n",
        "Create a function that receive 1 interger argument (n) and print out all interger numbers from 0 to n"
      ]
    },
    {
      "cell_type": "code",
      "execution_count": 18,
      "id": "31b786f5",
      "metadata": {
        "id": "31b786f5",
        "outputId": "6be60aa6-2c3d-40ce-9757-b802c9ceb6c9"
      },
      "outputs": [
        {
          "name": "stdout",
          "output_type": "stream",
          "text": [
            "0\n",
            "1\n",
            "2\n",
            "3\n",
            "4\n",
            "5\n",
            "6\n",
            "7\n",
            "8\n",
            "9\n"
          ]
        }
      ],
      "source": [
        "def printNumber(number) : \n",
        "    for n in range(number) :\n",
        "        print(n)\n",
        "\n",
        "# call function\n",
        "printNumber(10)"
      ]
    },
    {
      "cell_type": "markdown",
      "id": "1ae1fb1e",
      "metadata": {
        "id": "1ae1fb1e"
      },
      "source": [
        "## Exercise 10 : Print Even Numbers\n",
        "Create a function that receive 1 interger argument (n) and print out all interger even numbers from 0 to n"
      ]
    },
    {
      "cell_type": "code",
      "execution_count": 24,
      "id": "aba00581",
      "metadata": {
        "id": "aba00581",
        "outputId": "a4d45ee4-9b39-4be9-b93f-505f4eccbddf"
      },
      "outputs": [
        {
          "name": "stdout",
          "output_type": "stream",
          "text": [
            "0\n",
            "2\n",
            "4\n",
            "6\n",
            "8\n"
          ]
        }
      ],
      "source": [
        "def printEvenNumber(number) : \n",
        "    for num in range(number) : \n",
        "        if num % 2 == 0 : \n",
        "            print(num)\n",
        "\n",
        "printEvenNumber(10)"
      ]
    },
    {
      "cell_type": "markdown",
      "id": "9de94030",
      "metadata": {
        "id": "9de94030"
      },
      "source": [
        "## Exercise 11 : Summation of Number\n",
        "\n",
        "Create a function that receive 1 interger argument (n) and return a sum of all integer numbers from 0 to n"
      ]
    },
    {
      "cell_type": "code",
      "execution_count": null,
      "id": "d8d4c779",
      "metadata": {
        "id": "d8d4c779",
        "outputId": "c3092a4b-dcbb-4d7b-9b36-f7ab05a2d145"
      },
      "outputs": [
        {
          "name": "stdout",
          "output_type": "stream",
          "text": [
            "55\n"
          ]
        }
      ],
      "source": [
        "def sumNumber(number) : \n",
        "    # define vaiable for total value\n",
        "    total = 0 \n",
        "    \n",
        "    # for loop until get sum\n",
        "    for num in range(1 , number+1) : \n",
        "        total += num\n",
        "        \n",
        "    # return number\n",
        "    return total\n",
        "\n",
        "# call function\n",
        "print(sumNumber(10))"
      ]
    }
  ],
  "metadata": {
    "colab": {
      "provenance": []
    },
    "kernelspec": {
      "display_name": "chatrpholvenv",
      "language": "python",
      "name": "python3"
    },
    "language_info": {
      "codemirror_mode": {
        "name": "ipython",
        "version": 3
      },
      "file_extension": ".py",
      "mimetype": "text/x-python",
      "name": "python",
      "nbconvert_exporter": "python",
      "pygments_lexer": "ipython3",
      "version": "3.13.6"
    }
  },
  "nbformat": 4,
  "nbformat_minor": 5
}
