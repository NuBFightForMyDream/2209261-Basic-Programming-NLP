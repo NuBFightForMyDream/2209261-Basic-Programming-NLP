{
  "cells": [
    {
      "cell_type": "markdown",
      "id": "590d8328",
      "metadata": {
        "id": "590d8328"
      },
      "source": [
        "# 2209261 Basic Programming NLP  \n",
        "## Lab 8 : OOP Exercise\n",
        "## Done by : 6730084521 Chatrphol Ovanonchai"
      ]
    },
    {
      "cell_type": "markdown",
      "id": "f71c29dd",
      "metadata": {
        "id": "f71c29dd"
      },
      "source": [
        "## Exercise 1: Vehicle class\n",
        "\n",
        "Write a Python program to create a Vehicle class with speed and mileage as class attributes.\n",
        "\n",
        "1.  create with `__init__` constructor method to recieve 2 values (speed and value) as class attributes.\n",
        "2.  initialize an instance of Vehicle with speed =240 and mileage = 20.\n",
        "3. Print out the instance's attribute."
      ]
    },
    {
      "cell_type": "code",
      "execution_count": 1,
      "id": "1554afe9",
      "metadata": {
        "id": "1554afe9",
        "outputId": "87de4b3f-e79e-4861-ac21-858c3d249fcb"
      },
      "outputs": [
        {
          "name": "stdout",
          "output_type": "stream",
          "text": [
            "240 20\n"
          ]
        }
      ],
      "source": [
        "class Vehicle : \n",
        "    # initial method\n",
        "    def __init__(self , speed , value) : \n",
        "        self.speed = speed \n",
        "        self.value = value \n",
        "        \n",
        "# define object (call class)\n",
        "myCar = Vehicle(240 , 20)\n",
        "\n",
        "# print output\n",
        "print( myCar.speed , myCar.value )    "
      ]
    },
    {
      "cell_type": "markdown",
      "id": "6b281351",
      "metadata": {
        "id": "6b281351"
      },
      "source": [
        "### Exercise 1.1\n",
        "\n",
        "Add `__str__` method to print out all instance's variables."
      ]
    },
    {
      "cell_type": "code",
      "execution_count": 3,
      "id": "9a480287",
      "metadata": {
        "id": "9a480287",
        "outputId": "2f6ad903-4183-441f-eeca-8da0dea84934"
      },
      "outputs": [
        {
          "name": "stdout",
          "output_type": "stream",
          "text": [
            "mileage: 20, speed:240\n"
          ]
        }
      ],
      "source": [
        "class Vehicle : \n",
        "    # initial method\n",
        "    def __init__(self , speed , value) : \n",
        "        self.speed = speed \n",
        "        self.value = value \n",
        "    \n",
        "    # define string special method\n",
        "    def __str__(self) : \n",
        "        return \"mileage: \" + str(self.value) + \", speed:\" + str(self.speed)\n",
        "        \n",
        "# define object (call class)\n",
        "myCar = Vehicle(240 , 20)\n",
        "\n",
        "# print output\n",
        "print( myCar )   "
      ]
    },
    {
      "cell_type": "markdown",
      "id": "e669a525",
      "metadata": {
        "id": "e669a525"
      },
      "source": [
        "### Exercise 1.2\n",
        "\n",
        "Add 2 custom methods to Vehicle class.\n",
        "\n",
        "*   accelerate: recieve 1 number input that increases the current speed.\n",
        "*   brake: recieve 1 number input that decrease the current speed. Please note that a speed won't be a negative number."
      ]
    },
    {
      "cell_type": "code",
      "execution_count": 5,
      "id": "b77f5fa8",
      "metadata": {
        "id": "b77f5fa8",
        "outputId": "b29577cd-e02e-4679-c217-9ab8c2d8db31"
      },
      "outputs": [
        {
          "name": "stdout",
          "output_type": "stream",
          "text": [
            "mileage: 100, speed:10\n",
            "mileage: 100, speed:0\n",
            "mileage: 100, speed:10\n"
          ]
        }
      ],
      "source": [
        "class Vehicle : \n",
        "    # initial method\n",
        "    def __init__(self , speed , mileage) : \n",
        "        self.speed = speed \n",
        "        self.mileage = mileage \n",
        "        \n",
        "    # method 2 : accelerate\n",
        "    def accelerate(self , speed_val) : \n",
        "        self.speed += speed_val\n",
        "        \n",
        "    # method 3 : decelerate (brake)\n",
        "    def brake(self , speed_val) :\n",
        "        # check if break then stop\n",
        "        if self.speed - speed_val < 0 : \n",
        "            self.speed = 0 \n",
        "        else : \n",
        "            self.speed -= speed_val\n",
        "            \n",
        "    # method : print status (special method)\n",
        "    def __str__(self) : \n",
        "        return \"mileage: \" + str(self.mileage) + \", speed:\" + str(self.speed)\n",
        "        \n",
        "\n",
        "# create object \n",
        "modelX = Vehicle(10, 100)\n",
        "print(modelX)\n",
        "\n",
        "modelX.brake(30)\n",
        "print(modelX)\n",
        "\n",
        "modelX.accelerate(10)\n",
        "print(modelX)"
      ]
    },
    {
      "cell_type": "markdown",
      "id": "c479d9dc",
      "metadata": {
        "id": "c479d9dc"
      },
      "source": [
        "## Exercise 2: Rectangle Class\n",
        "\n",
        "Create a Python class named 'Rectangle' that represents the geometric shape rectangle.\n",
        "\n",
        "* The class should have an initializer that takes two arguments (length and width) and stores them as attributes.\n",
        "* Add a method named 'area' that calculates and returns the rectangle's area.\n",
        "* Add another method named 'perimeter' (ความยาวรอบรูป) that calculates and returns the rectangle's perimeter."
      ]
    },
    {
      "cell_type": "code",
      "execution_count": 6,
      "id": "b3d0b7fe",
      "metadata": {
        "id": "b3d0b7fe",
        "outputId": "b4536962-f3e5-4d82-9277-84ffaea00721"
      },
      "outputs": [
        {
          "name": "stdout",
          "output_type": "stream",
          "text": [
            "Area: 12\n",
            "Perimeter: 14\n"
          ]
        }
      ],
      "source": [
        "# define class\n",
        "class Rectangle : \n",
        "    # initial method\n",
        "    def __init__(self , length , width) : \n",
        "        self.length = length \n",
        "        self.width = width \n",
        "    # area method \n",
        "    def area(self) : \n",
        "        return self.length * self.width \n",
        "    # perimeter method\n",
        "    def perimeter(self) : \n",
        "        return 2 * (self.length + self.width)\n",
        "    \n",
        "# Example usage:\n",
        "rect = Rectangle(3, 4)\n",
        "print(\"Area:\", rect.area())  # Output: Area: 12\n",
        "print(\"Perimeter:\", rect.perimeter())  # Output: Perimeter: 14"
      ]
    },
    {
      "cell_type": "markdown",
      "id": "4d2d05e8",
      "metadata": {
        "id": "4d2d05e8"
      },
      "source": [
        "## Exercise 3: Student Class\n",
        "\n",
        "\n",
        "\n",
        "\n",
        "#### Objective:\n",
        "Develop a simple student management system where you can store and manage student information.\n",
        "\n",
        "#### Instructions:\n",
        "\n",
        "1. **Define a `Student` class**:\n",
        "    - Attributes: `student_id`, `name`, `grades` (a list to store grades)\n",
        "    - Methods:\n",
        "        - `__init__(self, student_id, name)`: Initializes the student with the given ID, and name. Initializes `grades` as an empty list.\n",
        "        - `add_grade(self, grade)`: Adds a grade to the `grades` list.\n",
        "        - `get_average_grade(self)`: Returns the average of the grades.\n",
        "        - `__str__(self)`: Prints the student's ID, name, and average grade.\n",
        "\n",
        "2. **Implement the class and methods**:\n",
        "    - Create instances of the `Student` class.\n",
        "    - Add grades to the students.\n",
        "    - Display student information.\n",
        "\n"
      ]
    },
    {
      "cell_type": "code",
      "execution_count": 15,
      "id": "397f3a68",
      "metadata": {
        "id": "397f3a68",
        "outputId": "e89b60f9-e856-472e-ff95-c64e74380f3d"
      },
      "outputs": [
        {
          "name": "stdout",
          "output_type": "stream",
          "text": [
            "Name: Alice S001, Average Grade: 84.33\n",
            "Name: Bob S002, Average Grade: 90.0\n"
          ]
        }
      ],
      "source": [
        "# define class\n",
        "class Student : \n",
        "    # initial method\n",
        "    def __init__(self , student_id , name) : \n",
        "        self.stuID = student_id \n",
        "        self.stuName = name\n",
        "        self.grades = [] # define list for storing grades\n",
        "    # add grade method\n",
        "    def add_grade(self , grade) : \n",
        "        self.grades.append( grade )\n",
        "        \n",
        "    # find average \n",
        "    def get_average_grade(self) : \n",
        "        return round( sum(self.grades) / len(self.grades) , 2)\n",
        "    \n",
        "    # __str__ magic method \n",
        "    def __str__(self) : \n",
        "        self.avgScore = self.get_average_grade() # call another method in class\n",
        "        return \"Name: \" + self.stuName + \" \" + self.stuID + \", Average Grade: \" + str( self.avgScore )\n",
        "    \n",
        "# Example usage\n",
        "student1 = Student(\"S001\", \"Alice\")\n",
        "student2 = Student(\"S002\", \"Bob\")\n",
        "\n",
        "student1.add_grade(85)\n",
        "student1.add_grade(90)\n",
        "student1.add_grade(78)\n",
        "\n",
        "student2.add_grade(88)\n",
        "student2.add_grade(92)\n",
        "\n",
        "print(student1)\n",
        "print(student2)"
      ]
    },
    {
      "cell_type": "markdown",
      "id": "e3f6942c",
      "metadata": {
        "id": "e3f6942c"
      },
      "source": [
        "## Exercise 4 RPG: Class Human\n",
        "\n",
        "You are tasked with creating an RPG game's object-oriented class template. Design and write a Python code to implement the Human class with the below requirements.\n",
        "\n",
        "[2%] 3 Attributes:\n",
        "* Name: a string name.\n",
        "* HP: Hit points are integer values representing the health of humans.\n",
        "* MP: Magic-points are integer values representing the magic amount of humans.\n",
        "* The default values of HP and MP are 10 and 10, respectively.    \n",
        "HP and MP can't drop below 0.\n",
        "\n",
        "\n",
        "[3%] 2 Methods:\n",
        "* getDamaged: Receive one integer value that decreases HP on the object. If HP falls below 0, print the name of the human + \" \\has been defeated. (HP=0)\"\n",
        "* recovery: Receive one string and one integer. A string value specifies if its HP or MP should be increased by the amount of one integer value.\n",
        "* `__str__`: Print the name, HP, and MP of the Human object.\n"
      ]
    },
    {
      "cell_type": "code",
      "execution_count": 18,
      "id": "0b70e612",
      "metadata": {
        "id": "0b70e612",
        "outputId": "5077cb2a-ab52-49e1-f501-a169bf0169d7"
      },
      "outputs": [
        {
          "name": "stdout",
          "output_type": "stream",
          "text": [
            "Name: Arthur, HP: 10, MP: 10\n",
            "Name: Arthur, HP: 5, MP: 10\n",
            "Name: Arthur, HP: 12, MP: 10\n",
            "Arthur has been defeated. (HP=0)\n"
          ]
        }
      ],
      "source": [
        "class Human : \n",
        "    # initial method \n",
        "    def __init__(self , name) : \n",
        "        self.name = name\n",
        "        # define attributes\n",
        "        self.health_power = 10\n",
        "        self.magic_power = 10\n",
        "        \n",
        "    # getDamaged method\n",
        "    def getDamaged(self , damage) : \n",
        "        # check if defeated\n",
        "        if self.health_power - damage < 0 : \n",
        "            print(self.name + \" has been defeated. (HP=0)\")\n",
        "        else : \n",
        "            self.health_power -= damage \n",
        "            \n",
        "    # recovery method\n",
        "    def recovery(self , type_heal , heal_power) : \n",
        "        # check type (recovery HP or MP)\n",
        "        if type_heal == \"hp\" : \n",
        "            self.health_power += heal_power\n",
        "        elif type_heal == \"mp\" : \n",
        "            self.magic_power += heal_power\n",
        "        \n",
        "    # str magic method (print status)\n",
        "    def __str__(self) : \n",
        "        return \"Name: \" + self.name + \", HP: \" + str(self.health_power) + \", MP: \" + str(self.magic_power)\n",
        "    \n",
        "# Example usage:\n",
        "hero = Human(\"Arthur\")\n",
        "print(hero)  # Output: Name: Arthur, HP: 10, MP: 10\n",
        "hero.getDamaged(5)\n",
        "print(hero)  # Output: Name: Arthur, HP: 5, MP: 10\n",
        "hero.recovery('hp', 7)\n",
        "print(hero)  # Output: Name: Arthur, HP: 12, MP: 10\n",
        "hero.getDamaged(15) # Arthur has been defeated. (HP=0)"
      ]
    }
  ],
  "metadata": {
    "colab": {
      "provenance": []
    },
    "kernelspec": {
      "display_name": "chatrpholvenv",
      "language": "python",
      "name": "python3"
    },
    "language_info": {
      "codemirror_mode": {
        "name": "ipython",
        "version": 3
      },
      "file_extension": ".py",
      "mimetype": "text/x-python",
      "name": "python",
      "nbconvert_exporter": "python",
      "pygments_lexer": "ipython3",
      "version": "3.13.6"
    }
  },
  "nbformat": 4,
  "nbformat_minor": 5
}
