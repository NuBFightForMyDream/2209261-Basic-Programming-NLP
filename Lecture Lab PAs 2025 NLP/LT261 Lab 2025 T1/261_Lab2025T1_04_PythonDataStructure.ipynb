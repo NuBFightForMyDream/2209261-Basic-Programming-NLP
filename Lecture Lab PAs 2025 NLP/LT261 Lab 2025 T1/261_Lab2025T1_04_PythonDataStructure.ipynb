{
  "cells": [
    {
      "cell_type": "markdown",
      "id": "0f16a96f",
      "metadata": {},
      "source": [
        "# 2209261 Basic Programming for NLP\n",
        "## Lab 4 : Python Data Structure (Tuple & Set)\n",
        "## Done by : 6730084521 Chatrphol Ovanonchai"
      ]
    },
    {
      "cell_type": "markdown",
      "id": "721cfb18",
      "metadata": {
        "id": "721cfb18"
      },
      "source": [
        "### Exercise 1 : Remove Duplicate\n",
        "\n",
        "concatinate 2 lists and remove the duplicated items in a list."
      ]
    },
    {
      "cell_type": "code",
      "execution_count": 3,
      "id": "994f556f",
      "metadata": {
        "id": "994f556f",
        "outputId": "4fb500dd-e9d7-4a0a-a25b-ea866292cec4"
      },
      "outputs": [
        {
          "name": "stdout",
          "output_type": "stream",
          "text": [
            "[70, 40, 10, 50, 20, 60, 30]\n"
          ]
        }
      ],
      "source": [
        "list1 = [10, 20, 30, 40, 50]\n",
        "list2 = [30, 40, 50, 60, 70]\n",
        "\n",
        "# concat list together first\n",
        "concat_list = list1 + list2\n",
        "\n",
        "# then create set from list -> change back to list\n",
        "unique_value = list( set(concat_list) )\n",
        "\n",
        "print(unique_value)"
      ]
    },
    {
      "cell_type": "markdown",
      "id": "b6fe53e5",
      "metadata": {
        "id": "b6fe53e5"
      },
      "source": [
        "### Exercise 2: Intersection\n",
        "Return a new set of identical items from two sets."
      ]
    },
    {
      "cell_type": "code",
      "execution_count": null,
      "id": "b1425404",
      "metadata": {
        "id": "b1425404",
        "outputId": "60e8b26c-e9be-4a38-d39b-586096c2e9d2"
      },
      "outputs": [
        {
          "name": "stdout",
          "output_type": "stream",
          "text": [
            "{40, 50, 30}\n"
          ]
        }
      ],
      "source": [
        "set1 = {10, 20, 30, 40, 50}\n",
        "set2 = {30, 40, 50, 60, 70}\n",
        "\n",
        "# Key : get intersection\n",
        "same_element = set1 & set2 # intersection = and \n",
        "print(same_element)"
      ]
    },
    {
      "cell_type": "markdown",
      "id": "96b0c1b6",
      "metadata": {
        "id": "96b0c1b6"
      },
      "source": [
        "### Exercise 3\n",
        "Return a set of elements present in Set A or B, but not both"
      ]
    },
    {
      "cell_type": "code",
      "execution_count": null,
      "id": "126059c7",
      "metadata": {
        "id": "126059c7",
        "outputId": "0d7cae53-0719-465b-a0e8-4c5c097cbefb"
      },
      "outputs": [
        {
          "name": "stdout",
          "output_type": "stream",
          "text": [
            "{10, 20, 70, 60}\n"
          ]
        }
      ],
      "source": [
        "setA = {10, 20, 30, 40, 50}\n",
        "setB = {30, 40, 50, 60, 70}\n",
        "\n",
        "# Key : find intersection then find complement = (A sec B)' (aka wings)\n",
        "universe = setA | setB # or using |\n",
        "intersect_zone = setA & setB\n",
        "\n",
        "# call \"wings\"\n",
        "wings = universe.difference( intersect_zone )\n",
        "\n",
        "print(wings)"
      ]
    },
    {
      "cell_type": "markdown",
      "id": "584b5d53",
      "metadata": {
        "id": "584b5d53"
      },
      "source": [
        "### Exercise 4: Create a grocery list and show it alphabetically with total items.\n",
        "\n",
        "Exercise:\n",
        "Write a function create_grocery_list() that:\n",
        "- 1 input as a list of string\n",
        "- Uses a predefined list of groceries.\n",
        "- Sorts them alphabetically and returns the total count."
      ]
    },
    {
      "cell_type": "code",
      "execution_count": null,
      "id": "e3c7a6f4",
      "metadata": {
        "id": "e3c7a6f4",
        "outputId": "a8df9387-5df4-47aa-b8f5-241d27a8ac31"
      },
      "outputs": [
        {
          "name": "stdout",
          "output_type": "stream",
          "text": [
            "Sorted Grocery List: ['bread', 'butter', 'cheese', 'eggs', 'milk']\n",
            "Total Items: 5\n"
          ]
        }
      ],
      "source": [
        "def create_grocery_list( menu ) : \n",
        "    # get info\n",
        "    sorted_menu = sorted(menu) # alphabetically\n",
        "    count_menu = len( set(sorted_menu) )\n",
        "    \n",
        "    # print format\n",
        "    print(f\"Sorted Grocery List: {sorted_menu}\")\n",
        "    print(f\"Total Items: {count_menu}\")\n",
        "    \n",
        "    # return value\n",
        "    return sorted_menu , count_menu\n",
        "\n",
        "# Example usage\n",
        "sorted_list, total_items = create_grocery_list([\"milk\", \"eggs\", \"bread\", \"butter\", \"cheese\"])"
      ]
    },
    {
      "cell_type": "markdown",
      "id": "7774c9ed",
      "metadata": {
        "id": "7774c9ed"
      },
      "source": [
        "### Exercise 5: Total Monthly Expenses\n",
        "- Write a function total_monthly_expense(expenses) that:\n",
        "- Sums all weekly expenses for each category.\n",
        "- Returns a dictionary with total expense per category."
      ]
    },
    {
      "cell_type": "code",
      "execution_count": 11,
      "id": "7214f4f4",
      "metadata": {
        "id": "7214f4f4",
        "outputId": "64c1036a-66fd-4a83-b57e-76b3df176b9a"
      },
      "outputs": [
        {
          "name": "stdout",
          "output_type": "stream",
          "text": [
            "Total monthly expenses: {'Food': 850, 'Transport': 235, 'Utilities': 460}\n"
          ]
        }
      ],
      "source": [
        "def total_monthly_expense( expenses ) : \n",
        "    # create dict for storing key:value\n",
        "    total_fees = {}\n",
        "    \n",
        "    for typeOfFee in expenses : \n",
        "        # typeOfFee is string (key) , value-pair is list\n",
        "        # now we sum value then store in dict\n",
        "        paid_fee = sum( expenses[typeOfFee] )\n",
        "        total_fees[ typeOfFee ] = paid_fee\n",
        "        \n",
        "    # return dict\n",
        "    print(f\"Total monthly expenses: {total_fees}\")\n",
        "\n",
        "# Example data\n",
        "expenses_data = {\n",
        "    \"Food\": [200, 250, 180, 220],\n",
        "    \"Transport\": [50, 60, 55, 70],\n",
        "    \"Utilities\": [100, 120, 110, 130]\n",
        "}\n",
        "total_monthly_expense( expenses_data)"
      ]
    },
    {
      "cell_type": "markdown",
      "id": "775aeef2",
      "metadata": {
        "id": "775aeef2"
      },
      "source": [
        "### Exercise 6 : Grade Exam Function\n",
        "Write a function grade_exam(correct_list, answer_list) that compares a student’s answers with the correct answers and calculates their score.\n",
        "\n",
        "The function should:\n",
        "- Return the total number of correct answers.\n",
        "- Return a list of 1 and 0 representing correct (1) or incorrect (0) answers for each question."
      ]
    },
    {
      "cell_type": "code",
      "execution_count": null,
      "id": "d742d45e",
      "metadata": {
        "id": "d742d45e",
        "outputId": "d4d92a01-f47e-4c27-84c3-d6ff3ef2caed"
      },
      "outputs": [
        {
          "name": "stdout",
          "output_type": "stream",
          "text": [
            "(5, [1, 1, 1, 1, 1])\n",
            "(1, [1, 0, 0, 0, 0])\n"
          ]
        }
      ],
      "source": [
        "def grade_exam( correct_list , answer_list ) : \n",
        "    \n",
        "    # create list for counting correct answers\n",
        "    result = []\n",
        "    \n",
        "    # check element in list \n",
        "    for pos in range(len(correct_list)) : \n",
        "        if correct_list[pos] == answer_list[pos] :\n",
        "            result.append(1) # answer correct\n",
        "        else : \n",
        "            result.append(0)\n",
        "        \n",
        "    # return tuple\n",
        "    count_correct = result.count(1)\n",
        "    return (count_correct , result)\n",
        "\n",
        "print(grade_exam(['a','b','d','a','c'], ['a','b','d','a','c']))\n",
        "print(grade_exam(['a','b','d','a','c'], ['a','a','b','d','a']))"
      ]
    },
    {
      "cell_type": "markdown",
      "id": "4e4c5dbf",
      "metadata": {
        "id": "4e4c5dbf"
      },
      "source": [
        "### Exercise 7: Assigning Grades Based on Exam Scores\n",
        "You are given two dictionaries:\n",
        "\n",
        "* midterm — contains students’ scores in the midterm exam.\n",
        "\n",
        "* final — contains students’ scores in the final exam.\n",
        "\n",
        "Some students may have attended only one of the exams. Your task is to write a function assign_grades(midterm, final) that assigns a grade to each student based on the following rules:\n",
        "\n",
        "Rules:\n",
        "* Students who attend only one exam (midterm or final)\n",
        "  * Assign them the grade 'M'.\n",
        "* Students who attend both exams:\n",
        "  * If both scores are greater than 5, assign grade 'A'.\n",
        "  * If one of the scores is greater than 5 (but not both), assign grade 'B'.\n",
        "  * If both scores are 5 or less, assign grade 'C'."
      ]
    },
    {
      "cell_type": "code",
      "execution_count": 17,
      "id": "0c4648be",
      "metadata": {
        "id": "0c4648be",
        "outputId": "30107a7a-77d3-4b72-e9cb-371f8ce8536d"
      },
      "outputs": [
        {
          "data": {
            "text/plain": [
              "{'Rick': 'A', 'Michonne': 'C', 'Carol': 'B', 'Daryl': 'M'}"
            ]
          },
          "execution_count": 17,
          "metadata": {},
          "output_type": "execute_result"
        }
      ],
      "source": [
        "def assign_grades( midterm , final ) : \n",
        "    # define dict of each status\n",
        "    attend_midterm_student = []\n",
        "    attend_final_student = []\n",
        "    \n",
        "    pass_half_midterm = {}\n",
        "    pass_half_final = {}\n",
        "    \n",
        "    # check each key_value in dict if ever in dict\n",
        "    for eachStu in midterm : \n",
        "        if midterm[ eachStu ] > 5 : \n",
        "            pass_half_midterm[ eachStu ] = True\n",
        "\n",
        "        else : \n",
        "            pass_half_midterm[ eachStu ] = False\n",
        "                    \n",
        "        attend_midterm_student.append(eachStu)   \n",
        "         \n",
        "    for eachStu in final : \n",
        "        if final[ eachStu ] > 5 : \n",
        "            pass_half_final[ eachStu ] = True\n",
        "\n",
        "        else : \n",
        "            pass_half_final[ eachStu ] = False\n",
        "\n",
        "        attend_final_student.append(eachStu)\n",
        "            \n",
        "    # check status if pass each requirement\n",
        "    student_grades = {}\n",
        "    \n",
        "    ## because everyone attend midterm exam , so we can loop over student name in attend_midterm\n",
        "    students_list = attend_midterm_student\n",
        "    \n",
        "    for each_student in students_list : \n",
        "        # Attend both exam : A or B or C\n",
        "        \n",
        "        if (each_student in attend_midterm_student and each_student in attend_final_student) : \n",
        "            ## A requirement\n",
        "            if pass_half_midterm[each_student] == True and pass_half_final[each_student] == True : \n",
        "                student_grades[ each_student ] = \"A\"\n",
        "            ## B Requirement\n",
        "            elif pass_half_midterm[each_student] == True or pass_half_final[each_student] == True : \n",
        "                student_grades[ each_student ] = \"B\"  \n",
        "            ## C Requirement\n",
        "            elif pass_half_midterm[each_student] == False or pass_half_final[each_student] == False : \n",
        "                student_grades[ each_student ] = \"C\"\n",
        "            \n",
        "        else : ## M Requirement\n",
        "            student_grades[ each_student ] = \"M\"\n",
        "        \n",
        "    # return dict containing grades\n",
        "    return student_grades\n",
        "    \n",
        "midterm = {'Rick': 5.5, 'Michonne': 2, 'Carol': 9, 'Daryl': 7}\n",
        "final = {'Rick': 6, 'Michonne': 5, 'Carol': 4}\n",
        "\n",
        "assign_grades(midterm, final)\n",
        "# {'Daryl': 'M', 'Rick': 'A', 'Michonne': 'C', 'Carol': 'B'}"
      ]
    }
  ],
  "metadata": {
    "colab": {
      "provenance": []
    },
    "kernelspec": {
      "display_name": "chatrpholvenv",
      "language": "python",
      "name": "python3"
    },
    "language_info": {
      "codemirror_mode": {
        "name": "ipython",
        "version": 3
      },
      "file_extension": ".py",
      "mimetype": "text/x-python",
      "name": "python",
      "nbconvert_exporter": "python",
      "pygments_lexer": "ipython3",
      "version": "3.13.6"
    }
  },
  "nbformat": 4,
  "nbformat_minor": 5
}
