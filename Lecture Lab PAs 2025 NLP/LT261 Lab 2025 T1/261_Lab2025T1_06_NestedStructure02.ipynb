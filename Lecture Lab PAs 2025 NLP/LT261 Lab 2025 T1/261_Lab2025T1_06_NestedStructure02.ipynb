{
  "cells": [
    {
      "cell_type": "markdown",
      "id": "c57314f9",
      "metadata": {
        "id": "c57314f9"
      },
      "source": [
        "# 2209261 Basic Programming for NLP\n",
        "## Lecture 06 : Nested Structure 02\n",
        "## Done by : 6730084521 Chatrphol Ovanonchai"
      ]
    },
    {
      "cell_type": "markdown",
      "id": "6a8d2fd4",
      "metadata": {
        "id": "6a8d2fd4"
      },
      "source": [
        "### Q1. รายชื่อติดต่อ\n",
        "จงเขียนโปรแกรมที่สร้างลิสต์ของทูเปิล (name, line id) จากดิกชันนารีซ้อนใน โดยเรียงลำดับตามอักษรของชื่อ"
      ]
    },
    {
      "cell_type": "code",
      "execution_count": 3,
      "id": "8dd305fa",
      "metadata": {
        "id": "8dd305fa",
        "outputId": "53d02f62-cd69-4665-a4a1-5d87def3fdb6"
      },
      "outputs": [
        {
          "data": {
            "text/plain": [
              "\"\\n[('Alex', 'alexcool'),\\n ('Bo', 'bobo'),\\n ('Chris', 'chrissie'),\\n ('Doug', 'dougd')]\\n\""
            ]
          },
          "execution_count": 3,
          "metadata": {},
          "output_type": "execute_result"
        }
      ],
      "source": [
        "def list_contact(contacts):\n",
        "    # create empty dict for storing LineID info\n",
        "    line_id_info = {}\n",
        "    \n",
        "    # get name , dict of info first\n",
        "    for name , dict_info in contacts.items() : \n",
        "        for key , value in dict_info.items() : \n",
        "            # get value (line id) from \"line\" key\n",
        "            if key == \"line\" : \n",
        "                # create key:value\n",
        "                line_id_info[ name ] = value\n",
        "                \n",
        "    # after finish all info , return dict\n",
        "    return list(line_id_info) # convert back into list (will get list of tuples automatically)\n",
        "\n",
        "list_contact({\n",
        "    'Alex' : {'phone': '123-456-789', 'line': 'alexcool'},\n",
        "    'Bo': {'home phone': '111-222-3333', 'line': 'bobo'},\n",
        "    'Chris': {'phone': '444-555-6666', 'line': 'chrissie'},\n",
        "    'Doug': {'mobile phone': '444-555-6666', 'line': 'dougd'}}) \n",
        "\n",
        "\"\"\"\n",
        "[('Alex', 'alexcool'),\n",
        " ('Bo', 'bobo'),\n",
        " ('Chris', 'chrissie'),\n",
        " ('Doug', 'dougd')]\n",
        "\"\"\""
      ]
    },
    {
      "cell_type": "markdown",
      "id": "d6d8a074",
      "metadata": {
        "id": "d6d8a074"
      },
      "source": [
        "### Q2. Name to age - Age to name"
      ]
    },
    {
      "cell_type": "code",
      "execution_count": null,
      "id": "16b0a7c2",
      "metadata": {
        "id": "16b0a7c2",
        "outputId": "587aa32f-77eb-4d1d-c986-a0af774c4299"
      },
      "outputs": [
        {
          "data": {
            "text/plain": [
              "{33: ['ชญา'], 34: ['อรรถพล', 'โนโซมิ']}"
            ]
          },
          "execution_count": 4,
          "metadata": {},
          "output_type": "execute_result"
        }
      ],
      "source": [
        "name_to_age = {'ชญา': 33,\n",
        "         'อรรถพล': 34,\n",
        "         'โนโซมิ': 34}\n",
        "\n",
        "def transform_to_age_to_name(name_to_age):\n",
        "    # define dict \n",
        "    age_name_dict = {}\n",
        "    # for loop then check if info ever in list\n",
        "    for name , age in name_to_age.items() : \n",
        "        if age in age_name_dict : # ever in list , concat element into list\n",
        "            age_name_dict[ age ].append( name )\n",
        "        else : # never in dict\n",
        "            age_name_dict[ age ] = [ name ]\n",
        "    # end loop , return dict\n",
        "    return age_name_dict\n",
        "\n",
        "transform_to_age_to_name(name_to_age) "
      ]
    },
    {
      "cell_type": "markdown",
      "id": "01fc1bef",
      "metadata": {
        "id": "01fc1bef"
      },
      "source": [
        "### Q3. Combine Dictionary\n",
        "จงเขียนฟังก์ชัน combine_dicts ที่รวมดิกชันนารีสองอันเข้าไว้ด้วยกัน โดยที่ดิกชันนารีมีคีย์และแวลูเป็นสตริง ฟังก์ชันต้องคืนค่าดิกชันนารีที่มีคีย์เป็นสตริงและแวลูเป็นลิสต์ของสตริง เช่น"
      ]
    },
    {
      "cell_type": "code",
      "execution_count": 1,
      "id": "a138bf79",
      "metadata": {
        "id": "a138bf79",
        "outputId": "ccf9f2a4-e81a-4d11-8cc3-d0627a4de8e6"
      },
      "outputs": [
        {
          "data": {
            "text/plain": [
              "{'a': ['ant', 'ant'], 'b': ['bird'], 'c': ['caterpillar', 'cat'], 'd': ['dog']}"
            ]
          },
          "execution_count": 1,
          "metadata": {},
          "output_type": "execute_result"
        }
      ],
      "source": [
        "def combine_dicts(d1, d2):\n",
        "    # create dict\n",
        "    dict_abbrev = {} \n",
        "    \n",
        "    # check if abbrev char in dict in dict1\n",
        "    for abbWord , word in d1.items() : \n",
        "        if abbWord in dict_abbrev : # add element \n",
        "            dict_abbrev[ abbWord ].append(word)\n",
        "        else : \n",
        "            dict_abbrev[ abbWord ] = [word]\n",
        "            \n",
        "    # check if abbrev char in dict in dict2\n",
        "    for abbWord , word in d2.items() : \n",
        "        if abbWord in dict_abbrev : # add element \n",
        "            dict_abbrev[ abbWord ].append(word)\n",
        "        else : \n",
        "            dict_abbrev[ abbWord ] = [word]  \n",
        "                 \n",
        "    # return dict\n",
        "    return dict_abbrev\n",
        "\n",
        "dict1 = {'a': 'ant', 'b': 'bird', 'c':'caterpillar'}\n",
        "dict2 = {'a': 'ant', 'c': 'cat', 'd': 'dog'}\n",
        "combine_dicts(dict1 , dict2) # {'a': ['ant', 'ant'], 'b': ['bird'], 'c': ['caterpillar', 'cat'], 'd': ['dog']}"
      ]
    },
    {
      "cell_type": "markdown",
      "id": "ae6cc608",
      "metadata": {
        "id": "ae6cc608"
      },
      "source": [
        "### Q4. Get an average score\n",
        "\n",
        "write a python function to get average score for each student and return a dictionary of average score.\n"
      ]
    },
    {
      "cell_type": "code",
      "execution_count": 3,
      "id": "5f61ae99",
      "metadata": {
        "id": "5f61ae99",
        "outputId": "d465ebac-b181-4c31-890a-8ec8682ee08b"
      },
      "outputs": [
        {
          "name": "stdout",
          "output_type": "stream",
          "text": [
            "{'Student1': 84.33333333333333, 'Student2': 87.66666666666667, 'Student3': 76.66666666666667}\n"
          ]
        }
      ],
      "source": [
        "grades = {\n",
        "    'Student1': {'Math': 90, 'Science': 85, 'English': 78},\n",
        "    'Student2': {'Math': 95, 'Science': 80, 'English': 88},\n",
        "    'Student3': {'Math': 70, 'Science': 75, 'English': 85},\n",
        "}\n",
        "\n",
        "def getAverageScore(grades):\n",
        "    # create dict storing scores\n",
        "    scoreDict = {} \n",
        "    # check if student in dict\n",
        "    for name , dictScore in grades.items() : \n",
        "        # define total score first\n",
        "        totalScore = 0\n",
        "        countSubject = 0  \n",
        "        for subj , score in dictScore.items() : \n",
        "            totalScore += score # add total score\n",
        "            countSubject += 1   # get count subject \n",
        "        # end loop , get average\n",
        "        averageScore = totalScore / countSubject\n",
        "        \n",
        "        # check if student in grades\n",
        "        scoreDict[ name ] = averageScore\n",
        "    # return dict\n",
        "    return scoreDict\n",
        "\n",
        "print(getAverageScore(grades)) # {'Student1': 84.33333333333333, 'Student2': 87.66666666666667, 'Student3': 76.66666666666667}"
      ]
    },
    {
      "cell_type": "markdown",
      "id": "91d63931",
      "metadata": {
        "id": "91d63931"
      },
      "source": [
        "### Q5. Get User comment\n",
        "\n",
        "Write a Python function to transform the social_media nested dictionary into an user dictionary where it record all their comments."
      ]
    },
    {
      "cell_type": "code",
      "execution_count": 4,
      "id": "cd4907f8",
      "metadata": {
        "id": "cd4907f8",
        "outputId": "00d2d0b6-02a0-4f63-998f-230e2ec2b894"
      },
      "outputs": [
        {
          "name": "stdout",
          "output_type": "stream",
          "text": [
            "{'User1': [{'post_id': '1', 'comment': 'Looks fun!'}, {'post_id': '2', 'comment': 'awesome run'}], 'User2': [{'post_id': '1', 'comment': 'I love the beach too!'}, {'post_id': '2', 'comment': 'nice workout'}], 'User3': [{'post_id': '2', 'comment': 'Congrats!'}], 'User4': [{'post_id': '2', 'comment': 'Amazing achievement!'}]}\n"
          ]
        }
      ],
      "source": [
        "social_media = {\n",
        "    'Post1': {\n",
        "        'content': 'Had a great day at the beach!',\n",
        "        'comments': [\n",
        "            {'user_ID': 'User1', 'comment': 'Looks fun!'},\n",
        "            {'user_ID': 'User2', 'comment': 'I love the beach too!'}\n",
        "        ],\n",
        "        'likes': 120\n",
        "    },\n",
        "    'Post2': {\n",
        "        'content': 'Just finished a marathon!',\n",
        "        'comments': [\n",
        "            {'user_ID': 'User1', 'comment': 'awesome run'},\n",
        "            {'user_ID': 'User2', 'comment': 'nice workout'},\n",
        "            {'user_ID': 'User3', 'comment': 'Congrats!'},\n",
        "            {'user_ID': 'User4', 'comment': 'Amazing achievement!'}\n",
        "        ],\n",
        "        'likes': 200\n",
        "    }\n",
        "}\n",
        "\n",
        "def getUserComment(social_media):\n",
        "    infoUser = {}\n",
        "    for postNum , postStatus in social_media.items() : \n",
        "        # slice post_id\n",
        "        post_id = postNum[-1:]\n",
        "        # for loop only on comments dict\n",
        "        for eachComment in postStatus['comments'] : # postStatus['comments'] = list\n",
        "            # define user_id , comment\n",
        "            user_id = eachComment['user_ID']\n",
        "            comment = eachComment['comment']\n",
        "            \n",
        "            # check if user ever in dict\n",
        "            if user_id not in infoUser :\n",
        "                infoUser[ user_id ] = []\n",
        "            # add every comment in list\n",
        "            infoUser[ user_id ].append( {\"post_id\" : post_id , \"comment\" : comment} )\n",
        "                \n",
        "    # return dict\n",
        "    return infoUser\n",
        "    \n",
        "print(getUserComment(social_media))\n",
        "# {'User1': [{'post_ID': '1', 'comment': 'Looks fun!'}, {'post_ID': '2', 'comment': 'awesome run'}], 'User2': [{'post_ID': '1', 'comment': 'I love the beach too!'}, {'post_ID': '2', 'comment': 'nice workout'}], 'User3': [{'post_ID': '2', 'comment': 'Congrats!'}], 'User4': [{'post_ID': '2', 'comment': 'Amazing achievement!'}]}"
      ]
    }
  ],
  "metadata": {
    "colab": {
      "provenance": []
    },
    "kernelspec": {
      "display_name": "3.13.5",
      "language": "python",
      "name": "python3"
    },
    "language_info": {
      "codemirror_mode": {
        "name": "ipython",
        "version": 3
      },
      "file_extension": ".py",
      "mimetype": "text/x-python",
      "name": "python",
      "nbconvert_exporter": "python",
      "pygments_lexer": "ipython3",
      "version": "3.13.5"
    }
  },
  "nbformat": 4,
  "nbformat_minor": 5
}
