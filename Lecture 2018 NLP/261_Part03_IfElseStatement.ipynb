{
 "cells": [
  {
   "cell_type": "markdown",
   "id": "675b3899",
   "metadata": {},
   "source": [
    "# **2209261 Basic Programming NLP** Lecture & Exercises\n",
    "## Part 3 : If-Else Statements\n",
    "### By : Nine #2 Electrical Engineering 6730084521\n",
    "### Year 2 , Semester 1 , AY 2025 , Chulalongkorn University"
   ]
  },
  {
   "cell_type": "markdown",
   "id": "4b619130",
   "metadata": {},
   "source": [
    "## Lecture Part 3 : If-Else Statements"
   ]
  },
  {
   "cell_type": "code",
   "execution_count": 3,
   "id": "77495823",
   "metadata": {},
   "outputs": [
    {
     "name": "stdout",
     "output_type": "stream",
     "text": [
      "False\n",
      "True\n"
     ]
    }
   ],
   "source": [
    "# comparison\n",
    "print( 5 == 4 )\n",
    "s1 = 'hello' ; s2 = 'world' \n",
    "print(len(s1) <= len(s2))"
   ]
  },
  {
   "cell_type": "code",
   "execution_count": 4,
   "id": "c0a5453f",
   "metadata": {},
   "outputs": [
    {
     "data": {
      "text/plain": [
       "True"
      ]
     },
     "execution_count": 4,
     "metadata": {},
     "output_type": "execute_result"
    }
   ],
   "source": [
    "## define function for checking string\n",
    "def is_string_right_length(text) :\n",
    "    # docstring\n",
    "    \"\"\" \n",
    "    Return Boolean indicating if length of text <= 5\n",
    "    \"\"\"\n",
    "    if 2 <= len(text) <= 5 : # ... >= 2 and ... <= 5\n",
    "        return True\n",
    "    else : \n",
    "        return False\n",
    "        print(\"Not the right length\") # this cmd wont do cuz return already\n",
    "        \n",
    "# call function\n",
    "is_string_right_length('hello')"
   ]
  },
  {
   "cell_type": "code",
   "execution_count": null,
   "id": "6dc82815",
   "metadata": {},
   "outputs": [
    {
     "name": "stdout",
     "output_type": "stream",
     "text": [
      "99 balloons\n"
     ]
    },
    {
     "data": {
      "text/plain": [
       "1"
      ]
     },
     "execution_count": 9,
     "metadata": {},
     "output_type": "execute_result"
    }
   ],
   "source": [
    "# concatenating string should do with string and string \n",
    "num = 99 ; text = ' balloons'\n",
    "# num + text # will be error cuz different data types\n",
    "print(str(num) + text)\n",
    "\n",
    "# flooring number by int()\n",
    "int(999.99) # 999\n",
    "\n",
    "## boolean string\n",
    "b = True ; str(b) # 'True'\n",
    "int(b) # 1"
   ]
  },
  {
   "cell_type": "code",
   "execution_count": 14,
   "id": "7b8121c7",
   "metadata": {},
   "outputs": [
    {
     "name": "stdout",
     "output_type": "stream",
     "text": [
      "4.812184355372417\n",
      "5.859874482048838\n",
      "56\n"
     ]
    }
   ],
   "source": [
    "# some modules we have to import \n",
    "\n",
    "## 1 : Math function\n",
    "import math\n",
    "print(math.log(123)) # log(e) of 123 = 4.812...\n",
    "\n",
    "# ask for function\n",
    "# ?math.asin -> Return the arc sine (measured in radians) of x.\n",
    "\n",
    "# math constants \n",
    "print(math.pi + math.e)\n",
    "\n",
    "## 2 : Random module (frequently used in Probability & Statistics)\n",
    "import random\n",
    "\n",
    "# random integers\n",
    "print( random.randint(1 , 100) )"
   ]
  },
  {
   "cell_type": "code",
   "execution_count": 17,
   "id": "a18c17da",
   "metadata": {},
   "outputs": [
    {
     "data": {
      "text/plain": [
       "'Cocktail'"
      ]
     },
     "execution_count": 17,
     "metadata": {},
     "output_type": "execute_result"
    }
   ],
   "source": [
    "## String splicing \n",
    "mytext = \"Cocktail - น้ำตาสุดท้าย\"\n",
    "mytext[1] # 'C'\n",
    "mytext[0:8] # slicing 0 to 7 : 'Cocktail'"
   ]
  },
  {
   "cell_type": "code",
   "execution_count": 30,
   "id": "ba63f3ae",
   "metadata": {},
   "outputs": [
    {
     "name": "stdout",
     "output_type": "stream",
     "text": [
      "helloHELLO\n",
      "2\n"
     ]
    }
   ],
   "source": [
    "# string manipulation\n",
    "mytext = 'Hello'\n",
    "print( mytext.lower() + mytext.upper() ) \n",
    "mytext # original string didnt change\n",
    "\n",
    "## check if string is lower or is upper ? \n",
    "mytext[0].islower() # check if that car is lower\n",
    "mytext.islower() # if checking \"string\" , will check if all characters are lowercase (if one of em upper , return False)\n",
    "\n",
    "## check if charstring is alphabet\n",
    "mytext[0].isalpha()\n",
    "\n",
    "## find() command\n",
    "mytext[ mytext.find('l') ] # find pos which contains 'l' , get string from pos in mytext\n",
    "# Note : find() will return first-found characters !! Ex : ll at pos 3,4 -> will get 3 as result\n",
    "\n",
    "## count characters\n",
    "print('compprog'.count('p'))"
   ]
  },
  {
   "cell_type": "code",
   "execution_count": null,
   "id": "075f14ac",
   "metadata": {},
   "outputs": [
    {
     "name": "stdout",
     "output_type": "stream",
     "text": [
      "Number Gueesing game !!\n",
      "Poor boi , Try it next time :< \n"
     ]
    }
   ],
   "source": [
    "## guessing number funtion\n",
    "import random\n",
    "\n",
    "def guessing_number() : \n",
    "    # define if guessing corrct\n",
    "    guess_correct = False \n",
    "    \n",
    "    random_number = random.randint(0 , 100)\n",
    "    print(\"Number Guessing game !!\") # interact with users\n",
    "    \n",
    "    number = int(input(\"Please enter number from 1 - 100 : \")) # number = int\n",
    "    \n",
    "    if number == guessing_number : \n",
    "        print(\"Congratulations , you guessed right number\")\n",
    "        guess_correct = True\n",
    "        return guess_correct\n",
    "    else : \n",
    "        print(\"Poor boi , Try it next time :< \")\n",
    "        return guess_correct # False\n",
    "        \n",
    "# call functions\n",
    "guessing_number()"
   ]
  },
  {
   "cell_type": "code",
   "execution_count": 35,
   "id": "ed4b7790",
   "metadata": {},
   "outputs": [
    {
     "name": "stdout",
     "output_type": "stream",
     "text": [
      "<html>\n",
      "\t<body>\n",
      "\t\t<welcome>\"Hello , Chatrphol\"</welcome>\n",
      "\t</body>\n",
      "<html>\n"
     ]
    }
   ],
   "source": [
    "# another function of string\n",
    "def make_HTML(text_body , tag_name) : \n",
    "    # define headers\n",
    "    html_frame = \"\"\n",
    "    \n",
    "    body_line = '\\t\\t' + '<' + tag_name + '>' + '\"' + text_body + '\"' + '</' + tag_name + '>' + '\\n'\n",
    "    html_frame = '<html>\\n' + '\\t<body>\\n' + body_line + '\\t</body>\\n' + '<html>'\n",
    "    \n",
    "    # print out html frame\n",
    "    print(html_frame)\n",
    "   \n",
    "# call functions \n",
    "make_HTML('Hello , Chatrphol' , 'welcome')"
   ]
  },
  {
   "cell_type": "code",
   "execution_count": 37,
   "id": "8e5bb865",
   "metadata": {},
   "outputs": [
    {
     "data": {
      "text/plain": [
       "4"
      ]
     },
     "execution_count": 37,
     "metadata": {},
     "output_type": "execute_result"
    }
   ],
   "source": [
    "# Application (String Iteration) : count vowels\n",
    "\n",
    "def is_vowel(char) : \n",
    "    if char in 'aeiouAEIOU' : \n",
    "        return True\n",
    "    else : \n",
    "        return False\n",
    "    \n",
    "def count_vowel_in_text(text) :\n",
    "    # define count\n",
    "    count_vowels = 0\n",
    "    # for loop\n",
    "    for character in text :\n",
    "        if is_vowel(character) == True :\n",
    "            count_vowels += 1\n",
    "    # return value\n",
    "    return count_vowels\n",
    "\n",
    "# call functions \n",
    "count_vowel_in_text(\"Acapella\")"
   ]
  },
  {
   "cell_type": "code",
   "execution_count": 43,
   "id": "c7aa3675",
   "metadata": {},
   "outputs": [
    {
     "data": {
      "text/plain": [
       "'CO'"
      ]
     },
     "execution_count": 43,
     "metadata": {},
     "output_type": "execute_result"
    }
   ],
   "source": [
    "# Another example of string iteration\n",
    "def make_abbreviated_name(full_name) : \n",
    "    '''\n",
    "    make_abbreviated_name(\"Chatrphol Ovanonchai\")\n",
    "    >> 'CO'\n",
    "    '''\n",
    "    # define string\n",
    "    abbrev_out = \"\"\n",
    "    \n",
    "    # for loop get uppercase\n",
    "    for each_character in full_name : \n",
    "        if ( each_character.isupper() == True ) :\n",
    "            abbrev_out += each_character\n",
    "            \n",
    "    # get two first characters\n",
    "    return abbrev_out[0:3]\n",
    "    \n",
    "make_abbreviated_name(\"Chatrphol Ovanonchai\")"
   ]
  },
  {
   "cell_type": "markdown",
   "id": "aaf5cc4f",
   "metadata": {},
   "source": [
    "## Exercise Part 3 : If-Else Statements\n",
    "importing module, boolean, type conversion, string formatting"
   ]
  },
  {
   "cell_type": "markdown",
   "id": "bdf599c0",
   "metadata": {},
   "source": [
    "## 261_P3_01 Make HTML Using Format\n",
    "ทำข้อ `make_HTML` จากสัปดาห์ที่แล้วอีกครั้งโดยใช้คำสั่ง `S.format`"
   ]
  },
  {
   "cell_type": "code",
   "execution_count": 7,
   "id": "7a39a665",
   "metadata": {},
   "outputs": [
    {
     "name": "stdout",
     "output_type": "stream",
     "text": [
      "<html>\n",
      "\t<body>\n",
      "\t\t<p>\"Hello Python\"</p>\n",
      "\t</body>\n",
      "</html>\n",
      "\n"
     ]
    }
   ],
   "source": [
    "def make_HTML(text, tag_name):\n",
    "    return \"\"\"<html>\n",
    "\\t<body>\n",
    "\\t\\t<{1}>\"{0}\"</{1}>\n",
    "\\t</body>\n",
    "</html>\n",
    "\"\"\".format(text , tag_name)\n",
    "        \n",
    "# call function\n",
    "print( make_HTML('Hello Python' , 'p') )"
   ]
  },
  {
   "cell_type": "markdown",
   "id": "be30ad11",
   "metadata": {},
   "source": [
    "# 261_P3_Problem_02: Word Distortion\n",
    "\n",
    "## 261_P3_02_01 Word Distortion Part I\n",
    "Write a function that randomly distorts (แปลว่า บิดเบือน) a word such that each character has 50/50 chance of being deleted. Then try running your program on 4-5 words with different lengths. The function should return a string."
   ]
  },
  {
   "cell_type": "code",
   "execution_count": 53,
   "id": "4463c843",
   "metadata": {},
   "outputs": [
    {
     "name": "stdout",
     "output_type": "stream",
     "text": [
      "hlo\n",
      "world\n",
      "capa\n",
      "dioti\n",
      "ythn\n"
     ]
    }
   ],
   "source": [
    "# process : ramdom chance on each character in string (chace of getting distorted/deleted)\n",
    "    # if distorted_chance >= 50 -> distorted/deleted\n",
    "    # else will still same\n",
    "    \n",
    "import random # ramdom library\n",
    "\n",
    "def word_distortion_normalized(word) :\n",
    "    # define string distorted already\n",
    "    distorted_string = \"\" \n",
    "    \n",
    "    for each_character in word : \n",
    "        # random possibility between 0 and 1\n",
    "        distorted_possibility = random.randint(0 , 100) # or using random.random(0 , 1)\n",
    "        \n",
    "        if 50 <= distorted_possibility <= 100 :\n",
    "            # distort string\n",
    "            pass\n",
    "        \n",
    "        else : # still same\n",
    "            distorted_string += each_character\n",
    "            \n",
    "    # end loop , return distorted_string\n",
    "    return distorted_string\n",
    "\n",
    "# call function\n",
    "print(word_distortion_normalized(\"hello\"))\n",
    "print(word_distortion_normalized(\"world\"))\n",
    "print(word_distortion_normalized(\"acapella\"))\n",
    "print(word_distortion_normalized(\"distortion\"))\n",
    "print(word_distortion_normalized(\"python\"))"
   ]
  },
  {
   "cell_type": "markdown",
   "id": "73bd71fa",
   "metadata": {},
   "source": [
    "## 261_P3_02_02 Word Distortion Part II\n",
    "Write a function like `Word Distortion Part 1` except that the first and the last characters are NOT distorted."
   ]
  },
  {
   "cell_type": "code",
   "execution_count": 63,
   "id": "40ec90e1",
   "metadata": {},
   "outputs": [
    {
     "name": "stdout",
     "output_type": "stream",
     "text": [
      "hllo\n",
      "wrld\n",
      "aaela\n",
      "distn\n",
      "pn\n"
     ]
    }
   ],
   "source": [
    "import random\n",
    "\n",
    "def word_distortion_NIFL( word ) : \n",
    "    # define string\n",
    "    distorted_string = \"\"\n",
    "    # for loop , check distortion chance\n",
    "    for pos in range(len(word)) : \n",
    "        # define distortion possibility chance\n",
    "        distorted_possibility = random.randint(0 , 100)\n",
    "        \n",
    "        if ( (50 <= distorted_possibility <= 100) ) : \n",
    "            # distort string -> check if first or last ?\n",
    "            if (pos == 0 or pos == len(word) - 1) : \n",
    "                distorted_string += word[pos]\n",
    "            else : \n",
    "                pass # distort string\n",
    "                \n",
    "        else : \n",
    "            # still same\n",
    "            distorted_string += word[pos]\n",
    "            \n",
    "    # end loop , return string\n",
    "    return distorted_string\n",
    "\n",
    "# call function\n",
    "print(word_distortion_NIFL(\"hello\"))\n",
    "print(word_distortion_NIFL(\"world\"))\n",
    "print(word_distortion_NIFL(\"acapella\"))\n",
    "print(word_distortion_NIFL(\"distortion\"))\n",
    "print(word_distortion_NIFL(\"python\"))"
   ]
  },
  {
   "cell_type": "markdown",
   "id": "90aebccb",
   "metadata": {},
   "source": [
    "## 261_P3_02_03 Word Distortion Part III\n",
    "\n",
    "Write a function that randomly distorts a word such that each character has a 50/50 chance of being replaced by a random English letter. Then try running your program on 4-5 words with different lengths. The function should return a string"
   ]
  },
  {
   "cell_type": "code",
   "execution_count": null,
   "id": "3cb3b401",
   "metadata": {},
   "outputs": [
    {
     "data": {
      "text/plain": [
       "'voqgdrbng Diwnekhcrd'"
      ]
     },
     "execution_count": 69,
     "metadata": {},
     "output_type": "execute_result"
    }
   ],
   "source": [
    "import random\n",
    "\n",
    "def word_distortion_replaced_by_alphabet(word) : \n",
    "    # define string\n",
    "    distorted_string = \"\"\n",
    "    lowercase_alphabet_string = 'abcdefghijklmnopqrstuvwxyz'\n",
    "    \n",
    "    # for loop , distort string\n",
    "    for each_character in word : \n",
    "        # define possibility & pos\n",
    "        distorted_possibility = random.randint(0 , 100) # define chance\n",
    "        random_pos_alphabet = random.randint(0 , 25)\n",
    "        \n",
    "        # check condition\n",
    "        if ( (50 <= distorted_possibility <= 100) ) : \n",
    "            # get alphabet from random_pos_alphabet\n",
    "            alphabet = lowercase_alphabet_string[ random_pos_alphabet ]\n",
    "            distorted_string += alphabet\n",
    "        else : \n",
    "            # still same\n",
    "            distorted_string += each_character\n",
    "    \n",
    "    # end loop , return string\n",
    "    return distorted_string\n",
    "        \n",
    "# call function\n",
    "word_distortion_replaced_by_alphabet(\"Hong Kong Disneyland\")"
   ]
  },
  {
   "cell_type": "markdown",
   "id": "14bb9da1",
   "metadata": {},
   "source": [
    "## 261_P3_02_04 Word Distortion Part IV\n",
    "Write a function like `Word Distortion Part III` except that the first and the last characters are not distorted."
   ]
  },
  {
   "cell_type": "code",
   "execution_count": 74,
   "id": "93df32a2",
   "metadata": {},
   "outputs": [
    {
     "data": {
      "text/plain": [
       "'Hunggxongqyinneqpand'"
      ]
     },
     "execution_count": 74,
     "metadata": {},
     "output_type": "execute_result"
    }
   ],
   "source": [
    "import random\n",
    "\n",
    "def word_distortion_replaced_by_alphabet_NIFL(word) : \n",
    "    # define string\n",
    "    distorted_string = \"\"\n",
    "    alphabet = \"abcdefghijklmnopqrstuvwxyz\"\n",
    "    \n",
    "    # for loop , distort character\n",
    "    for pos in range(len(word)) : \n",
    "        # define random variables\n",
    "        distorted_possibility = random.randint(0 , 100)\n",
    "        pos_alphabet = random.randint(0 , 25)\n",
    "        \n",
    "        # check condition\n",
    "        if ( 50 <= distorted_possibility <= 100 ) :\n",
    "            # check if front/right ?\n",
    "            if ( pos == 0 or pos == len(word) - 1 ) : \n",
    "                # still same\n",
    "                distorted_string += word[pos]\n",
    "            else : \n",
    "                # distort character\n",
    "                distorted_string += alphabet[ pos_alphabet ]\n",
    "        else : \n",
    "            # still same\n",
    "            distorted_string += word[pos]\n",
    "            \n",
    "    # return distorted string\n",
    "    return distorted_string\n",
    "        \n",
    "# call function\n",
    "word_distortion_replaced_by_alphabet_NIFL(\"Hong Kong Disneyland\")"
   ]
  },
  {
   "cell_type": "markdown",
   "id": "9dc99614",
   "metadata": {},
   "source": [
    "## 261_P3_02_05 Word DIstortion Part V\n",
    "\n",
    "Write a function that randomly distorts a word such that each vowel has a 50/50 chance of being replaced by a random English vowel. Then try running your program on 4-5 words with different lengths. The function should return a string. "
   ]
  },
  {
   "cell_type": "code",
   "execution_count": 91,
   "id": "8b3e8931",
   "metadata": {},
   "outputs": [
    {
     "data": {
      "text/plain": [
       "'iine uoni uusneyiano'"
      ]
     },
     "execution_count": 91,
     "metadata": {},
     "output_type": "execute_result"
    }
   ],
   "source": [
    "import random\n",
    "\n",
    "def word_distortion_replaced_by_vowel(word) : \n",
    "    # define string\n",
    "    distorted_string = \"\"\n",
    "    vowel = 'aeiou'\n",
    "    \n",
    "    # for loop , distort string\n",
    "    for each_character in word : \n",
    "        # define possibility & pos\n",
    "        distorted_possibility = random.randint(0 , 100) \n",
    "        pos_vowel = random.randint(0 , 4) \n",
    "        \n",
    "        # check condition\n",
    "        if ( (50 <= distorted_possibility <= 100) ) : \n",
    "            # get alphabet from random_pos_alphabet\n",
    "            distorted_string += vowel[ pos_vowel ]\n",
    "        else : \n",
    "            # still same\n",
    "            distorted_string += each_character\n",
    "    \n",
    "    # end loop , return string\n",
    "    return distorted_string\n",
    "        \n",
    "# call function\n",
    "word_distortion_replaced_by_vowel(\"Hong Kong Disneyland\")"
   ]
  }
 ],
 "metadata": {
  "kernelspec": {
   "display_name": "chatrpholenv",
   "language": "python",
   "name": "python3"
  },
  "language_info": {
   "codemirror_mode": {
    "name": "ipython",
    "version": 3
   },
   "file_extension": ".py",
   "mimetype": "text/x-python",
   "name": "python",
   "nbconvert_exporter": "python",
   "pygments_lexer": "ipython3",
   "version": "3.13.5"
  }
 },
 "nbformat": 4,
 "nbformat_minor": 5
}
