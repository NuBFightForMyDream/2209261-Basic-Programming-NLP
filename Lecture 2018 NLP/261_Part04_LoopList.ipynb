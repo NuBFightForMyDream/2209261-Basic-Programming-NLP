{
 "cells": [
  {
   "cell_type": "markdown",
   "id": "33046b31",
   "metadata": {},
   "source": [
    "# **2209261 Basic Programming NLP** Lecture & Exercises\n",
    "## Part 4 : Loop & List\n",
    "### By : Nine #2 Electrical Engineering 6730084521\n",
    "### Year 2 , Semester 1 , AY 2025 , Chulalongkorn University"
   ]
  },
  {
   "cell_type": "markdown",
   "id": "ea047ee9",
   "metadata": {},
   "source": [
    "## Lecture Part 4 : Loop & List"
   ]
  },
  {
   "cell_type": "code",
   "execution_count": 8,
   "id": "1b3fc3d8",
   "metadata": {},
   "outputs": [
    {
     "name": "stdout",
     "output_type": "stream",
     "text": [
      "['I', 'Like']\n"
     ]
    },
    {
     "data": {
      "text/plain": [
       "'gello'"
      ]
     },
     "execution_count": 8,
     "metadata": {},
     "output_type": "execute_result"
    }
   ],
   "source": [
    "# defining list\n",
    "sentence = [\"I\" , 'Like' , 'Engineering' , 'Arts']\n",
    "print( sentence[0:2] )\n",
    "\n",
    "# changing element in list\n",
    "sentence[1] = 'prefer' # -> sentence = ['I' , 'prefer' , 'Engineering' , 'Arts']\n",
    "\n",
    "# what if assign new value in string\n",
    "text = 'gello'\n",
    "# text[0] = 'h' # can't change to 'hello' directly => does not support item assignment\n",
    "text"
   ]
  },
  {
   "cell_type": "code",
   "execution_count": null,
   "id": "181457cb",
   "metadata": {},
   "outputs": [
    {
     "name": "stdout",
     "output_type": "stream",
     "text": [
      "['Computer', 'Hello', 'Electrical', 'Arts', 'prefer', 'I']\n",
      "True\n"
     ]
    }
   ],
   "source": [
    "## List Methods\n",
    "\n",
    "# adding elements into list\n",
    "sentence = [\"I\" , 'prefer' , 'Engineering' , 'Arts'] \n",
    "sentence.append('Hate')\n",
    "sentence.remove('Engineering') # sentence = ['I' , 'prefer' , 'Arts' , 'Hate']\n",
    "sentence\n",
    "\n",
    "# concating list together by extend()\n",
    "concat_list = ['Hello' , 'Computer']\n",
    "sentence.extend(concat_list)\n",
    "sentence\n",
    "\n",
    "# find element in list using index()\n",
    "sentence.index('prefer') # 1 bcz found at index 1 (if not found will return -1)\n",
    "sentence.insert(3 , 'Electrical') # insert element at (before) pos 3\n",
    "sentence\n",
    "\n",
    "# pop element\n",
    "sentence.pop(4) # pop index 4 ('Hate') -> returning popped element\n",
    "\n",
    "# reverse element\n",
    "sentence.reverse()\n",
    "print(sentence)\n",
    "\n",
    "# clear all elements using .clear()\n",
    "\n",
    "# check if what we want in element using \"in\"\n",
    "print('1' in '12345') # True"
   ]
  },
  {
   "cell_type": "code",
   "execution_count": 26,
   "id": "6f907654",
   "metadata": {},
   "outputs": [],
   "source": [
    "## Function Mapping\n",
    "\n",
    "# defining convert_to_plural function\n",
    "def convert_to_plural(word) : \n",
    "    if word[-1] == 's' : # ending with s -> added '-es' to word\n",
    "        return word + 'es'\n",
    "    elif word[-1] == 'y' : \n",
    "        return word[:-1] + 'ies' # change y to i then -es\n",
    "    else : \n",
    "        return word + 's'\n",
    "    \n",
    "    # or we can use this cmd for shorter cmds\n",
    "    # return word + 'es' if word[-1] == 's' elif word[-1] == 's' else word + 's'\n",
    "    \n",
    "# Note : we define function for only 1 word , what if we want to change all elements in list -> using map cmds\n",
    "# map(func_name , list_name) -> map each elemnt in list_name with func_name\n",
    "\n",
    "nouns = ['lion' , 'heart' , 'glass' , 'happy']\n",
    "\n",
    "plural_nouns = list( map(convert_to_plural , nouns) ) # map -> list\n",
    "plural_nouns\n",
    "\n",
    "# Or , we can use for loop appending element by calling function\n",
    "plurals = []\n",
    "for each_noun in nouns : \n",
    "    plurals.append( convert_to_plural(each_noun) )"
   ]
  },
  {
   "cell_type": "code",
   "execution_count": 39,
   "id": "d3f3f04a",
   "metadata": {},
   "outputs": [
    {
     "name": "stdout",
     "output_type": "stream",
     "text": [
      "['Head', 'Tail', 'Tail', 'Tail', 'Head', 'Tail', 'Tail', 'Head', 'Head', 'Head']\n"
     ]
    }
   ],
   "source": [
    "## Iterating over indices\n",
    "import random\n",
    "def coin_filp() : \n",
    "    # Note : random.random() returnes float between 0 and 1\n",
    "    head_possibility = random.random()\n",
    "    \n",
    "    if head_possibility > 0.5 : # if chamce > 0.5 -> got 'HEAD'\n",
    "        return 'Head'\n",
    "    else : \n",
    "        return 'Tail'\n",
    "    \n",
    "# append to list\n",
    "ten_rolls = [] ; head_possibility = []\n",
    "for count in range(10) :\n",
    "    ten_rolls.append( coin_filp() )\n",
    "\n",
    "# show output    \n",
    "print( ten_rolls )"
   ]
  },
  {
   "cell_type": "code",
   "execution_count": 40,
   "id": "98949889",
   "metadata": {},
   "outputs": [
    {
     "name": "stdout",
     "output_type": "stream",
     "text": [
      "['Data', 'implement', 'more', 'data', 'which', 'operations', 'be', 'a', 'and', 'complexity', 'operations.', 'a', 'is', 'implementation', 'space', 'an']\n"
     ]
    }
   ],
   "source": [
    "# Example of word tokenization\n",
    "def jump_words(text) : \n",
    "    # define list (of string) contains words\n",
    "    words = text.split()\n",
    "    # for loop , add jumped words to list\n",
    "    jumped_words = []\n",
    "    for count_words in range(len(words)) : \n",
    "        if count_words % 3 == 0 : \n",
    "            jumped_words.append( words[count_words] )\n",
    "    # end loop , return list\n",
    "    return jumped_words\n",
    "\n",
    "# call function\n",
    "data = \"\"\"\n",
    "Data structures can implement one or more particular abstract data types (ADT), \n",
    "which specify the operations that can be performed on a data structure and the computational complexity of those operations. \n",
    "In comparison, a data structure is a concrete implementation of the space provided by an ADT.\n",
    "\"\"\"\n",
    "print(jump_words(data)) "
   ]
  },
  {
   "cell_type": "code",
   "execution_count": null,
   "id": "34f717ec",
   "metadata": {},
   "outputs": [
    {
     "data": {
      "text/plain": [
       "\"the some a think lonely' world years old, I I'll be can I'll better\""
      ]
     },
     "execution_count": 6,
     "metadata": {},
     "output_type": "execute_result"
    }
   ],
   "source": [
    "# Example of adapting while loop : composing llyrics function\n",
    "import random \n",
    "\n",
    "def composing_lyrics_randomly(lyrics) : # lyrics = string of lyrics\n",
    "    \n",
    "    # define words list\n",
    "    words_list = lyrics.split()\n",
    "    random_words = []\n",
    "    found_secret_word = False # define boolean for checking if found secret word\n",
    "    \n",
    "    # using while loop until found the secret word 'better'\n",
    "    while (found_secret_word == False) : \n",
    "        # add random word to list \n",
    "        random_picked_word = random.choice(words_list)\n",
    "        random_words.append( random_picked_word ) # random choice from words_list then append to list\n",
    "        # update status\n",
    "        found_secret_word = (random_picked_word == 'better') # default = False\n",
    "        \n",
    "    # end loop , return list & join string\n",
    "    return ' '.join(random_words) # list -> string\n",
    "    \n",
    "# calling functions\n",
    "lyrics = \"\"\"\n",
    "Soon, I'll be 60 years old, my daddy got 61\n",
    "Remember life, and then your life becomes a better one\n",
    "I made a man so happy when I wrote a letter once\n",
    "I hope my children come and visit once or twice a month\n",
    "Soon, I'll be 60 years old, will I think the world is cold?\n",
    "Or will I have a lot of children who can warm me?\n",
    "Soon, I'll be 60 years old\n",
    "Soon, I'll be 60 years old, will I think the world is cold?\n",
    "Or will I have a lot of children who can warm me?\n",
    "Soon, I'll be 60 years old\n",
    "Once I was seven years old, my mama told me\n",
    "'Go make yourself some friends, or you'll be lonely'\n",
    "Once I was seven years old\n",
    "\n",
    "Once I was seven years old\n",
    "\"\"\"\n",
    "composing_lyrics_randomly(lyrics)\n"
   ]
  },
  {
   "cell_type": "code",
   "execution_count": 16,
   "id": "b9e5a557",
   "metadata": {},
   "outputs": [
    {
     "data": {
      "text/plain": [
       "['(ADT),---which',\n",
       " 'Data---structures',\n",
       " 'In---comparison,',\n",
       " 'a---concrete',\n",
       " 'a---data',\n",
       " 'a---data',\n",
       " 'abstract---data',\n",
       " 'an---ADT.',\n",
       " 'and---the',\n",
       " 'be---performed',\n",
       " 'by---an',\n",
       " 'can---be',\n",
       " 'can---implement',\n",
       " 'comparison,---a',\n",
       " 'complexity---of',\n",
       " 'computational---complexity',\n",
       " 'concrete---implementation',\n",
       " 'data---structure',\n",
       " 'data---structure',\n",
       " 'data---types',\n",
       " 'implement---one',\n",
       " 'implementation---of',\n",
       " 'is---a',\n",
       " 'more---particular',\n",
       " 'of---the',\n",
       " 'of---those',\n",
       " 'on---a',\n",
       " 'one---or',\n",
       " 'operations---that',\n",
       " 'operations.---In',\n",
       " 'or---more',\n",
       " 'particular---abstract',\n",
       " 'performed---on',\n",
       " 'provided---by',\n",
       " 'space---provided',\n",
       " 'specify---the',\n",
       " 'structure---and',\n",
       " 'structure---is',\n",
       " 'structures---can',\n",
       " 'that---can',\n",
       " 'the---computational',\n",
       " 'the---operations',\n",
       " 'the---space',\n",
       " 'those---operations.',\n",
       " 'types---(ADT),',\n",
       " 'which---specify']"
      ]
     },
     "execution_count": 16,
     "metadata": {},
     "output_type": "execute_result"
    }
   ],
   "source": [
    "# Example function : generate bigram from text\n",
    "\n",
    "def generate_bigram(text) : \n",
    "    # split to list\n",
    "    words = text.split()\n",
    "    bigram_words = []\n",
    "    \n",
    "    # for loop\n",
    "    for pos in range(1 , len(words) , 1) : \n",
    "        # pick both words in cmd : \"word1_word2\"\n",
    "        bigram = words[pos-1] + \"---\" + words[pos]\n",
    "        bigram_words.append( bigram )\n",
    "    \n",
    "    # end loop , return bigram\n",
    "    return sorted(bigram_words) # sort alphabetically\n",
    "\n",
    "# call function\n",
    "text = \"\"\"\n",
    "Data structures can implement one or more particular abstract data types (ADT), \n",
    "which specify the operations that can be performed on a data structure and the computational complexity of those operations. \n",
    "In comparison, a data structure is a concrete implementation of the space provided by an ADT.\n",
    "\"\"\"\n",
    "generate_bigram( text )"
   ]
  },
  {
   "cell_type": "code",
   "execution_count": 20,
   "id": "fbae310e",
   "metadata": {},
   "outputs": [
    {
     "data": {
      "text/plain": [
       "'11 FEB 2568'"
      ]
     },
     "execution_count": 20,
     "metadata": {},
     "output_type": "execute_result"
    }
   ],
   "source": [
    "# more example : date formatting (using S.format())\n",
    "def convert_date_format(mdy_format) : \n",
    "    # split to list\n",
    "    month , day , year = [int(e) for e in mdy_format.split('/')] # now all str -> int\n",
    "        # same as \n",
    "    # create month name list\n",
    "    month_name = ['Null' , 'JAN' , \"FEB\" , \"MAR\" , \"APR\" , \"MAY\" , \"JUN\" , \"JUL\" , \"AUG\" , \"SEP\" , \"OCT\" , \"NOV\" , \"DEC\"]\n",
    "    # format string out\n",
    "    result = '{0} {1} {2}'.format(int(day) , month_name[month] , int(year) )\n",
    "    \n",
    "    # return result (string)\n",
    "    return result\n",
    "\n",
    "# call function\n",
    "convert_date_format(\"02/11/2568\") "
   ]
  },
  {
   "cell_type": "markdown",
   "id": "9a4217c5",
   "metadata": {},
   "source": [
    "## Exercise Part 4 : List & Loop\n",
    "List, tokenization, and while loop"
   ]
  },
  {
   "cell_type": "markdown",
   "id": "cfb941f0",
   "metadata": {},
   "source": [
    "## 261_P4_01 Prefix\n",
    "คำกริยาบางคำในภาษาอังกฤษสามารถเติม prefix ได้\n",
    "\n",
    "จงเขียน function ที่รับ list of verbs และ return list of verbs + verbs ที่มี prefix ที่ระบุไว้ต่อหน้า"
   ]
  },
  {
   "cell_type": "code",
   "execution_count": 45,
   "id": "8da5f8b8",
   "metadata": {},
   "outputs": [
    {
     "name": "stdout",
     "output_type": "stream",
     "text": [
      "['start', 'gain', 'restart', 'regain']\n",
      "['produce', 'estimate', 'do', 'overproduce', 'overestimate', 'overdo']\n"
     ]
    }
   ],
   "source": [
    "def add_prefix(verb_list, prefix):\n",
    "    \"\"\"\n",
    "    Add prefix to all verbs\n",
    "    \n",
    "    >>>> add_prefix(['start', 'gain'], 're')\n",
    "    ['start', 'gain', 'restart', 'regain']\n",
    "    \n",
    "    >>>> add_prefix(['produce', 'estimate', 'do'], 'over')\n",
    "    ['produce', 'estimate', 'do', 'overproduce', 'overestimate', 'overdo']\n",
    "    \"\"\"\n",
    "    # define list of prefix words\n",
    "    prefix_words = []\n",
    "    for each_word in verb_list :\n",
    "        prefix_words.append( str(prefix + each_word) )\n",
    "        \n",
    "    # end loop , concat list then return list concated\n",
    "    verb_list.extend(prefix_words) # .extend() didnt return value\n",
    "    return verb_list\n",
    "\n",
    "# call function\n",
    "print( add_prefix(['start', 'gain'], 're') )\n",
    "print( add_prefix(['produce', 'estimate', 'do'], 'over') )"
   ]
  },
  {
   "cell_type": "markdown",
   "id": "3ed2634b",
   "metadata": {},
   "source": [
    "## 261_P4_02 Hailstone Sequence\n",
    "จำนวนเต็ม n ที่ค่ามากกว่า 1 สามารถทำให้กลายเป็น 1 ด้วยกระบวนการดังต่อไปนี้\n",
    "\n",
    "ทำไปเรื่อยๆ จนกว่า n จะมีค่าเท่ากับ 1 \n",
    "\n",
    "* ถ้า n เป็นเลขคี่ ให้คูณสามและบวกหนึ่ง\n",
    "* ถ้า n เป็นเลขคู่ ให้หารสอง\n",
    "\n",
    "เช่น 5 --> 16 --> 8 --> 4 --> 2 --> 1 \n",
    "ตัวเลขเหล่านี้เรียกว่า Hailstone sequence\n",
    "\n",
    "จงเขียน function ที่ผลิต Hailstone sequence จากตัวเลขที่กำหนดให้โดยให้ return เป็น list ของตัวเลข และ print กระบวนการออกมาตามตัวอย่าง จากนั้นลองใช้ฟังก์ชันกับ 5 และ 15"
   ]
  },
  {
   "cell_type": "code",
   "execution_count": 7,
   "id": "dd4707e2",
   "metadata": {},
   "outputs": [
    {
     "name": "stdout",
     "output_type": "stream",
     "text": [
      "5 is odd , so I make 3n + 1 = 16\n",
      "16 is even , so I make 16 / 2 = 8\n",
      "8 is even , so I make 8 / 2 = 4\n",
      "4 is even , so I make 4 / 2 = 2\n",
      "2 is even , so I make 2 / 2 = 1\n",
      "[5, 16, 8, 4, 2, 1]\n",
      "--------------------------------------------------\n",
      "15 is odd , so I make 3n + 1 = 46\n",
      "46 is even , so I make 46 / 2 = 23\n",
      "23 is odd , so I make 3n + 1 = 70\n",
      "70 is even , so I make 70 / 2 = 35\n",
      "35 is odd , so I make 3n + 1 = 106\n",
      "106 is even , so I make 106 / 2 = 53\n",
      "53 is odd , so I make 3n + 1 = 160\n",
      "160 is even , so I make 160 / 2 = 80\n",
      "80 is even , so I make 80 / 2 = 40\n",
      "40 is even , so I make 40 / 2 = 20\n",
      "20 is even , so I make 20 / 2 = 10\n",
      "10 is even , so I make 10 / 2 = 5\n",
      "5 is odd , so I make 3n + 1 = 16\n",
      "16 is even , so I make 16 / 2 = 8\n",
      "8 is even , so I make 8 / 2 = 4\n",
      "4 is even , so I make 4 / 2 = 2\n",
      "2 is even , so I make 2 / 2 = 1\n",
      "[15, 46, 23, 70, 35, 106, 53, 160, 80, 40, 20, 10, 5, 16, 8, 4, 2, 1]\n"
     ]
    }
   ],
   "source": [
    "def hailstone(number):\n",
    "    \"\"\"\n",
    "    Generate a Hailstone sequence from a given number\n",
    "    \n",
    "    >>>> hailstone(n)\n",
    "    \n",
    "    5 is odd, so I make 3n + 1 = 16\n",
    "    16 is even, so I make 16 / 2 = 8\n",
    "    8 is even, so I make 8 / 2 = 4\n",
    "    4 is even, so I make 4 / 2 = 2\n",
    "    2 is even, so I make 2 / 2 = 1\n",
    "    [5, 16, 8, 4, 2, 1]\n",
    "    \"\"\"\n",
    "    \n",
    "    # Keyword : do until get number = 1 (while loop for sureee)\n",
    "    \n",
    "    hailstone_numbers = [number]\n",
    "    \n",
    "    while (number > 1) :\n",
    "        \n",
    "        if number % 2 != 0 : # number is odd (cant divided by 0)\n",
    "            new_number = 3 * number + 1 \n",
    "            print(\"{0} is odd , so I make 3n + 1 = {1}\".format( int(number) , int(new_number)) ) # format string\n",
    "            number = new_number # assign new value to old variable\n",
    "            \n",
    "            \n",
    "        else : # number divided by 0 -> even number\n",
    "            new_number = number / 2 \n",
    "            print(\"{0} is even , so I make {0} / 2 = {1}\".format( int(number) , int(new_number)) ) # format string\n",
    "            number = new_number\n",
    "            \n",
    "        # append new value to list\n",
    "        hailstone_numbers.append( int(number) )\n",
    "            \n",
    "    # end loop , return list of value\n",
    "    return hailstone_numbers\n",
    "\n",
    "# call function\n",
    "print( hailstone(5) )\n",
    "print( '--------------------------------------------------')\n",
    "print( hailstone(15) )"
   ]
  },
  {
   "cell_type": "markdown",
   "id": "3ae8accb",
   "metadata": {},
   "source": [
    "## 261_P4_03 : Generate Trigram\n",
    "Trigram เป็นหน่วยโกงๆ ของการวิเคราะห์ประโยคในแบบฉบับของ NLP กล่าวคือวิเคราะห์ว่าสามคำที่อยู่ติดกันนั้นเป็นคำเดียวกัน เช่น ประโยค\n",
    "\n",
    "\"It rains in the evening\"  \n",
    "\n",
    "ประกอบด้วย trigram ดังต่อไปนี้\n",
    "It_rains_in\n",
    "rains_in_the\n",
    "in_the_evening\n",
    "\n",
    "Trigram เป็นตัวบ่งบอกว่าคำไหนพบเจอกับคำไหนบ่อย เช่น in the evening อาจจะเป็นคำที่เจอบ่อยมากๆ เพราะว่าค่อนข้าง idiomatic ทำหน้าที่คล้ายๆ เหมือนคำเดียวแต่เราเขียนออกมาเป็นสามคำแยกกัน\n",
    "\n",
    "จงเขียน function ที่ผลิต trigram โดยให้ return list of trigrams"
   ]
  },
  {
   "cell_type": "code",
   "execution_count": null,
   "id": "c1580251",
   "metadata": {},
   "outputs": [
    {
     "data": {
      "text/plain": [
       "['It_rains_in', 'rains_in_the', 'in_the_evening']"
      ]
     },
     "execution_count": 11,
     "metadata": {},
     "output_type": "execute_result"
    }
   ],
   "source": [
    "def generate_trigram(raw_string):\n",
    "    \"\"\"Generate trigram from an untokenized sentence\n",
    "    \n",
    "    >>> generate_trigram(\"It rains in the evening\")\n",
    "    [\"It_rains_in\", \"rains_in_the\", \"in_the_evening\"]\n",
    "    \"\"\"\n",
    "    \n",
    "    # split into list first\n",
    "    words = raw_string.split()\n",
    "    trigram_words = []\n",
    "    \n",
    "    # for loop words\n",
    "    for pos in range(2 , len(words) , 1) : # start at 2 , end at last\n",
    "        trigram_words.append( words[pos-2] + \"_\" + words[pos-1] + \"_\" + words[pos] )\n",
    "        \n",
    "    # end loop , return list of trigram\n",
    "    return trigram_words\n",
    "    \n",
    "# call function\n",
    "generate_trigram(\"It rains in the evening\")"
   ]
  },
  {
   "cell_type": "markdown",
   "id": "80d06de7",
   "metadata": {},
   "source": [
    "## 261_P4_04 : Creating a Lexicon from data\n",
    "จงเขียน function ที่เปลี่ยนข้อมูลที่เป็น string ให้เป็นรายการคำศัพท์ (lexicon) ที่เรียงลำดับจาก a-z และ lexicon จะต้องมีลักษณะดังนี้\n",
    "\n",
    "1. จะต้องไม่มีตัวเลขปนอยู่ เช่น 34 45,00 4K\n",
    "2. แต่ละคำจะต้องไม่มี . หรือ , ติดอยู่กับคำ\n",
    "3. ใน lexicon ห้ามมีคำซ้ำ"
   ]
  },
  {
   "cell_type": "code",
   "execution_count": 14,
   "id": "9ce84bf4",
   "metadata": {},
   "outputs": [
    {
     "name": "stdout",
     "output_type": "stream",
     "text": [
      "['In', 'another', 'burns', 'calories', 'evening', 'every', 'he', 'like', 'the']\n",
      "['worda', 'wordb']\n"
     ]
    }
   ],
   "source": [
    "def build_lexicon(untokenized_string):\n",
    "    \"\"\"\n",
    "    Testcases\n",
    "    >>>> build_lexicon(\"In the evening, he burns another 1,000 calories like every evening\")\n",
    "    ['In', 'another', 'burns', 'calories', 'evening', 'every', 'he', 'like', 'the']\n",
    "    \n",
    "    >>>> build_lexicon(\"worda wordb, worda worda 123 9999. \")\n",
    "    ['worda', 'wordb']\n",
    "    \"\"\"\n",
    "    \n",
    "    # define string , list \n",
    "    lexicon_words = [] \n",
    "    \n",
    "    # for loop , check if words is alphabet & check if not repeat in list\n",
    "    tokenized_words = untokenized_string.split() # tokenized = seperated\n",
    "    \n",
    "    for word in tokenized_words : \n",
    "        if (word.isalpha() == True) and (word not in lexicon_words) and (',' ): \n",
    "            lexicon_words.append( word )\n",
    "            \n",
    "    # end loop , return list of lexicon words\n",
    "    return sorted(lexicon_words) # sort alphabetically\n",
    "    \n",
    "# call function\n",
    "print( build_lexicon(\"In the evening, he burns another 1,000 calories like every evening\") )\n",
    "print( build_lexicon(\"worda wordb, 2k wordb wordb 123 9999. \") )"
   ]
  }
 ],
 "metadata": {
  "kernelspec": {
   "display_name": "chatrpholenv",
   "language": "python",
   "name": "python3"
  },
  "language_info": {
   "codemirror_mode": {
    "name": "ipython",
    "version": 3
   },
   "file_extension": ".py",
   "mimetype": "text/x-python",
   "name": "python",
   "nbconvert_exporter": "python",
   "pygments_lexer": "ipython3",
   "version": "3.13.5"
  }
 },
 "nbformat": 4,
 "nbformat_minor": 5
}
