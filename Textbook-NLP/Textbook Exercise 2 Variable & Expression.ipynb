{
  "cells": [
    {
      "cell_type": "markdown",
      "metadata": {},
      "source": [
        "# 2209261 Textbook : Exercise Lecture 2 Variable & Expression\n",
        "# Done by : 6730084521 Chatrphol Ovanonchai"
      ]
    },
    {
      "cell_type": "markdown",
      "metadata": {
        "id": "Vco7akx29Qsr"
      },
      "source": [
        "# แบบฝึกหัด: ตัวแปร และฟังก์ชัน\n",
        "\n",
        "ข้อ 1 - 6 เป็นโจทย์ทบทวนแพตเทิร์นการเขียนโปรแกรมที่เพิ่งเรียนมา\n",
        "\n",
        "ข้อ 7 - 13 เป็นโจทย์ปัญหาการเขียนโปรแกรมที่รวมการใช้เทคนิคทั้งหมด"
      ]
    },
    {
      "cell_type": "markdown",
      "metadata": {
        "id": "Jl3QL1B0Vp-i"
      },
      "source": [
        "## โจทย์ทบทวนแพตเทิร์นการเขียนโปรแกรม"
      ]
    },
    {
      "cell_type": "markdown",
      "metadata": {
        "id": "RUJLMYd8Vp-i"
      },
      "source": [
        "### ข้อ 1 - `print`\n",
        "เขียนฟังก์ชันที่ชื่อว่า `greet` ที่แสดงผลข้อความว่า \"สวัสดีชาวโลก\""
      ]
    },
    {
      "cell_type": "code",
      "execution_count": 4,
      "metadata": {
        "id": "f_XYZapeqsx2"
      },
      "outputs": [
        {
          "name": "stdout",
          "output_type": "stream",
          "text": [
            "สวัสดีชาวโลก\n"
          ]
        }
      ],
      "source": [
        "### เขียนฟังก์ชันที่นี่\n",
        "def greet() : \n",
        "    print(\"สวัสดีชาวโลก\")\n",
        "\n",
        "greet() # not returning any value"
      ]
    },
    {
      "cell_type": "markdown",
      "metadata": {
        "id": "9F9rxpHzVp-i"
      },
      "source": [
        "### ข้อ 2 - `input` vs พารามิเตอร์\n",
        "เขียนฟังก์ชันที่ชื่อว่า `add` ที่รับพารามิเตอร์สองตัว และคืนค่า (`return`) เป็นผลรวมของสองค่าที่ได้รับมา\n",
        "\n",
        "สังเกตว่าโจทย์ข้อนี้เราจะไม่ใช้ `input` เพราะจะส่งค่าให้ฟังก์ชันผ่านพารามิเตอร์"
      ]
    },
    {
      "cell_type": "code",
      "execution_count": 6,
      "metadata": {
        "id": "-els_TgUVp-j"
      },
      "outputs": [
        {
          "data": {
            "text/plain": [
              "8"
            ]
          },
          "execution_count": 6,
          "metadata": {},
          "output_type": "execute_result"
        }
      ],
      "source": [
        "### เขียนฟังก์ชันที่นี่\n",
        "def add(val1 , val2) :\n",
        "    return val1 + val2\n",
        "\n",
        "# call function\n",
        "add(3 , 5)"
      ]
    },
    {
      "cell_type": "markdown",
      "metadata": {
        "id": "F5l0V0gDAPjq"
      },
      "source": [
        "### ข้อ 3 - ฟังก์ชันแบบมีพารามิเตอร์\n",
        "จงหาปริมาตรของกล่องที่มีความกว้าง 3 ซม. ยาว 7 ซม. และ สูง 9 ซม. โดยสร้างฟังก์ชันที่ชื่อว่า `cuboid` ที่รับอาร์กิวเมนต์สามตัว (คำตอบคือ 189)\n",
        "\n",
        "จากนั้นคำนวณปริมาตรของกล่องที่มีความกว้าง 5.5 ซม. ยาว 6 ซม. และ สูง 8 ซม. โดยเปลี่ยนค่าอาร์กิวเมนต์ (คำตอบคือ 264.0)\n",
        "\n",
        "จากนั้นคำนวณผลรวมของปริมาตรของทั้งสองกล่อง\n",
        "\n"
      ]
    },
    {
      "cell_type": "code",
      "execution_count": 7,
      "metadata": {
        "id": "ahkjaaPlUrDm"
      },
      "outputs": [
        {
          "data": {
            "text/plain": [
              "1224"
            ]
          },
          "execution_count": 7,
          "metadata": {},
          "output_type": "execute_result"
        }
      ],
      "source": [
        "def cuboid(width, length, height):\n",
        "    ### เขียนฟังก์ชันที่นี่\n",
        "    return width * length * height\n",
        "\n",
        "# call function \n",
        "cuboid(4,9,34)"
      ]
    },
    {
      "cell_type": "markdown",
      "metadata": {
        "id": "_2Mv1ANuVp-j"
      },
      "source": [
        "### ข้อ 4 - `print` vs `return`\n",
        "จงเขียนฟังก์ชัน `show_work_cuboid` ที่รับอาร์กิวเมนต์สามตัว คือความกว้าง ความยาว และความสูง โดยกำหนดให้ฟังก์ชันนี้\n",
        "\n",
        "- ไม่ต้องคืนค่าอะไรเลย\n",
        "- แสดงวิธีการคิดปริมาตรโดยการ `print` เช่น\n",
        "\n",
        "```python\n",
        ">>> show_work_cuboid(2,3,4)\n",
        "ความกว้าง\n",
        "2\n",
        "ความยาว\n",
        "3\n",
        "ความสูง\n",
        "4\n",
        "ปริมาตร\n",
        "24\n",
        "```"
      ]
    },
    {
      "cell_type": "code",
      "execution_count": 9,
      "metadata": {
        "id": "oMEjNt79Vp-j"
      },
      "outputs": [
        {
          "name": "stdout",
          "output_type": "stream",
          "text": [
            "ความกว้าง\n",
            "7\n",
            "ความยาว\n",
            "8\n",
            "ความสูง\n",
            "9\n",
            "ปริมาตร\n",
            "504\n"
          ]
        }
      ],
      "source": [
        "def show_work_cuboid(width, length, height):\n",
        "    ### เขียนฟังก์ชันที่นี่\n",
        "    print(\"ความกว้าง\")\n",
        "    print(width)\n",
        "    print(\"ความยาว\")\n",
        "    print(length)\n",
        "    print(\"ความสูง\")\n",
        "    print(height)\n",
        "    print(\"ปริมาตร\")\n",
        "    print(width * length * height)\n",
        "    \n",
        "# call function\n",
        "show_work_cuboid(7 , 8 , 9)"
      ]
    },
    {
      "cell_type": "markdown",
      "metadata": {
        "id": "neYhU2hNX3Ew"
      },
      "source": [
        "### ข้อ 5 - การอัพเดทตัวแปรในการวนซ้ำ (1)\n",
        "จงเขียนฟังก์ชันหาผลรวมตั้งแต่ 1 ถึง n เช่น\n",
        "\n",
        "`cumulative_sum(3)` = 1 + 2 + 3  = 6\n",
        "\n",
        "`cumulative_sum(5)` = 1 + 2 + 3 + 4 + 5 = 15\n",
        "\n"
      ]
    },
    {
      "cell_type": "code",
      "execution_count": null,
      "metadata": {
        "id": "MtfPQgXzOtMw"
      },
      "outputs": [
        {
          "data": {
            "text/plain": [
              "55"
            ]
          },
          "execution_count": 10,
          "metadata": {},
          "output_type": "execute_result"
        }
      ],
      "source": [
        "def cumulative_sum(n):\n",
        "    ### เขียนฟังก์ชันที่นี่\n",
        "    \n",
        "    # define variable\n",
        "    total = 0 \n",
        "    \n",
        "    # for loop , get total\n",
        "    for num in range(n+1) : \n",
        "        total += num\n",
        "    \n",
        "    # return total\n",
        "    return total\n",
        "\n",
        "# call function\n",
        "cumulative_sum(10)"
      ]
    },
    {
      "cell_type": "markdown",
      "metadata": {
        "id": "57VwC31x02YU"
      },
      "source": [
        "### ข้อ 6 - การอัพเดทตัวแปรในการวนซ้ำ (2)\n",
        "จงสร้างฟังก์ชันที่คำนวณแฟกทอเรียล n ($n!$)\n",
        "\n",
        "$n! = 1 \\times 2 \\times \\cdots  \\times n$\n",
        "\n",
        "`fact(5)` = 1 x 2 x 3 x 4 x 5 = 120"
      ]
    },
    {
      "cell_type": "code",
      "execution_count": 11,
      "metadata": {
        "id": "Gs0KNtj31Y2G"
      },
      "outputs": [
        {
          "data": {
            "text/plain": [
              "479001600"
            ]
          },
          "execution_count": 11,
          "metadata": {},
          "output_type": "execute_result"
        }
      ],
      "source": [
        "def fact(n):\n",
        "    ### เขียนฟังก์ชันที่นี่\n",
        "    total = 1\n",
        "    \n",
        "    # for loop\n",
        "    for num in range(1 , n+1) :\n",
        "        total *= num\n",
        "    \n",
        "    # return value\n",
        "    return total\n",
        "\n",
        "# call value\n",
        "fact(12)"
      ]
    },
    {
      "cell_type": "markdown",
      "metadata": {
        "id": "aCQritjTVp-j"
      },
      "source": [
        "## โจทย์ปัญหาการเขียนโปรแกรม"
      ]
    },
    {
      "cell_type": "markdown",
      "metadata": {
        "id": "L5NP3VHQtVJN"
      },
      "source": [
        "### ข้อ 7 - หารสองกี่ครั้ง\n",
        "\n",
        "#### ข้อ 7.1\n",
        "จงสร้างฟังก์ชันที่รับจำนวนเต็ม 1 ตัว แล้วคืนคำตอบว่าจำนวนที่ได้รับมานั้นหาร 2 ได้กี่ครั้งค่าถึงจะกลายเป็น 1\n",
        "\n",
        "```python\n",
        "divide_two(16)\n",
        ">>>4\n",
        "divide_two(4)\n",
        ">>>2\n",
        "```\n",
        "\n",
        "โบนัส: ลองเพิ่มเงื่อนไข `if` ที่จับอินพุตที่หารสองเท่าไรก็ไม่ได้ 1 (หารแล้วกลายเป็นค่าที่น้อยกว่า 1) จากนั้น `print` บอกว่าอินพุตไม่ใช่เลขที่หารด้วย 2 ลงตัวได้"
      ]
    },
    {
      "cell_type": "code",
      "execution_count": 1,
      "metadata": {
        "id": "h6JX1KhutokO"
      },
      "outputs": [
        {
          "name": "stdout",
          "output_type": "stream",
          "text": [
            "4 2\n"
          ]
        }
      ],
      "source": [
        "def divide_two(number):\n",
        "  ### เขียนฟังก์ชันที่นี่\n",
        "  # check number if divided by 2 (before entering while loop)\n",
        "  if number % 2 != 0 :\n",
        "    return \"Not a number that can divided by 2\"\n",
        "  else : \n",
        "    # entering while loop\n",
        "    count_divided_by_2 = 0 \n",
        "    while number % 2 != 1 : \n",
        "      number /= 2 # divide by 2\n",
        "      count_divided_by_2 += 1 # add count with 1\n",
        "    # end loop \n",
        "    return count_divided_by_2\n",
        "  \n",
        "# call function\n",
        "print(divide_two(16) , divide_two(4))"
      ]
    },
    {
      "cell_type": "markdown",
      "metadata": {
        "id": "dZ9CGHxEvAR7"
      },
      "source": [
        "#### ข้อ 7.2 ลอการิทึม\n",
        "เราสามารถใช้ฟังก์ชัน `log` ทางคณิตศาสตร์ในการช่วยคำนวณข้อ 7.1 ได้ โดยที่เมื่อ\n",
        "$\\log_2(x)$ = จำนวนครั้งที่ใช้ 2 หาร $x$ ไปเรื่อย ๆ จนได้ 1\n",
        "\n",
        "ในข้อนี้ ให้ลองใช้ฟังก์ชัน `log2` (อยู่ใน module `math`) ในการทำโจทย์จากข้อ 7.1"
      ]
    },
    {
      "cell_type": "code",
      "execution_count": 3,
      "metadata": {
        "id": "OhUfrtsHpnAn"
      },
      "outputs": [
        {
          "name": "stdout",
          "output_type": "stream",
          "text": [
            "4 2\n"
          ]
        }
      ],
      "source": [
        "### เขียนโค้ดที่นี่\n",
        "import math # import math library \n",
        "\n",
        "def calculate_count_from_log2(number) : \n",
        "    return int(math.log2(number)) # value must be integer \n",
        "\n",
        "# call function\n",
        "print( calculate_count_from_log2(16) , calculate_count_from_log2(4) )"
      ]
    },
    {
      "cell_type": "markdown",
      "metadata": {
        "id": "MWTHMAs_Vp-k"
      },
      "source": [
        "### ข้อ 8 - แปลงเวลา\n",
        "เขียนฟังก์ชันในการแปลงวัน ชั่วโมง นาที เป็นวินาที\n",
        "\n",
        "เช่น 2 วัน 5 ชั่วโมง 10 นาที เท่ากับ 191,400 วินาที\n",
        "\n",
        "3 วัน 5 นาที เท่ากับ 259,500 วินาที\n",
        "\n",
        "ให้ตั้งชื่อฟังก์ชันและอาร์กิวเมนต์เอง"
      ]
    },
    {
      "cell_type": "code",
      "execution_count": 3,
      "metadata": {
        "id": "m5C5dwF_Vp-k"
      },
      "outputs": [
        {
          "name": "stdout",
          "output_type": "stream",
          "text": [
            "191400\n",
            "259500\n"
          ]
        }
      ],
      "source": [
        "### เขียนโค้ดที่นี่\n",
        "def convert_time(day , hour , minute) : \n",
        "    return (60 * 60 * 24 * day) + (60 * 60 * hour) + (60 * minute) # total time\n",
        "\n",
        "## call function\n",
        "print( convert_time(2,5,10) )\n",
        "print( convert_time(3,0,5) )"
      ]
    },
    {
      "cell_type": "markdown",
      "metadata": {
        "id": "wtbAMNlm0pYL"
      },
      "source": [
        "### ข้อ 9 - ไซส์เสื้อ\n",
        "\n",
        "เขียนโปรแกรมที่บอกว่าผู้ใช้ควรจะใส่เสื้อไซส์อะไรถ้าดูจากรอบเอว เราต้องการแปลงรอบเอวเป็นไซส์ตามตารางข้างล่างนี้\n",
        "\n",
        "| Size | รอบเอว (เซนติเมตร) |\n",
        "|------|-------------------|\n",
        "| S    | < 76              |\n",
        "| M    | 76 - 84           |\n",
        "| L    | > 84              |\n",
        "\n",
        "โปรแกรมจะต้องมีลักษณะดังนี้\n",
        "\n",
        "- อินพุต: รอบเอว หน่วยเป็นนิ้ว (เพราะฉะนั้นจะต้องแปลงก่อน 1 นิ้ว = 2.54 เซนติเมตร)\n",
        "- เอาท์พุต: สตริงที่บอกไซส์ที่เหมาะสม"
      ]
    },
    {
      "cell_type": "code",
      "execution_count": 7,
      "metadata": {
        "id": "vVMvmKrZ1gUh"
      },
      "outputs": [
        {
          "name": "stdout",
          "output_type": "stream",
          "text": [
            "L\n",
            "S\n"
          ]
        }
      ],
      "source": [
        "def recommend_size(waist_size_in_inch):\n",
        "    ### เขียนฟังก์ชันที่นี่\n",
        "    # check condition\n",
        "    waist_size_in_cm = waist_size_in_inch * 2.54\n",
        "    \n",
        "    if waist_size_in_cm < 76 : \n",
        "        return 'S'\n",
        "    elif 76 <= waist_size_in_cm <= 84 : \n",
        "        return 'M'\n",
        "    else : \n",
        "        return 'L'\n",
        "    \n",
        "# call function\n",
        "print( recommend_size(34) )\n",
        "print( recommend_size(29) )"
      ]
    },
    {
      "cell_type": "markdown",
      "metadata": {
        "id": "qQSp5fn_Vp-k"
      },
      "source": [
        "### ข้อ 10 - โควิด\n",
        "\n",
        "สมมติว่าผู้ป่วยโควิด 19 หนึ่งคนจะมีทำให้มีผู้ติดเชื้อมากขึ้น 3 คนต่อวัน\n",
        "\n",
        "เพราะฉะนั้นถ้าวันที่ 1 มีผู้ป่วย 5 คน\n",
        "- วันที่สองจะมีผู้ป่วยเพิ่มขึ้น 5 x 3 = 15 คน รวมแล้วมีจำนวนผู้ป่วย 5 + 15 = 20 คน\n",
        "- วันที่สามจะมีผู้ป่วยเพิ่มขึ้น 20 x 3 = 60 คน รวมแล้วมีจำนวนผู้ป่วย 20 + 60 = 80 คน\n",
        "- วันที่สี่จะมีผู้ป่วย 80 x 3 = 240 คน รวมแล้วมีจำนวนผู้ป่วย 80 + 240  = 320 คน\n",
        "\n",
        "เขียนโปรแกรมที่ print จำนวนผู้ป่วยในแต่ละวันโดยที่โปรแกรมจะมีลักษณะดังนี้\n",
        "\n",
        "อินพุต:\n",
        "1) จำนวนผู้ป่วยตั้งต้น (วันที่ 0)\n",
        "2) จำนวนวันที่ต้องการ print\n",
        "\n",
        "เอาท์พุต: จำนวนผู้ป่วยในวันสุดท้าย\n",
        "\n",
        "โปรแกรมจะต้อง `print` จำนวนผู้ป่วยในแต่ละวันอีกด้วย"
      ]
    },
    {
      "cell_type": "code",
      "execution_count": 16,
      "metadata": {
        "id": "PfXMSo8XVp-k"
      },
      "outputs": [
        {
          "name": "stdout",
          "output_type": "stream",
          "text": [
            "Day 1: 40 patients\n",
            "Day 2: 160 patients\n",
            "160\n",
            "Day 1: 20 patients\n",
            "Day 2: 80 patients\n",
            "Day 3: 320 patients\n",
            "320\n",
            "Day 1: 480 patients\n",
            "Day 2: 1920 patients\n",
            "Day 3: 7680 patients\n",
            "Day 4: 30720 patients\n",
            "Day 5: 122880 patients\n",
            "Day 6: 491520 patients\n",
            "Day 7: 1966080 patients\n",
            "Day 8: 7864320 patients\n",
            "Day 9: 31457280 patients\n",
            "Day 10: 125829120 patients\n",
            "125829120\n"
          ]
        }
      ],
      "source": [
        "def compute_patients(num_initial_patients, num_days):\n",
        "    \"\"\"\n",
        "    >>> compute_patients(5, 3) # จำนวนผู้ป่วยตั้งต้น 5 คน ต้องการคำนวณ 3 วัน\n",
        "    Day 1: 20 patients\n",
        "    Day 2: 80 patients\n",
        "    Day 3: 320 patients\n",
        "    320\n",
        "\n",
        "    >>> compute_patients(10, 2) # จำนวนผู้ป่วยตั้งต้น 10 คน ต้องการคำนวณ 2 วัน\n",
        "    Day 1: 40 patients\n",
        "    Day 2: 160 patients\n",
        "    160\n",
        "    \"\"\"\n",
        "    # define total_patient first\n",
        "    total_patient = num_initial_patients\n",
        "    spread_multiplier = 3\n",
        "    \n",
        "    # for loop , add patient\n",
        "    for day in range(1 , num_days+1) : \n",
        "        \n",
        "        # calculate new patient\n",
        "        new_patient = (total_patient * spread_multiplier)\n",
        "        \n",
        "        # sum to total_patient\n",
        "        total_patient += new_patient\n",
        "            \n",
        "        # print by format\n",
        "        print(\"Day {0}: {1} patients\".format(day , total_patient))\n",
        "        \n",
        "    # return total patient\n",
        "    return total_patient\n",
        "\n",
        "# call function \n",
        "print( compute_patients(10 , 2) )\n",
        "print( compute_patients(5 , 3) )\n",
        "print( compute_patients(120 , 10) )"
      ]
    },
    {
      "cell_type": "markdown",
      "metadata": {
        "id": "KDXITCHNVp-k"
      },
      "source": [
        "### ข้อ 11 - วัคซีน\n",
        "วัคซีน COVID-19 แต่ละชนิดสามารถสร้างภูมิคุ้มกันได้แตกต่างกันขึ้นอยู่กับสภาพบุคคล ซึ่งเมื่อหลังจากฉีดวัคซีนแล้ว 7 วัน คนเราจะมีภูมิคุ้มกันสูงที่สุด (สูงที่สุดไม่เกิน 500 หน่วย) แต่ว่าปริมาณภูมิคุ้มกันสูงสุดก็แตกต่างกันไป ขึ้นอยู่กับสภาพร่างกายของแต่ละคนและชนิดของวัคซีนที่ได้รับ\n",
        "หลังจากร่างกายเรามีภูมิคุ้มกันสูงที่สุดแล้ว ปริมาณภูมิคุ้มกันในร่างกายก็จะลดลงเรื่อยๆ โดยปริมาณภูมิคุ้มกันในวันถัดไป จะเป็น 𝛂 เท่า (อ่านว่า alpha, อัลฟ่า) ของปริมาณภูมิคุ้มกันในวันนี้ โดยที่ค่า 𝛂 ขึ้นอยู่กับสภาพร่างกายของแต่ละคน หากคนเรามีปริมาณภูมิคุ้มกันต่ำกว่า 40 หน่วย จะถือว่าไม่มีภูมิต้านทานโรค COVID-19\n",
        "\n",
        "**ตัวอย่าง**\n",
        "- คุณยายเอ๋ อายุ 75 ปี มีโรคประจำตัวเป็นโรคเบาหวาน มีค่า 𝛂 เป็น 0.60\n",
        "- หลังจากรับวัคซีนไปแล้ว 7 วัน คุณยายเอ๋มีภูมิคุ้มกันสูงสุดที่ 350 หน่วย\n",
        "- วันถัดไป (วันที่ 8 หลังจากรับวัคซีน) คุณยายเอ๋จะมีภูมิคุ้มกันอยู่ที่ 0.60 *  350 = 210 หน่วย\n",
        "- วันที่ 9 จะมีภูมิคุ้มกันอยู่ 0.60 * 210 = 126 หน่วย\n",
        "\n",
        "#### ข้อ 11.1 จำนวนวันที่มีภูมิ\n",
        "จงเขียนฟังก์ชัน `days_to_hazard` ซึ่งรับพารามิเตอร์ 2 ตัว ได้แก่\n",
        "\n",
        "1) ปริมาณภูมิคุ้มกันสูงสุด ณ วันที่ 7 หลังจากฉีดวัคซีน\n",
        "2) ค่า 𝛂\n",
        "\n",
        "แล้วให้ฟังก์ชันนี้คืนค่าเป็นจำนวนวันว่าคนๆ นี้มีภูมิต้านทานโรค COVID-19 ได้อยู่กี่วันหลังจากฉีดวัคซีน (ไม่นับวันที่มีปริมาณภูมิคุ้มกันต่ำกว่า 40 หน่วย)\n",
        "\n",
        "ตัวอย่าง\n",
        "```\n",
        ">>> days_to_hazard(400, 0.80) # ปริมาณภูมิคุ้มกันสูงสุด 400 หน่วย, 𝛂 = 0.80\n",
        "17\n",
        ">>> days_to_hazard(200, 0.5) # ปริมาณภูมิคุ้มกันสูงสุด 200 หน่วย, 𝛂 = 0.5\n",
        "9\n",
        "```\n"
      ]
    },
    {
      "cell_type": "code",
      "execution_count": 25,
      "metadata": {
        "id": "DGONsIxIVp-k"
      },
      "outputs": [
        {
          "name": "stdout",
          "output_type": "stream",
          "text": [
            "17\n",
            "9\n"
          ]
        }
      ],
      "source": [
        "def days_to_hazard(max_immunity, alpha):\n",
        "    ### เขียนฟังก์ชันที่นี่\n",
        "    day = 7 # define day start\n",
        "    \n",
        "    # while loop , calculate max immunity\n",
        "    while max_immunity >= 40 : \n",
        "        max_immunity *= alpha\n",
        "        # check inside if max_immunity < 40 , will break\n",
        "        if max_immunity < 40 : \n",
        "            break \n",
        "        else : \n",
        "            day += 1\n",
        "\n",
        "    # end loop , return day\n",
        "    return day\n",
        "\n",
        "# call function\n",
        "print( days_to_hazard(400 , 0.80) )\n",
        "print( days_to_hazard(200 , 0.5) )\n"
      ]
    },
    {
      "cell_type": "markdown",
      "metadata": {
        "id": "UESWB8nSVp-k"
      },
      "source": [
        "#### ข้อ 11.2 จุดอันตราย\n",
        "\n",
        "เขียนโปรแกรมโดยใช้ฟังก์ชัน `days_to_hazard` เพื่อตรวจสอบว่า ระหว่างคุณยายเอ๋ในตัวอย่าง กับนายโจ้ อายุ 22 ปี ผู้ซึ่งเป็นโรคอ้วน มีค่า 𝛂 = 0.75 และมีภูมิคุ้มกันสูงสุด 300 หน่วย ใครจะถึงจุดอันตรายก่อน (ใครจะไม่มีภูมิต้านทาน COVID-19 ก่อน) โดยพิมพ์ว่า เอ๋ก่อน หรือ โจ้ก่อน ทางหน้าจอ"
      ]
    },
    {
      "cell_type": "code",
      "execution_count": 32,
      "metadata": {
        "id": "GLfuavIhVp-k"
      },
      "outputs": [
        {
          "data": {
            "text/plain": [
              "'Granny Ae'"
            ]
          },
          "execution_count": 32,
          "metadata": {},
          "output_type": "execute_result"
        }
      ],
      "source": [
        "def who_hazard_first(info1 , info2) : \n",
        "    # name1 is list of patient1 : [name1 , max_immunity1 , alpha1]\n",
        "    # name2 is list of patient2 : [name2 , max_immunity2 , alpha2]\n",
        "    \n",
        "    # define variables\n",
        "    name1 , max_immunity1 , alpha1 = info1[:]\n",
        "    name2 , max_immunity2 , alpha2 = info2[:]\n",
        "    \n",
        "    # RUN FUNCTIONS ABOVE (DAYS_TO_HAZARD) FIRST !!!\n",
        "    days_p1 = days_to_hazard( max_immunity1 , alpha1 )\n",
        "    days_p2 = days_to_hazard( max_immunity2 , alpha2 )\n",
        "    \n",
        "    # check condition\n",
        "    if days_p1 > days_p2 : # p2 get hazard first\n",
        "        return name2\n",
        "    elif days_p1 < days_p2 : # p1 get hazard first\n",
        "        return name1\n",
        "    else : \n",
        "        return \"Both user got same hazard\"\n",
        "        \n",
        "# call function\n",
        "info1 = ['Granny Ae' , 350 , 0.6]\n",
        "info2 = ['Mr.Jo+' , 300 , 0.75]\n",
        "who_hazard_first(info1 , info2)"
      ]
    },
    {
      "cell_type": "markdown",
      "metadata": {
        "id": "KF7dUs5MVp-k"
      },
      "source": [
        "### ข้อ 12 โรงงาน\n",
        "#### ข้อ 12.1 ค่าแรง\n",
        "คุณเป็นผู้จัดการโรงงานผลิดธง คุณจ่ายค่าแรงพนักงานตามจำนวนธงที่ผลิตได้ใน 1 ชั่วโมง ตามตารางด้านล่างนี้\n",
        "\n",
        "| จำนวนธงที่ผลิตได้ใน 1 ชั่วโมง | ค่าแรง (ของชั่วโมงนี้) |\n",
        "|-------------------------|-------------------|\n",
        "| 0     | 0 |\n",
        "| 1-10  | 50 บาท |\n",
        "| 11-20  | 120 บาท |\n",
        "| >= 21  | 6.50 บาทต่อธง |\n",
        "\n",
        "เขียนฟังก์ชันชื่อ `hourly_pay` ซึ่งรับพารามิเตอร์ 1 ตัว ได้แก่ จำนวนธงที่ผลิดได้ใน 1 ชั่วโมง แล้วให้ฟังก์ชันนี้คืนค่าเป็นค่าแรงที่จะได้รับในชั่วโมงนี้\n",
        "\n",
        "ตัวอย่าง\n",
        "```\n",
        ">>> hourly_pay(9) # ค่าแรงในชั่วโมงที่ผลิตได้ 9 ธง\n",
        "50\n",
        ">>> hourly_pay(25) # ค่าแรงในชั่วโมงที่ผลิตได้ 25 ธง\n",
        "162.5\n",
        "```"
      ]
    },
    {
      "cell_type": "code",
      "execution_count": 13,
      "metadata": {
        "id": "KHsh8zJ4Vp-k"
      },
      "outputs": [
        {
          "name": "stdout",
          "output_type": "stream",
          "text": [
            "50\n",
            "162.5\n"
          ]
        }
      ],
      "source": [
        "def hourly_pay(flag_done_in_hour) : \n",
        "    # calculate wage\n",
        "    if flag_done_in_hour == 0 : \n",
        "        wage = 0\n",
        "    elif 1 <= flag_done_in_hour <= 10 : \n",
        "        wage = 50\n",
        "    elif 11 <= flag_done_in_hour <= 20 : \n",
        "        wage = 120\n",
        "    elif flag_done_in_hour >= 21 : \n",
        "        wage = 6.50 * flag_done_in_hour\n",
        "    return wage\n",
        "\n",
        "# call function\n",
        "print(hourly_pay(9))\n",
        "print(hourly_pay(25))"
      ]
    },
    {
      "cell_type": "markdown",
      "metadata": {
        "id": "GOOROAruVp-k"
      },
      "source": [
        "#### ข้อ 12.2 รายได้รวม\n",
        "\n",
        "เมื่อทำงานหลายชั่วโมงติดต่อกัน พนักงานส่วนใหญ่สามารถผลิตธงได้มากขึ้น ซึ่งแต่ละคนสามารถผลิตธงได้เพิ่มขึ้นเป็นจำนวนแตกต่างกัน เช่น\n",
        "\n",
        "นายแมว สามารถผลิตธงได้ 6 ธง ในชั่งโมงแรก และผลิตได้เพิ่มขึ้น 3 ธง ในแต่ละชั่วโมงที่ทำงาน ฉะนั้น\n",
        "- ชั่วโมงที่ 1 นายแมว ผลิตได้ 6 ธง\n",
        "- ชั่วโมงที่ 2 นายแมว ผลิตได้ 6+3 = 9 ธง\n",
        "- ชั่วโมงที่ 3 นายแมว ผลิตได้ 9+3 = 12 ธง\n",
        "- ชั่วโมงที่ 4 นายแมว ผลิตได้ 12+3 = 15 ธง\n",
        "- ชั่วโมงที่ 5 นายแมว ผลิตได้ 15+3 = 18 ธง\n",
        "- ...\n",
        "\n",
        "นายตู้ สามารถผลิตธงได้ 9 ธง ในชั่งโมงแรก แต่ไม่สามารถผลิตเพิ่มได้เมื่อทำงานหลายชั่วโมงติดต่อกัน ฉะนั้น\n",
        "- ชั่วโมงที่ 1 นายตู้ ผลิตได้ 9 ธง\n",
        "- ชั่วโมงที่ 2 นายตู้ ผลิตได้ 9 ธง\n",
        "- ชั่วโมงที่ 3 นายตู้ ผลิตได้ 9 ธง\n",
        "- ชั่วโมงที่ 4 นายตู้ ผลิตได้ 9 ธง\n",
        "- ...\n",
        "\n",
        "เขียนฟังก์ชันชื่อ daily_pay ซึ่งรับ parameter 3 ตัว ตามลำดับดังต่อไปนี้\n",
        "- จำนวนธงที่ผลิตได้ในชั่วโมงแรก\n",
        "- จำนวนธงที่สามารถผลิตเพิ่มได้ในแต่ละชั่วโมง\n",
        "- จำนวนชั่วโมงที่ทำงานในวันนี้\n",
        "\n",
        "ให้ฟังก์ชัน `daily_pay` คืนค่าเป็นค่าแรงที่จะได้รับทั้งหมดในวันนั้น\n",
        "\n",
        "ข้อกำหนด:  ห้ามใช้คำสั่ง `if` ในฟังก์ชัน `daily_pay` แต่สามารถเรียกใช้ฟังก์ชันจาก 11.1 ได้\n",
        "ตัวอย่าง\n",
        "```\n",
        ">>> daily_pay(6, 3, 5) # ตัวอย่างนายแมวด้านบน ทำงาน 5 ชั่วโมง\n",
        "460\n",
        ">>> daily_pay(9, 0, 4) # ตัวอย่างนายตู้ด้านบน ทำงาน 4 ชั่วโมง\n",
        "200\n",
        "```\n"
      ]
    },
    {
      "cell_type": "code",
      "execution_count": 20,
      "metadata": {
        "id": "mPX-loGAVp-l"
      },
      "outputs": [
        {
          "name": "stdout",
          "output_type": "stream",
          "text": [
            "460\n",
            "200\n"
          ]
        }
      ],
      "source": [
        "def daily_pay(initial_flag , add_flag , hour_worked) : \n",
        "    # define variable\n",
        "    daily_wage = 0\n",
        "    flag_done_in_hour = initial_flag\n",
        "    \n",
        "    # get flag done on each hour\n",
        "    for hour in range(hour_worked) : \n",
        "        # Steps : calculate -> add flag (next hour will be calculated in next loop)\n",
        "            # 1) calculate hourly wage then add sum\n",
        "        daily_wage += hourly_pay(flag_done_in_hour)\n",
        "            # 2) add flag \n",
        "        flag_done_in_hour += add_flag\n",
        "        \n",
        "    # return daily wage\n",
        "    return daily_wage\n",
        "        \n",
        "# call function\n",
        "print( daily_pay(6,3,5) )\n",
        "print( daily_pay(9,0,4) )"
      ]
    },
    {
      "cell_type": "markdown",
      "metadata": {
        "id": "uNeXHKkmVp-l"
      },
      "source": [
        "### ข้อ 13 - ดัชนีมวลกาย - BMI\n",
        "จงเขียนฟังก์ชันคำนวณค่า BMI สำหรับตรวจสอบภาวะไขมันและความอ้วน ที่รับอินพุต เป็นน้ำหนักและส่วนสูง มีสูตรคำนวณคือ น้ำหนักตัว(กิโลกรัม) / (ส่วนสูง(เมตร) ยกกำลังสอง) มีหลักเกณฑ์การตรวจสอบภาวะไขมันดังนี้\n",
        "\n",
        "1. อ้วนมาก = 30.0 ขึ้นไป\n",
        "2. อ้วน = 25.0 - 29.9\n",
        "3. น้ำหนักปกติ  = 18.6 - 24\n",
        "4. ผอมเกินไป = น้อยกว่า 18.5\n",
        "\n",
        "ให้ฟังก์ชัน `compute_bmi()` return ค่า BMI และ print สภาวะไขมัน เช่น 'น้ำหนักปกติ' หรือ 'ผอมเกินไป'"
      ]
    },
    {
      "cell_type": "code",
      "execution_count": 8,
      "metadata": {
        "id": "Iu7mmRl1Vp-l"
      },
      "outputs": [
        {
          "name": "stdout",
          "output_type": "stream",
          "text": [
            "Obese\n",
            "Normal\n"
          ]
        }
      ],
      "source": [
        "import math # for calculating math.pow()\n",
        "\n",
        "def compute_bmi(weight_kg , height_cm) : \n",
        "    # define bmi formula\n",
        "    height_m = height_cm / 100\n",
        "    bmi = weight_kg / math.pow(height_m , 2)\n",
        "    \n",
        "    # check condition\n",
        "    if bmi >= 30 : \n",
        "        return 'Super Obese'\n",
        "    elif 25 <= bmi <= 29.99 : \n",
        "        return \"Obese\"\n",
        "    elif 18.6 <= bmi <= 24 : \n",
        "        return \"Normal\"\n",
        "    else : \n",
        "        return \"Too thin\"\n",
        "    \n",
        "# call function\n",
        "print( compute_bmi(90 , 180) )\n",
        "print( compute_bmi(48 , 147) )"
      ]
    }
  ],
  "metadata": {
    "colab": {
      "name": "PC3 Variables Functions Modules.ipynb",
      "provenance": []
    },
    "kernelspec": {
      "display_name": "chatrpholvenv",
      "language": "python",
      "name": "python3"
    },
    "language_info": {
      "codemirror_mode": {
        "name": "ipython",
        "version": 3
      },
      "file_extension": ".py",
      "mimetype": "text/x-python",
      "name": "python",
      "nbconvert_exporter": "python",
      "pygments_lexer": "ipython3",
      "version": "3.13.6"
    }
  },
  "nbformat": 4,
  "nbformat_minor": 0
}
