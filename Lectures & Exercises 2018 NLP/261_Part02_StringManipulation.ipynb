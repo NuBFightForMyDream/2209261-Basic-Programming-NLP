{
 "cells": [
  {
   "cell_type": "markdown",
   "id": "18092c49",
   "metadata": {},
   "source": [
    "# **2209261 Basic Programming NLP** Lecture & Exercises\n",
    "## Part 2 : Strings Manipulation\n",
    "### By : Nine #2 Electrical Engineering 6730084521\n",
    "### Year 2 , Semester 1 , AY 2025 , Chulalongkorn University"
   ]
  },
  {
   "cell_type": "markdown",
   "id": "9061b2fa",
   "metadata": {},
   "source": [
    "## Lecture Part 2 : Strings Manipulation"
   ]
  },
  {
   "cell_type": "code",
   "execution_count": null,
   "id": "dfc1c4dd",
   "metadata": {},
   "outputs": [
    {
     "name": "stdout",
     "output_type": "stream",
     "text": [
      "Welcome , \"Chatrphol\" to Department of Electrical Engineering\n",
      " \n",
      "Chatrphol please enroll subjects below for changing majors to Computer Engineering\n",
      "    2102203 Prob Stat EE\n",
      "    2102208 Prog EE\n",
      "    2102210 Circuit Theory\n",
      "    5500208 Com Pres Skill\n",
      "    2209261 Basic Prog NLP\n",
      "    2110291 Indiv Comp I\n",
      "    \n"
     ]
    }
   ],
   "source": [
    "# quotes represent string type : '' single , \"\" double or \"\"\" \"\"\" (3 double quotes for long & many lines string)\n",
    "text1 = \"Welcome ,\" \n",
    "# Escaping characters by \n",
    "text2 = \" \\\"Chatrphol\\\" to Department of Electrical Engineering\"\n",
    "\n",
    "print(text1 + text2) # call string -> string concatenation\n",
    "\n",
    "# multiple lines string\n",
    "text3 = \"\"\" \n",
    "Chatrphol please enroll subjects below for changing majors to Computer Engineering\n",
    "    2102203 Prob Stat EE\n",
    "    2102208 Prog EE\n",
    "    2102210 Circuit Theory\n",
    "    5500208 Com Pres Skill\n",
    "    2209261 Basic Prog NLP\n",
    "    2110291 Indiv Comp I\n",
    "    \"\"\"\n",
    "print(text3)\n",
    "\n",
    "# Note : calling variable will be activated on last var only "
   ]
  },
  {
   "cell_type": "code",
   "execution_count": 10,
   "id": "1e0a5f6f",
   "metadata": {},
   "outputs": [
    {
     "data": {
      "text/plain": [
       "'DDDDDDD'"
      ]
     },
     "execution_count": 10,
     "metadata": {},
     "output_type": "execute_result"
    }
   ],
   "source": [
    "# TypeError for different type of string to concat\n",
    "s3 = 'D'\n",
    "s3 * 7 # string 'D' 7 times (length = 7)\n",
    "# note : multiplier of string must be integer"
   ]
  },
  {
   "cell_type": "code",
   "execution_count": 20,
   "id": "a4f3fbd6",
   "metadata": {},
   "outputs": [
    {
     "name": "stdout",
     "output_type": "stream",
     "text": [
      "base 4 height 6\n",
      "-----------------------------------------------------\n",
      "Hello! , chatr Krub/Kaa\n",
      "Welcome to our triangle calculation program!!!\n",
      "base 6 height 8\n",
      "Calculated Area : 24.0\n"
     ]
    }
   ],
   "source": [
    "# interact with users\n",
    "def compute_tri_area(base , height) : \n",
    "    print(\"base\" , base , \"height\" , height)\n",
    "    return 0.5 * base * height # return value\n",
    "\n",
    "compute_tri_area(4 , 6)\n",
    "\n",
    "print(\"-----------------------------------------------------\")\n",
    "\n",
    "def be_polite() : # no need argument > no need to return any value (print cmd)\n",
    "    user_text = input(\"Enter Username : \")\n",
    "    print(\"Hello! ,\" , user_text , \"Krub/Kaa\")\n",
    "    print(\"Welcome to our triangle calculation program!!!\")\n",
    "    \n",
    "# call function\n",
    "be_polite()\n",
    "base = int(input(\"Please Enter Base : \")) # Note : not same var as in argument (outside function is global var.)\n",
    "height = int(input(\"Please Enter Height : \")) \n",
    "\n",
    "# assign value of are to var\n",
    "area_calculated = compute_tri_area(base , height)\n",
    "print(\"Calculated Area :\" , area_calculated)"
   ]
  },
  {
   "cell_type": "code",
   "execution_count": 107,
   "id": "26538cbd",
   "metadata": {},
   "outputs": [
    {
     "name": "stdout",
     "output_type": "stream",
     "text": [
      "\u001b[31mSignature:\u001b[39m compute_tri_area(base, height)\n",
      "\u001b[31mDocstring:\u001b[39m <no docstring>\n",
      "\u001b[31mFile:\u001b[39m      /var/folders/t7/hn7xqdgs28vbkzlq0tg_5m480000gn/T/ipykernel_5667/3889332169.py\n",
      "\u001b[31mType:\u001b[39m      function"
     ]
    }
   ],
   "source": [
    "# \"\"\" \"\"\" were used for docstring\n",
    "# Ex : want to know what functions can do \n",
    "?compute_tri_area \n",
    "# no docstring"
   ]
  },
  {
   "cell_type": "code",
   "execution_count": 25,
   "id": "d8c40167",
   "metadata": {},
   "outputs": [
    {
     "name": "stdout",
     "output_type": "stream",
     "text": [
      "\u001b[31mSignature:\u001b[39m double_value(number)\n",
      "\u001b[31mDocstring:\u001b[39m double value then return\n",
      "\u001b[31mFile:\u001b[39m      /var/folders/t7/hn7xqdgs28vbkzlq0tg_5m480000gn/T/ipykernel_5667/2158518823.py\n",
      "\u001b[31mType:\u001b[39m      function"
     ]
    }
   ],
   "source": [
    "def double_value(number) : \n",
    "    # define docstring of this function\n",
    "    \"\"\"double value then return\"\"\"\n",
    "    return number * 2 \n",
    "\n",
    "?double_value \n",
    "# have docstring"
   ]
  },
  {
   "cell_type": "code",
   "execution_count": 32,
   "id": "20c0a4a2",
   "metadata": {},
   "outputs": [
    {
     "data": {
      "text/plain": [
       "60"
      ]
     },
     "execution_count": 32,
     "metadata": {},
     "output_type": "execute_result"
    }
   ],
   "source": [
    "## Memory Organization\n",
    "# stack = memory which store \"variables\"\n",
    "# heap = memory which store \"data\"\n",
    "base = 12 # stack store address x122 of base -> store data at heap x122 \n",
    "    # Note : x122 is memory address\n",
    "\n",
    "base2 = base * 5 # x122 -> x126 (60) -> collect 60 in x126 \n",
    "base2"
   ]
  },
  {
   "cell_type": "code",
   "execution_count": 65,
   "id": "28bcc099",
   "metadata": {},
   "outputs": [],
   "source": [
    "# Function tracing and stack frame\n",
    "def convert_to_minute(hours) :\n",
    "    \"\"\"Convert hours to minutes\"\"\" # docstring\n",
    "    minutes = hours * 60\n",
    "    return minutes\n",
    "\n",
    "minute1 = convert_to_minute(2)\n",
    "\n",
    "hour2 = 5\n",
    "minute2 = convert_to_minute(hour2)\n",
    "\n",
    "## Demonstrate How Stack & Heap work inside this function\n",
    "\n",
    "# Stack\n",
    "    # @x2 convert_to_minute function (pointing at heap x2)\n",
    "\n",
    "# Heap \n",
    "    # @x2 storing function\n",
    "\n",
    "# Function frame\n",
    "    # allocate new memory\n",
    "        # 1) hours @ x5 (2)\n",
    "        # 3) return -> point at x7 (120)\n",
    "    # 2) minutes @x7 (120) -> pointing at x7 (120)\n",
    "    # 4) minute1 point at 120 , return 120 as result\n",
    "    # 5) terminate function"
   ]
  },
  {
   "cell_type": "code",
   "execution_count": 66,
   "id": "ba32e52f",
   "metadata": {},
   "outputs": [
    {
     "name": "stdout",
     "output_type": "stream",
     "text": [
      "120\n",
      "300\n"
     ]
    }
   ],
   "source": [
    "print(minute1)\n",
    "print(minute2)"
   ]
  },
  {
   "cell_type": "markdown",
   "id": "743d133e",
   "metadata": {},
   "source": [
    "## Exercise Part 2 : Strings Manipulation\n",
    "\n",
    "string, input, print, defining a good function\n",
    "basic string manipulation, python3 string utilities\n",
    "\n",
    "บาง function หรือ method ที่ต้องใช้ในการแก้ปัญหาโจทย์เหล่านี้อาจจะยังไม่ได้เรียนมา ให้ลองหาใน documentation ของ python \n",
    "\n",
    "https://docs.python.org/3/library/stdtypes.html#string-methods\n",
    "\n",
    "อาจจะต้องใช้ methods เหล่านี้\n",
    "~~~~\n",
    " 'capitalize',\n",
    " 'count',\n",
    " 'endswith',\n",
    " 'find',\n",
    " 'index',\n",
    " 'isalnum',\n",
    " 'isalpha',\n",
    " 'isdecimal',\n",
    " 'isdigit',\n",
    " 'islower',\n",
    " 'isnumeric',\n",
    " 'isspace',\n",
    " 'isupper',\n",
    " 'lower',\n",
    " 'replace',\n",
    " 'rfind',\n",
    " 'rindex',\n",
    " 'rjust',\n",
    " 'rstrip',\n",
    " 'startswith',\n",
    " 'strip',\n",
    " 'swapcase',\n",
    " 'upper'\n",
    "~~~~"
   ]
  },
  {
   "cell_type": "markdown",
   "id": "2187e83a",
   "metadata": {},
   "source": [
    "## 261_P2_01 : Umbrella Lyrics\n",
    "เมื่อปี 2007 ที่ผ่านมานักร้องสาว Rihanna จากเกาะ Barbados ได้ร้องเพลงสุดฮิตที่เกี่ยวข้องกับสภาพภูมิอากาศของเมืองไทยในขณะนี้เป็นยิ่งนัก \n",
    "ท่อนฮุคที่ดังติดหูคือ\n",
    "\n",
    "> You can stand under my umbrella\n",
    ">\n",
    "> You can stand under my umbrella, ella, ella, eh, eh, eh\n",
    ">\n",
    "> Under my umbrella, ella, ella, eh, eh, eh\n",
    ">\n",
    "> Under my umbrella, ella, ella, eh, eh, eh\n",
    ">\n",
    "> Under my umbrella, ella, ella, eh, eh, eh, eh, eh, eh\n",
    "\n",
    "จงเขียนโปรแกรม Python ที่ print เนื้อเพลง Umbrella ส่วนที่คัดลอกไว้ข้างบนนี้โดย reuse function ให้ได้มากที่สุด \n",
    "\n",
    "ข้อนี้ไม่ต้องเขียน Docstring "
   ]
  },
  {
   "cell_type": "code",
   "execution_count": 39,
   "id": "04bcabd8",
   "metadata": {},
   "outputs": [
    {
     "name": "stdout",
     "output_type": "stream",
     "text": [
      "\n",
      "You can stand under my umbrella\n",
      "You can stand under my umbrella, ella, ella, eh, eh, eh\n",
      "Under my umbrella, ella, ella, eh, eh, eh\n",
      "Under my umbrella, ella, ella, eh, eh, eh\n",
      "Under my umbrella, ella, ella, eh, eh, eh, eh, eh, eh\n"
     ]
    }
   ],
   "source": [
    "# define umbrella_lyrics string\n",
    "umbrella_lyrics = \"\"\"\n",
    "> You can stand under my umbrella\n",
    "> You can stand under my umbrella, ella, ella, eh, eh, eh\n",
    "> Under my umbrella, ella, ella, eh, eh, eh\n",
    "> Under my umbrella, ella, ella, eh, eh, eh\n",
    "> Under my umbrella, ella, ella, eh, eh, eh, eh, eh, eh\n",
    "\"\"\" # concat with ... \\n> ... => we can split with > to list then print each line (need to strip)\n",
    "\n",
    "def print_umbrella_lyrics(umbrella_lyrics) : \n",
    "    # split to list \n",
    "    umbrella_list = umbrella_lyrics.split(\">\")\n",
    "    # strip '\\n' then strip for space\n",
    "    for each_line in umbrella_list : \n",
    "        print(each_line.strip('\\n').strip(' '))\n",
    "        \n",
    "# call function (no need to return value)\n",
    "print_umbrella_lyrics(umbrella_lyrics)"
   ]
  },
  {
   "cell_type": "markdown",
   "id": "1df72749",
   "metadata": {},
   "source": [
    "## 261_P2_02 : HTML Tags\n",
    "เว็บไซต์เขียนด้วยภาษา HTML เต็มไปด้วย HTML tag เพื่อ mark ส่วนต่างๆ ของเว็บไซต์ของออกมาเป็นในลักษณะที่เราต้องการ\n",
    "~~~~\n",
    "<html>\n",
    "    <body>\n",
    "        \"Hello, World\"\n",
    "    </body>\n",
    "</html>\n",
    "~~~~\n",
    "เพื่อให้ถูกต้องตาม Syntax ของภาษา HTML เมื่อเราเปิดแท็ก `<tag>` แล้วก็ต้องปิดแท็ก `</tag>` ดังนี้เป็นต้น\n",
    "ชื่อของ tag ที่ล้อมข้อความมีหน้าทีี่เปลี่ยนให้เป็นลักษณะใดลักษณะหนึ่งเช่น\n",
    "\n",
    "~~~~\n",
    "<html>\n",
    "    <body>\n",
    "        <b>\"Hello, World\"</b>\n",
    "    </body>\n",
    "</html>\n",
    "~~~~\n",
    "\n",
    "tag b จะทำให้ข้อความที่ถูกล้อมไว้ออกมาเป็นตัวหนา\n",
    "\n",
    "นอกจากนั้นแล้วเรายังสามารถใช้สองแท็คพร้อมกันด้วย\n",
    "\n",
    "\n",
    "~~~~\n",
    "<html>\n",
    "    <body>\n",
    "        <b><u>\"Hello, World\"</u></b>\n",
    "    </body>\n",
    "</html>\n",
    "~~~~\n",
    "\n",
    "tag b และ u จะทำให้ข้อความที่ถูกล้อมไว้ออกมาเป็นตัวหนาและขีดเส้นใต้\n",
    "\n",
    "จงเขียน function ที่ print ภาษา HTML ออกมาแบบดังตัวอย่างเช่น\n",
    "~~~~\n",
    ">>>> make_HTML('\"Hello, World\"', 'b') \n",
    "<html>\n",
    "    <body>\n",
    "        <b>\"Hello, World\"</b>\n",
    "    </body>\n",
    "</html>\n",
    "\n",
    ">>>> make_HTML_two_tags('\"Hello, World\"', 'b', 'u') \n",
    "<html>\n",
    "    <body>\n",
    "        <b><u>\"Hello, World\"</u></b>\n",
    "    </body>\n",
    "</html>\n",
    "\n",
    "~~~~\n"
   ]
  },
  {
   "cell_type": "code",
   "execution_count": 54,
   "id": "7a1396a4",
   "metadata": {},
   "outputs": [],
   "source": [
    "# note : <body> use 1 tab . <b> use 2 tabs\n",
    "\n",
    "def make_HTML(text, tag_name):\n",
    "    # define list (string each line) and string (for each line)\n",
    "    each_line_text = \"\"\n",
    "    \n",
    "    for count_line in range(5) : # 4 round -> 0,1,2,3,4\n",
    "        # check line\n",
    "        if (count_line == 0) : \n",
    "            each_line_text = '<html>'\n",
    "        elif (count_line == 1) :\n",
    "            each_line_text = '  <body>'\n",
    "        elif (count_line == 3) : \n",
    "            each_line_text = '  </body>'\n",
    "        elif (count_line == 4) : \n",
    "            each_line_text = '</html>'\n",
    "        else : # line 2 -> add text\n",
    "            each_line_text = '      ' + '<' + tag_name + '>' + '\"' + text + '\"' + '</' + tag_name + '>'\n",
    "        \n",
    "        # print line\n",
    "        print(each_line_text)\n",
    "\n",
    "def make_HTML_two_tags(text, tag_name1, tag_name2):\n",
    "\n",
    "    # define list (string each line) and string (for each line)\n",
    "    each_line_text = \"\"\n",
    "    \n",
    "    for count_line in range(5) : # 4 round -> 0,1,2,3,4\n",
    "        # check line\n",
    "        if (count_line == 0) : \n",
    "            each_line_text = '<html>'\n",
    "        elif (count_line == 1) :\n",
    "            each_line_text = '  <body>'\n",
    "        elif (count_line == 3) : \n",
    "            each_line_text = '  </body>'\n",
    "        elif (count_line == 4) : \n",
    "            each_line_text = '</html>'\n",
    "        else : # line 2 -> add text\n",
    "            each_line_text = '      ' + '<' + tag_name1 + '>' + '<' + tag_name2 + '>' + '\"' + text + '\"' + '</' + tag_name2 + '>' + '</' + tag_name1 + '>'\n",
    "            # <tag1><tag2>\"text\"</tag2></tag1>\n",
    "        \n",
    "        # print line\n",
    "        print(each_line_text)\n",
    "    "
   ]
  },
  {
   "cell_type": "code",
   "execution_count": 57,
   "id": "ff4393ef",
   "metadata": {},
   "outputs": [
    {
     "name": "stdout",
     "output_type": "stream",
     "text": [
      "<html>\n",
      "  <body>\n",
      "      <b>\"hellloworld\"</b>\n",
      "  </body>\n",
      "</html>\n",
      "--------------------------------\n",
      "<html>\n",
      "  <body>\n",
      "      <a><b>\"helloworld\"</b></a>\n",
      "  </body>\n",
      "</html>\n"
     ]
    }
   ],
   "source": [
    "# call functions\n",
    "make_HTML('hellloworld' , 'b')\n",
    "print('--------------------------------')\n",
    "make_HTML_two_tags('helloworld' , 'a' , 'b')"
   ]
  },
  {
   "cell_type": "markdown",
   "id": "acfedca3",
   "metadata": {},
   "source": [
    "## 261_P2_03 : Same String\n",
    "จงเขียน function ที่เปรียบเทียบ String ว่าเหมือนกันหรือไม่ โดยไม่คำนึงถึงตัวเล็กตัวใหญ่ (case insensitive)"
   ]
  },
  {
   "cell_type": "code",
   "execution_count": 60,
   "id": "6453a62a",
   "metadata": {},
   "outputs": [],
   "source": [
    "def check_if_string_is_same(string1 , string2) :\n",
    "    # change both string to upper / lower first\n",
    "    string1 = string1.lower() ; string2 = string2.lower()\n",
    "    # print boolean if same\n",
    "    print(string1 == string2)"
   ]
  },
  {
   "cell_type": "code",
   "execution_count": 62,
   "id": "85c70260",
   "metadata": {},
   "outputs": [
    {
     "name": "stdout",
     "output_type": "stream",
     "text": [
      "True\n"
     ]
    }
   ],
   "source": [
    "check_if_string_is_same('CoMp pRoG' , \"COMP PROG\")"
   ]
  },
  {
   "cell_type": "markdown",
   "id": "f7bdda5e",
   "metadata": {},
   "source": [
    "## 261_P2_04 : Check All Consonants\n",
    "จงเขียน function ที่ตัดสินว่า string ที่ให้มานั้นเป็นพยัญชนะภาษาอังกฤษล้วนๆ หรือไม่"
   ]
  },
  {
   "cell_type": "code",
   "execution_count": null,
   "id": "ff120866",
   "metadata": {},
   "outputs": [
    {
     "name": "stdout",
     "output_type": "stream",
     "text": [
      "True\n",
      "False\n"
     ]
    }
   ],
   "source": [
    "def is_all_consonants(text):\n",
    "    # loop check each character\n",
    "    for each_character in text :\n",
    "        if each_character.isalpha() == False : # not an alphabet , return False immediately\n",
    "            return False\n",
    "    # if not foun d, return True\n",
    "    return True\n",
    "\n",
    "# call functions\n",
    "print( is_all_consonants(\"COMPPROG\") ) # True\n",
    "print( is_all_consonants('2EEto3CPDIWA') ) # False"
   ]
  },
  {
   "cell_type": "markdown",
   "id": "a95eff8b",
   "metadata": {},
   "source": [
    "## 261_P2_05 Count Occurences\n",
    "จงเขียน function ที่นับจำนวนของคำที่ระบุให้ว่าปรากฏอยู่ใน String กี่ครั้ง"
   ]
  },
  {
   "cell_type": "code",
   "execution_count": 75,
   "id": "386bd360",
   "metadata": {},
   "outputs": [
    {
     "name": "stdout",
     "output_type": "stream",
     "text": [
      "6\n",
      "4\n"
     ]
    }
   ],
   "source": [
    "def count_occurrences(text, word):\n",
    "    '''\n",
    "    Testcases\n",
    "    >>>> count_occurrences('You see me I be work work work work work work ', 'work')\n",
    "    6\n",
    "    >>>> count_occurrences('Before the table turn turn turn turn ', 'turn')\n",
    "    4\n",
    "    '''\n",
    "    # Sol 1 : using count functions (counting string found in string)\n",
    "    # return(text.count(word))\n",
    "    \n",
    "    # Sol 2 : for loop , count word in list\n",
    "    list_of_words = text.strip().split() # strip space then split into list\n",
    "    count_word = 0 \n",
    "    \n",
    "    for each_word in list_of_words : \n",
    "        if each_word.lower() == word.lower() : # dont care sensitive case\n",
    "            count_word += 1 \n",
    "    \n",
    "    # print count_word\n",
    "    return count_word\n",
    "\n",
    "# print output value of functions (call functions thwn print result)\n",
    "print( count_occurrences('You see me I be work work work work work work ', 'work') )\n",
    "print( count_occurrences('Before the table turn turn turn turn ', 'turn') )\n",
    "    "
   ]
  },
  {
   "cell_type": "markdown",
   "id": "5804daa3",
   "metadata": {},
   "source": [
    "## 261_P2_06 Trim String\n",
    "บางทีเวลาเราอ่าน String ออกมาจากแหล่งอื่น String มักจะไม่ค่อยอยู่ในสภาพที่ดี ที่พบบ่อยคือมักจะมีเว้นว่างหลายช่องข้างหน้าข้างหลังของข้อความเช่น \n",
    "\n",
    "`'     ความกตัญญูเป็นเครื่องหมายของคนดี '`\n",
    "\n",
    "เรามักจะต้อง trim ข้อความให้ไม่มี whitespace ข้างหน้าและข้างหลังข้อความ \n",
    "\n",
    "จงเขียน function ที่ใช้ในการ trim string"
   ]
  },
  {
   "cell_type": "code",
   "execution_count": 85,
   "id": "3960f70e",
   "metadata": {},
   "outputs": [
    {
     "data": {
      "text/plain": [
       "'ความกตัญญูเป็นเครื่องหมายของคนด'"
      ]
     },
     "execution_count": 85,
     "metadata": {},
     "output_type": "execute_result"
    }
   ],
   "source": [
    "def trim_string(text):\n",
    "    '''\n",
    "    # Testcases\n",
    "    >>>> trim_string('     ความกตัญญูเป็นเครื่องหมายของคนดี ')\n",
    "    ความกตัญญูเป็นเครื่องหมายของคนดี\n",
    "    '''\n",
    "    \n",
    "    # Sol 1 : using strip() for trimming spaces\n",
    "    # return text.strip()\n",
    "    \n",
    "    # Sol 2 : find index then print \n",
    "        # Step 1 : for loop find start_index of character , do same but reverse check\n",
    "        # Step 2 : print range of that string\n",
    "    \n",
    "    start_index = 0 ; end_index = 0 \n",
    "    \n",
    "    # Loop 1 : front index\n",
    "    for pos in range(len(text)) : \n",
    "        if (text[pos].isalpha() == True) : # found alphabet\n",
    "            start_index = pos\n",
    "            break\n",
    "        \n",
    "    # Loop 2 : end index\n",
    "    for pos_reverse in range(len(text) - 1 , -1 , -1) : # !!! last character is len(text) - 1 !!!\n",
    "        if text[pos_reverse].isalpha() == True : # found alphabet (reverse)\n",
    "            end_index = pos_reverse\n",
    "            break\n",
    "        \n",
    "    # return string containing start and end index\n",
    "    return text[ start_index : end_index + 1]\n",
    "            \n",
    "# call function  \n",
    "trim_string('     ความกตัญญูเป็นเครื่องหมายของคนดี      ')  # it streams thai vowel out (idk how to fix , it's thai language problem not from me)"
   ]
  },
  {
   "cell_type": "markdown",
   "id": "f3dcd70f",
   "metadata": {},
   "source": [
    "## 261_P2_07 Bilabial Consonants\n",
    "จงเขียน function นับจำนวน bilabial consonants ใน phonemic transcription ภาษาอังกฤษที่ให้มา เช่น เสียง /bīp/ มีสองตัว"
   ]
  },
  {
   "cell_type": "code",
   "execution_count": null,
   "id": "2754313b",
   "metadata": {},
   "outputs": [],
   "source": [
    "## Info From ChatGPT\n",
    "\n",
    "# Bilabial consonants คือ เสียงพยัญชนะที่เกิดจากการใช้ริมฝีปากทั้งสองข้างมาชิดกัน เช่น /p/, /b/, /m/\n",
    "# ตัวอย่างคำที่มี bilabial consonant เช่น \"bat\" (/b/), \"pat\" (/p/), \"mat\" (/m/)\n",
    "# \n",
    "# Phonemic transcription คือ การเขียนเสียงพูดของคำในรูปแบบสัญลักษณ์เสียง (phoneme) \n",
    "# โดยใช้เครื่องหมาย /.../ เพื่อแสดงเสียงที่ออกจริง เช่น \"bat\" เขียนเป็น /bæt/\n",
    "# \n",
    "# Note : จากตาราง phonetics มี /b/ (เบอะ) , /p/ (เปอะ) , /m/ (เหมอะ) , /w/ (เหวอะ) ที่เป็น bilabial consonants"
   ]
  },
  {
   "cell_type": "code",
   "execution_count": null,
   "id": "baa4d212",
   "metadata": {},
   "outputs": [
    {
     "name": "stdout",
     "output_type": "stream",
     "text": [
      "3\n",
      "2\n"
     ]
    }
   ],
   "source": [
    "def count_bilabial_consonants(phonemic_trans):\n",
    "    # phonomic_trans is in form /alphabet vowel end_alphabet/\n",
    "    \n",
    "    count_bilabial = 0 # define count variables\n",
    "    bilabial_consonants_list = ['b' , 'p' , 'm' , 'w']\n",
    "    \n",
    "    # for loop check consonant\n",
    "    for each_char in phonemic_trans :\n",
    "        if each_char in bilabial_consonants_list : \n",
    "            count_bilabial += 1\n",
    "    \n",
    "    # print output\n",
    "    return count_bilabial\n",
    "    \n",
    "# call functions\n",
    "print( count_bilabial_consonants('/ngarm-wong-warn/') ) # 3 \n",
    "print( count_bilabial_consonants('/wat-pra-sri-rat-ta-na-trai/') ) # 2"
   ]
  },
  {
   "cell_type": "markdown",
   "id": "e52ab50d",
   "metadata": {},
   "source": [
    "## 261_P2_08 Unicode of Characters\n",
    "character แต่ละตัวใน string ของ python3 นั้นที่จริงแล้วเป็นตัวเลขโดยเราสามารถแปลงตัวอักษรให้เป็นตัวเลขที่ใช้เก็บค่าแทนตัวอักษรโดยใช้ built-in function `ord` เช่น\n",
    "~~~\n",
    "ord('a') \n",
    ">>>> 97\n",
    "ord('b')\n",
    ">>>> 98\n",
    "ord('z')\n",
    ">>>> 122\n",
    "~~~\n",
    "\n",
    "ตัวเลขเหล่านี้เรียกว่า Unicode code point สามารถเปิดดูตัวอย่างได้ที่\n",
    "https://en.wikipedia.org/wiki/List_of_Unicode_characters\n",
    "\n",
    "และเราสามารถแปลง Unicode code point ให้เป็นตัวอักษรได้โดยใช้ function `chr`\n",
    "\n",
    "~~~\n",
    "chr(97)\n",
    ">>>> 'a'\n",
    "chr(3585)\n",
    ">>>> 'ก'\n",
    "~~~\n",
    "\n",
    "เราสามารถใช้ unicode code point ในการแปลงข้อความให้เป็นรหัสลับ (encryption) ได้ง่ายๆ โดยบวก unicode code point เดิมกับจำนวนคงที่เล็กๆ (offset) เช่น 1 หรือ 2 จากนั้นก็เปลี่ยน code point ใหม่นี้กลับเป็น string เช่น 'abc' อาจจะกลายเป็น 'bcd' ถ้าเราบวก code point ด้วยเลข 1\n",
    "\n",
    "จงเขียน function ที่ encrypt ข้อความโดยวิธีการดังกล่าว และเขียน function ที่ถอดรหัสกลับมาสู่ข้อความเดิม (ถ้าหากจะถอดรหัสได้อย่างถูกต้อง ผู้ใช้จะต้องรู้ว่า offset ที่ใช้ในการ encrypt นั้นคืออะไร)"
   ]
  },
  {
   "cell_type": "code",
   "execution_count": null,
   "id": "10c97e61",
   "metadata": {},
   "outputs": [
    {
     "data": {
      "text/plain": [
       "'ฅศำยขถาฎฎฺแผ่บแฅฤุ้ฮจฬยำรฃฮจฅบตึ'"
      ]
     },
     "execution_count": 89,
     "metadata": {},
     "output_type": "execute_result"
    }
   ],
   "source": [
    "def simple_encrypt(text, offset):\n",
    "    '''\n",
    "    simple_encrypt('ความกตัญญูเป็นเครื่องหมายของคนดี' , 1) # offset = 1\n",
    "    >>>> ฅศำยขถาฎฎฺแผ่บแฅฤุ้ฮจฬยำรฃฮจฅบตึ\n",
    "    '''\n",
    "    encrypted_text = \"\"\n",
    "    # for loop , encrypt\n",
    "    for each_char in text : \n",
    "        # ord(char) = integer , chr(integer) = char\n",
    "        encrypted_text += chr( ord(each_char) + offset )\n",
    "    # done loop , return output\n",
    "    return encrypted_text  \n",
    "\n",
    "# call function\n",
    "simple_encrypt('ความกตัญญูเป็นเครื่องหมายของคนดี' , 1)"
   ]
  },
  {
   "cell_type": "code",
   "execution_count": 92,
   "id": "80466f3d",
   "metadata": {},
   "outputs": [
    {
     "data": {
      "text/plain": [
       "'ความกตัญญูเป็นเครื่องหมายของคนดี'"
      ]
     },
     "execution_count": 92,
     "metadata": {},
     "output_type": "execute_result"
    }
   ],
   "source": [
    "def simple_decrypt(text, offset):\n",
    "    '''\n",
    "    simple_decrypt('ฅศำยขถาฎฎฺแผ่บแฅฤุ้ฮจฬยำรฃฮจฅบตึ' , 1) # offset = 1\n",
    "    >>>> ความกตัญญูเป็นเครื่องหมายของคนดี\n",
    "    '''\n",
    "    decrypted_text = \"\"\n",
    "    # for loop , encrypt\n",
    "    for each_char in text : \n",
    "        # ord(char) = integer , chr(integer) = char\n",
    "        decrypted_text += chr( ord(each_char) - offset )\n",
    "    # done loop , return output\n",
    "    return decrypted_text  \n",
    "\n",
    "# call function\n",
    "simple_decrypt('ฅศำยขถาฎฎฺแผ่บแฅฤุ้ฮจฬยำรฃฮจฅบตึ' , 1)"
   ]
  },
  {
   "cell_type": "markdown",
   "id": "a735f77f",
   "metadata": {},
   "source": [
    "## 261_P2_09 Check Lowercase & Uppercase Letter\n",
    "จงเขียน function ที่ตัดสินว่า string ภาษาอังกฤษที่ให้มานั้นมีทั้งตัวเล็ก และตัวใหญ่หรือไม่"
   ]
  },
  {
   "cell_type": "code",
   "execution_count": 95,
   "id": "21d60aba",
   "metadata": {},
   "outputs": [
    {
     "name": "stdout",
     "output_type": "stream",
     "text": [
      "Have Uppercase & Lowercase Letter\n",
      "Have Uppercase But No Lowercase Letter\n",
      "No Uppercase But have Lowercase Letter\n"
     ]
    }
   ],
   "source": [
    "def check_if_lower_and_upper_in_word(word) : \n",
    "    # given both status as False first\n",
    "    have_lowercase = False ; have_uppercase = False\n",
    "    \n",
    "    # for loop check letter if it's lower or upper\n",
    "    for each_char in word : \n",
    "        if each_char.islower() == True : \n",
    "            have_lowercase = True\n",
    "        elif each_char.isupper() == True : \n",
    "            have_uppercase = True\n",
    "            \n",
    "    # check condition\n",
    "    if (have_uppercase == True and have_lowercase == True) :\n",
    "        return \"Have Uppercase & Lowercase Letter\"\n",
    "    elif (have_uppercase == True and have_lowercase == False) : \n",
    "        return \"Have Uppercase But No Lowercase Letter\"\n",
    "    elif (have_uppercase == False and have_lowercase == True) : \n",
    "        return \"No Uppercase But have Lowercase Letter\"   \n",
    "    else : \n",
    "        return \"No Uppercase and Lowercase Letter\"\n",
    "    \n",
    "# call function\n",
    "print( check_if_lower_and_upper_in_word(\"Comp Prog 2110101\") ) # Have Uppercase & Lowercase\n",
    "print( check_if_lower_and_upper_in_word(\"HELLO WORLD\") ) # have uppercase but no lowercase\n",
    "print( check_if_lower_and_upper_in_word(\"2209261 basic programming nlp\") ) # have lowercase but no uppercase"
   ]
  },
  {
   "cell_type": "markdown",
   "id": "8989a9e2",
   "metadata": {},
   "source": [
    "## 261_P2_10 : Past Tense\n",
    "จงเขียน function ที่แปลง regular verb รูป infinitive ให้กลายเป็น past tense โดยการเติม -ed โดยต้องสามารถแปลงรูปสำหรับ verb เหล่านี้ให้ได้ถูกต้อง\n",
    "\n",
    "* rain\n",
    "* clamp\n",
    "* panic\n",
    "* traffic\n",
    "* invade\n",
    "* reverse"
   ]
  },
  {
   "cell_type": "code",
   "execution_count": 99,
   "id": "a4f4d75d",
   "metadata": {},
   "outputs": [
    {
     "name": "stdout",
     "output_type": "stream",
     "text": [
      "reversed\n",
      "studied\n",
      "panicked\n"
     ]
    }
   ],
   "source": [
    "def past_tense(word) : \n",
    "    # if word ends with only \"e\" -> put d only\n",
    "    # if word ends with \"y\" -> change y to i then put -ed\n",
    "    # if words ends with \"c\" -> add -ked to word\n",
    "    # otherwise , put -ed after word\n",
    "    # well , we didn't care in case of changing word Ex : go -> went\n",
    "    \n",
    "    if word[-1] == 'e' : \n",
    "        return word + 'd'\n",
    "    elif word[-1] == 'y' : \n",
    "        return word[:-1] + 'ied' # change y to i then put -ed back\n",
    "    elif word[-1] == 'c' : \n",
    "        return word + 'ked'\n",
    "    else : \n",
    "        return word + 'ed'\n",
    "    \n",
    "# call functions\n",
    "print( past_tense('reverse') )\n",
    "print( past_tense('study') )\n",
    "print( past_tense('panic') )"
   ]
  },
  {
   "cell_type": "markdown",
   "id": "1ae95eaa",
   "metadata": {},
   "source": [
    "## 261_P2_11 Remove HTML Tags\n",
    "จงเขียน function ที่ลบ HTML tag ที่ล้อมรอบข้อความอยู่ โดยให้ assume ว่ามี HTML tag เพียงชั้นเดียว "
   ]
  },
  {
   "cell_type": "code",
   "execution_count": 101,
   "id": "15fef76a",
   "metadata": {},
   "outputs": [
    {
     "data": {
      "text/plain": [
       "'important message'"
      ]
     },
     "execution_count": 101,
     "metadata": {},
     "output_type": "execute_result"
    }
   ],
   "source": [
    "def remove_tag(line):\n",
    "    '''\n",
    "    remove_tag('<b>bold-faced terms here</b>')\n",
    "    >>>> 'bold-faced terms here'\n",
    "    remove_tag('<u>important message</u>')\n",
    "    >>>> 'important message'\n",
    "    '''\n",
    "    \n",
    "    # check string pos 0,2 if it's bracket , check pos -1 , -3 , -4 for > , / , < \n",
    "    if (line[0] == '<' and line[2] == '>') and (line[-1] == '>' and line[-3] == '/' and line[-4] == '<') : \n",
    "        # index string , starting at pos 3 , ending at -4\n",
    "        return line[3:-4]\n",
    "    \n",
    "# call function\n",
    "remove_tag('<b>bold-faced terms here</b>')\n",
    "remove_tag('<u>important message</u>')"
   ]
  },
  {
   "cell_type": "markdown",
   "id": "3e53907f",
   "metadata": {},
   "source": [
    "## 261_P2_12 Data Scrubbing\n",
    "เวลาเราได้ข้อมูลภาษาเข้ามาบางทีเราต้องลบข้อมูลส่วนตัวที่อาจจะปะปนมากับข้อมูล เช่น ชื่อ ที่อยู่ เบอร์โทรศัพท์ กระบวนการนี้เรียกว่า data scrubbing คือถูเอาข้อมูลส่วนตัวออกไป ในทางปฏิบัติแล้วแทนที่จะลบข้อมูลออก เราจะแทนข้อมูลเดิมด้วยข้อมูลอื่นๆ ที่เราตั้งขึ้นมาเอง เช่น อาจจะเปลี่ยนชื่อที่พบในข้อมูลเป็นชื่อสมมติอื่น\n",
    "\n",
    "จงเขียน function ที่เปลี่ยนชื่อของคนที่ระบุ มาเป็นชื่อสมมติ"
   ]
  },
  {
   "cell_type": "code",
   "execution_count": 106,
   "id": "9110ca56",
   "metadata": {},
   "outputs": [
    {
     "name": "stdout",
     "output_type": "stream",
     "text": [
      "The CEO of Facebook is David Zuckerberg who is now a billionaire. His employees like Mark.\n",
      "Hello Chatrphol , Welcome To Department of Electrical Engineering , Minor with Computer Engineering\n"
     ]
    }
   ],
   "source": [
    "def scrub_name(text, name, hypothetical_name):\n",
    "    '''\n",
    "    scrub_name('The CEO of Facebook is Mark Zuckerberg who is now a billionaire. His employees like Mark.', 'Mark', 'David')\n",
    "    >>>> 'The CEO of Facebook is David Zuckerberg who is now a billionaire. His employees like David.'\n",
    "    '''\n",
    "    \n",
    "    # split words to list , then swap words\n",
    "    words_list = text.split()\n",
    "    # for loop each element to check word\n",
    "    for i in range(len(words_list)) : \n",
    "        \n",
    "        if words_list[i] == name : \n",
    "            # change name to hypothetical_name\n",
    "            words_list[i] = hypothetical_name\n",
    "            \n",
    "        elif words_list[i] == hypothetical_name : \n",
    "            words_list[i] = name\n",
    "    \n",
    "    # joining list      \n",
    "    return ' '.join(words_list) # join list to string\n",
    "\n",
    "# call function\n",
    "print( scrub_name('The CEO of Facebook is Mark Zuckerberg who is now a billionaire. His employees like Mark.', 'Mark', 'David') )\n",
    "print( scrub_name(\"Hello Chatrphol , Welcome To Department of Computer Engineering , Minor with Electrical Engineering\" , \"Computer\" , \"Electrical\") )"
   ]
  }
 ],
 "metadata": {
  "kernelspec": {
   "display_name": "Python 3",
   "language": "python",
   "name": "python3"
  },
  "language_info": {
   "codemirror_mode": {
    "name": "ipython",
    "version": 3
   },
   "file_extension": ".py",
   "mimetype": "text/x-python",
   "name": "python",
   "nbconvert_exporter": "python",
   "pygments_lexer": "ipython3",
   "version": "3.13.6"
  }
 },
 "nbformat": 4,
 "nbformat_minor": 5
}
