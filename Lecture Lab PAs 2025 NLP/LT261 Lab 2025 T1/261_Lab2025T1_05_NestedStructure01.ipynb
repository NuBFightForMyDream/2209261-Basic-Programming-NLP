{
  "cells": [
    {
      "cell_type": "markdown",
      "metadata": {},
      "source": [
        "# 2209261 Basic Programming for NLP\n",
        "## Lab 05 : Nested Structure 01 \n",
        "## Done by : 6730084521 Chatrphol Ovanonchai"
      ]
    },
    {
      "cell_type": "markdown",
      "metadata": {
        "id": "K4Qm4DvnsDyY"
      },
      "source": [
        "# PART 1: List of list AND list of tuple"
      ]
    },
    {
      "cell_type": "markdown",
      "metadata": {
        "id": "HDQ1ul3essmP"
      },
      "source": [
        "### Q1.1 Find min/max length of sentence\n",
        "\n",
        "Write a function that transforms a list of sentences (without tokenization) into a list of word counts, and then returns a tuple containing the minimum and maximum values.\n",
        "\n",
        "\n",
        "\n"
      ]
    },
    {
      "cell_type": "code",
      "execution_count": 5,
      "metadata": {
        "colab": {
          "base_uri": "https://localhost:8080/"
        },
        "id": "1R9R9Z0UsJjS",
        "outputId": "7e2567e7-4004-4a35-f0f9-45e66d542883"
      },
      "outputs": [
        {
          "name": "stdout",
          "output_type": "stream",
          "text": [
            "(2, 8)\n"
          ]
        }
      ],
      "source": [
        "def get_min_max_sentence_length(sentence_list):\n",
        "    # split into list then count length then put back in list\n",
        "    sentence_length = []\n",
        "    for text in sentence_list :\n",
        "        sentence_length.append( len(text.split()) )\n",
        "    # then get tuple of min and max length \n",
        "    return ( min(sentence_length) , max(sentence_length) )\n",
        "\n",
        "sentences = ['short sentence.', 'This is a very long long long sentence.',\n",
        "             'a normal sentence here', 'another normal sentence']\n",
        "print(get_min_max_sentence_length(sentences)) # (2,8)"
      ]
    },
    {
      "cell_type": "markdown",
      "metadata": {
        "id": "eau2bwP7umpQ"
      },
      "source": [
        "### Q1.2: Find unique nicknames\n",
        "we have a list of tuples containing the names of current students in the form (First Name, Nickname, Gender). Write a function that returns a list of unique male nicknames sorted in alphabetical order.\n",
        "\n"
      ]
    },
    {
      "cell_type": "code",
      "execution_count": 9,
      "metadata": {
        "colab": {
          "base_uri": "https://localhost:8080/"
        },
        "id": "PNRu84SDumaq",
        "outputId": "0debade8-f5ca-4d90-a34e-21ba8f0e36b7"
      },
      "outputs": [
        {
          "name": "stdout",
          "output_type": "stream",
          "text": [
            "['Atom', 'Ton']\n"
          ]
        }
      ],
      "source": [
        "def get_male_nicknames(students):\n",
        "    # for loop each info in list\n",
        "    male_students_name = []\n",
        "    for (name , nickname , gender) in students : \n",
        "        if gender == \"Male\" and nickname not in male_students_name : \n",
        "            male_students_name.append( nickname )\n",
        "    \n",
        "    # sort then return \n",
        "    return sorted( male_students_name ) # alphabetically\n",
        "\n",
        "nicknames =  get_male_nicknames([('Maysa', 'May', 'Female'),('Waruntorn', 'Ing', 'Female'),('Maysaya', 'May', 'Female'), ('Watsakorn', 'May', 'Female'),('Chonkan', 'Atom', 'Male'),('Saran', 'Ton', 'Male'), ('Tonkid', 'Ton', 'Male')])\n",
        "print(nicknames)"
      ]
    },
    {
      "cell_type": "markdown",
      "metadata": {
        "id": "NQoSeYDXsVvv"
      },
      "source": [
        "### Q1.3)  Find the Maximum Length String in a List of Lists\n",
        "\n",
        "Write a function that finds the longest string in a list of lists of strings."
      ]
    },
    {
      "cell_type": "code",
      "execution_count": 11,
      "metadata": {
        "colab": {
          "base_uri": "https://localhost:8080/"
        },
        "id": "xCzNCFUasRHJ",
        "outputId": "b6b57bd0-e13e-44a9-b7b7-f618f8d3d670"
      },
      "outputs": [
        {
          "name": "stdout",
          "output_type": "stream",
          "text": [
            "elderberry\n"
          ]
        }
      ],
      "source": [
        "def longest_string(list_of_lists):\n",
        "    # for loop each sublist to get longest word in list\n",
        "    longestString = ['dummy' , 0] # dummy assigned value \n",
        "    \n",
        "    # for loop , get info for each word\n",
        "    for sublist in list_of_lists : \n",
        "        # get max word & length\n",
        "        maxlengthWord = max(sublist)\n",
        "        max_length = len( max(sublist) )\n",
        "        \n",
        "        # check if max_length more than in dict\n",
        "        if max_length > longestString[1] : \n",
        "            longestString[0] = maxlengthWord # change word\n",
        "            longestString[1] = max_length # change length\n",
        "            \n",
        "    # return word\n",
        "    return longestString[0]\n",
        "\n",
        "list_of_lists = [[\"apple\", \"banana\"], [\"cherry\", \"date\", \"elderberry\"], [\"fig\", \"grape\"]]\n",
        "print(longest_string(list_of_lists)) # elderberry"
      ]
    },
    {
      "cell_type": "markdown",
      "metadata": {
        "id": "_oeTYuT-yzi_"
      },
      "source": [
        "### Q1.4) Filter List of Tuples by First Element Starting with a Vowel\n",
        "Write a function that filters a list of tuples (string, integer) to only include tuples where the string starts with a vowel.\n",
        "\n",
        "`vowels = [\"a\",\"e\",\"i\",\"o\",\"u\"]`"
      ]
    },
    {
      "cell_type": "code",
      "execution_count": 7,
      "metadata": {
        "colab": {
          "base_uri": "https://localhost:8080/"
        },
        "id": "NVVXyiBByzVR",
        "outputId": "fdceec86-ab8a-45fc-b6a8-2591aa6a6f71"
      },
      "outputs": [
        {
          "name": "stdout",
          "output_type": "stream",
          "text": [
            "('Apple', 1)\n",
            "Apple\n",
            "A\n",
            "('banana', 2)\n",
            "banana\n",
            "b\n",
            "('orange', 3)\n",
            "orange\n",
            "o\n",
            "[('Apple', 1), ('orange', 3)]\n"
          ]
        }
      ],
      "source": [
        "def filter_tuples_by_vowel_start(list_of_tuples):\n",
        "    fruitWithVowel = []\n",
        "    # for loop each subtuple\n",
        "    for (fruitName , countFruit) in list_of_tuples : \n",
        "        if fruitName[0] in 'AEIOUaeiou' : \n",
        "            fruitWithVowel += [ (fruitName , countFruit) ]\n",
        "            \n",
        "        # print each element\n",
        "        print( (fruitName , countFruit) )\n",
        "        print( fruitName + '\\n' + fruitName[0] )\n",
        "            \n",
        "    # return list of tuples\n",
        "    return fruitWithVowel\n",
        "\n",
        "# call function\n",
        "list_of_tuples = [('Apple', 1), ('banana', 2), ('orange', 3)]\n",
        "print(filter_tuples_by_vowel_start(list_of_tuples))"
      ]
    },
    {
      "cell_type": "markdown",
      "metadata": {
        "id": "tA0NedN4sRoE"
      },
      "source": [
        "# PART 2: List of Dict\n",
        "\n",
        "### Q2.1) Sum of Values\n",
        "\n",
        "Write a function that takes a list of dictionaries and returns the sum of values for a given key."
      ]
    },
    {
      "cell_type": "code",
      "execution_count": 10,
      "metadata": {
        "colab": {
          "base_uri": "https://localhost:8080/"
        },
        "id": "zcN_W28brJJF",
        "outputId": "1f21d258-e505-490c-8f08-916b0efd4e3d"
      },
      "outputs": [
        {
          "name": "stdout",
          "output_type": "stream",
          "text": [
            "9\n"
          ]
        }
      ],
      "source": [
        "def sum_of_values(list_of_dicts, key):\n",
        "    total_count = {}\n",
        "    # for loop each subdict in dict\n",
        "    for subdict in list_of_dicts : \n",
        "        # for loop each subdict then store into total_count dict\n",
        "        for (key , value) in subdict.items() : \n",
        "            if key not in total_count : \n",
        "                total_count[ key ] = value\n",
        "            else :\n",
        "                total_count[ key ] += value\n",
        "                \n",
        "    # return dict\n",
        "    return total_count[key] # get value from key in total_count dict\n",
        "\n",
        "list_of_dicts = [{'a': 1, 'b': 2}, {'a': 3, 'b': 4}, {'a': 5}]\n",
        "print(sum_of_values(list_of_dicts, 'a')) # 9"
      ]
    },
    {
      "cell_type": "markdown",
      "metadata": {
        "id": "eJRCI5HL4Z7Q"
      },
      "source": [
        "### Q2.2)  Merge Dictionaries\n",
        "\n",
        "Write a function that merges a list of dictionaries into a single dictionary. If a key appears in multiple dictionaries, the value should be a list of all values associated with that key."
      ]
    },
    {
      "cell_type": "code",
      "execution_count": null,
      "metadata": {
        "colab": {
          "base_uri": "https://localhost:8080/"
        },
        "id": "_4gokKP44Zp2",
        "outputId": "c4ff480f-bbdc-4e4d-9147-941974c03ba1"
      },
      "outputs": [
        {
          "name": "stdout",
          "output_type": "stream",
          "text": [
            "{'a': [1, 3, 5], 'b': [2, 4], 'c': [6]}\n"
          ]
        }
      ],
      "source": [
        "def merge_dicts(list_of_dicts):\n",
        "    total_dict = {}\n",
        "    # for loop each subdict in list\n",
        "    for subdict in list_of_dicts : \n",
        "        # for loop each key:value\n",
        "        for (key , val) in subdict.items() : \n",
        "            if key not in total_dict :\n",
        "                total_dict[key] = [val]\n",
        "            else : \n",
        "                total_dict[key] += [ val ]\n",
        "    # return dict\n",
        "    return total_dict\n",
        "\n",
        "list_of_dicts = [{'a': 1, 'b': 2}, {'a': 3, 'b': 4}, {'a': 5, 'c': 6}]\n",
        "print(merge_dicts(list_of_dicts))"
      ]
    }
  ],
  "metadata": {
    "colab": {
      "provenance": []
    },
    "kernelspec": {
      "display_name": "chatrpholvenv",
      "language": "python",
      "name": "python3"
    },
    "language_info": {
      "codemirror_mode": {
        "name": "ipython",
        "version": 3
      },
      "file_extension": ".py",
      "mimetype": "text/x-python",
      "name": "python",
      "nbconvert_exporter": "python",
      "pygments_lexer": "ipython3",
      "version": "3.13.6"
    }
  },
  "nbformat": 4,
  "nbformat_minor": 0
}
