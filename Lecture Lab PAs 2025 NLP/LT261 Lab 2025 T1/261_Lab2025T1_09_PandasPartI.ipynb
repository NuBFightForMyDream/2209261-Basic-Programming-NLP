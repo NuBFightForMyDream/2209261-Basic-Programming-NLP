{
 "cells": [
  {
   "cell_type": "markdown",
   "id": "8a1cff30",
   "metadata": {},
   "source": [
    "## 2209261 Basic Programming for NLP\n",
    "## Lab 9 : Pandas (Part I)\n",
    "### Done by : 6730084521 Chatrphol Ovanonchai"
   ]
  },
  {
   "cell_type": "markdown",
   "id": "f8d26788",
   "metadata": {},
   "source": [
    "# PART 1. Pandas Basis"
   ]
  },
  {
   "cell_type": "code",
   "execution_count": 2,
   "id": "324762a4",
   "metadata": {},
   "outputs": [],
   "source": [
    "import pandas as pd\n",
    "import numpy as np"
   ]
  },
  {
   "cell_type": "markdown",
   "id": "319a6c47",
   "metadata": {},
   "source": [
    "Q 1) create a pandas series with the following values and format\n",
    "\n",
    "\n",
    "\n",
    "```\n",
    "# Output:\n",
    "0    python\n",
    "1       php\n",
    "2      java\n",
    "dtype: object\n",
    "```\n",
    "\n"
   ]
  },
  {
   "cell_type": "code",
   "execution_count": 3,
   "id": "45915681",
   "metadata": {},
   "outputs": [
    {
     "data": {
      "text/html": [
       "<div>\n",
       "<style scoped>\n",
       "    .dataframe tbody tr th:only-of-type {\n",
       "        vertical-align: middle;\n",
       "    }\n",
       "\n",
       "    .dataframe tbody tr th {\n",
       "        vertical-align: top;\n",
       "    }\n",
       "\n",
       "    .dataframe thead th {\n",
       "        text-align: right;\n",
       "    }\n",
       "</style>\n",
       "<table border=\"1\" class=\"dataframe\">\n",
       "  <thead>\n",
       "    <tr style=\"text-align: right;\">\n",
       "      <th></th>\n",
       "      <th>0</th>\n",
       "    </tr>\n",
       "  </thead>\n",
       "  <tbody>\n",
       "    <tr>\n",
       "      <th>0</th>\n",
       "      <td>python</td>\n",
       "    </tr>\n",
       "    <tr>\n",
       "      <th>1</th>\n",
       "      <td>php</td>\n",
       "    </tr>\n",
       "    <tr>\n",
       "      <th>2</th>\n",
       "      <td>java</td>\n",
       "    </tr>\n",
       "  </tbody>\n",
       "</table>\n",
       "</div>"
      ],
      "text/plain": [
       "        0\n",
       "0  python\n",
       "1     php\n",
       "2    java"
      ]
     },
     "execution_count": 3,
     "metadata": {},
     "output_type": "execute_result"
    }
   ],
   "source": [
    "programming_languages = pd.DataFrame( ['python','php','java'] )\n",
    "programming_languages"
   ]
  },
  {
   "cell_type": "markdown",
   "id": "1842437a",
   "metadata": {},
   "source": [
    "Q 2) create a pandas series with the following values and format\n",
    "\n",
    "\n",
    "\n",
    "```\n",
    "# Output:\n",
    "r1 python\n",
    "r2 php\n",
    "r3 java\n",
    "dtype:object\n",
    "```\n",
    "\n"
   ]
  },
  {
   "cell_type": "code",
   "execution_count": 4,
   "id": "4c73360e",
   "metadata": {},
   "outputs": [
    {
     "data": {
      "text/html": [
       "<div>\n",
       "<style scoped>\n",
       "    .dataframe tbody tr th:only-of-type {\n",
       "        vertical-align: middle;\n",
       "    }\n",
       "\n",
       "    .dataframe tbody tr th {\n",
       "        vertical-align: top;\n",
       "    }\n",
       "\n",
       "    .dataframe thead th {\n",
       "        text-align: right;\n",
       "    }\n",
       "</style>\n",
       "<table border=\"1\" class=\"dataframe\">\n",
       "  <thead>\n",
       "    <tr style=\"text-align: right;\">\n",
       "      <th></th>\n",
       "      <th>0</th>\n",
       "    </tr>\n",
       "  </thead>\n",
       "  <tbody>\n",
       "    <tr>\n",
       "      <th>r1</th>\n",
       "      <td>python</td>\n",
       "    </tr>\n",
       "    <tr>\n",
       "      <th>r2</th>\n",
       "      <td>php</td>\n",
       "    </tr>\n",
       "    <tr>\n",
       "      <th>r3</th>\n",
       "      <td>java</td>\n",
       "    </tr>\n",
       "  </tbody>\n",
       "</table>\n",
       "</div>"
      ],
      "text/plain": [
       "         0\n",
       "r1  python\n",
       "r2     php\n",
       "r3    java"
      ]
     },
     "execution_count": 4,
     "metadata": {},
     "output_type": "execute_result"
    }
   ],
   "source": [
    "programming_languages = pd.DataFrame( index = ['r1','r2','r3'] , data = ['python','php','java'])\n",
    "programming_languages"
   ]
  },
  {
   "cell_type": "markdown",
   "id": "b7d59709",
   "metadata": {},
   "source": [
    "Q 3) create a dataframe below.\n",
    "\n",
    "\n",
    "```\n",
    "  Courses    Fee Duration\n",
    "a   Spark  20000   30days\n",
    "b  pandas  20000   40days\n",
    "```\n",
    "\n"
   ]
  },
  {
   "cell_type": "code",
   "execution_count": 5,
   "id": "7e4e0afd",
   "metadata": {},
   "outputs": [
    {
     "data": {
      "text/html": [
       "<div>\n",
       "<style scoped>\n",
       "    .dataframe tbody tr th:only-of-type {\n",
       "        vertical-align: middle;\n",
       "    }\n",
       "\n",
       "    .dataframe tbody tr th {\n",
       "        vertical-align: top;\n",
       "    }\n",
       "\n",
       "    .dataframe thead th {\n",
       "        text-align: right;\n",
       "    }\n",
       "</style>\n",
       "<table border=\"1\" class=\"dataframe\">\n",
       "  <thead>\n",
       "    <tr style=\"text-align: right;\">\n",
       "      <th></th>\n",
       "      <th>Courses</th>\n",
       "      <th>Fee</th>\n",
       "      <th>Duration</th>\n",
       "    </tr>\n",
       "  </thead>\n",
       "  <tbody>\n",
       "    <tr>\n",
       "      <th>a</th>\n",
       "      <td>Spark</td>\n",
       "      <td>20000</td>\n",
       "      <td>30days</td>\n",
       "    </tr>\n",
       "    <tr>\n",
       "      <th>b</th>\n",
       "      <td>pandas</td>\n",
       "      <td>20000</td>\n",
       "      <td>40days</td>\n",
       "    </tr>\n",
       "  </tbody>\n",
       "</table>\n",
       "</div>"
      ],
      "text/plain": [
       "  Courses    Fee Duration\n",
       "a   Spark  20000   30days\n",
       "b  pandas  20000   40days"
      ]
     },
     "execution_count": 5,
     "metadata": {},
     "output_type": "execute_result"
    }
   ],
   "source": [
    "myData = pd.DataFrame( index = ['a','b'] , \n",
    "                       data =  {'Courses' : ['Spark','pandas'] , \n",
    "                                'Fee' : [20000 , 20000] ,\n",
    "                                'Duration' : ['30days' , '40days'] } ) \n",
    "myData"
   ]
  },
  {
   "cell_type": "markdown",
   "id": "3293c98a",
   "metadata": {},
   "source": [
    "Q 4) selecting and indexing the below dataframe with the following criteria."
   ]
  },
  {
   "cell_type": "code",
   "execution_count": 6,
   "id": "1620760f",
   "metadata": {},
   "outputs": [
    {
     "name": "stdout",
     "output_type": "stream",
     "text": [
      "    Courses    Fee Duration  Discount\n",
      "r1    Spark  20000   30days      1000\n",
      "r2  PySpark  25000   40days      2300\n",
      "r3   Hadoop  26000   35days      1500\n",
      "r4   Python  22000   40days      1200\n",
      "r5   pandas  24000      NaN      2500\n",
      "r6   Oracle  21000     None      2100\n",
      "r7     Java  22000   55days      2000\n"
     ]
    }
   ],
   "source": [
    "technologies = {\n",
    "    'Courses':[\"Spark\",\"PySpark\",\"Hadoop\",\"Python\",\"pandas\",\"Oracle\",\"Java\"],\n",
    "    'Fee' :[20000,25000,26000,22000,24000,21000,22000],\n",
    "    'Duration':['30days','40days','35days','40days',np.nan,None,'55days'],\n",
    "    'Discount':[1000,2300,1500,1200,2500,2100,2000]\n",
    "               }\n",
    "index_labels=['r1','r2','r3','r4','r5','r6','r7']\n",
    "df = pd.DataFrame(technologies,index=index_labels)\n",
    "print(df)"
   ]
  },
  {
   "cell_type": "markdown",
   "id": "d855fbb9",
   "metadata": {},
   "source": [
    "Q4.1) Select First Row\n",
    "\n",
    "\n",
    "\n",
    "\n",
    "\n"
   ]
  },
  {
   "cell_type": "code",
   "execution_count": 12,
   "id": "cd4b05c8",
   "metadata": {},
   "outputs": [
    {
     "data": {
      "text/plain": [
       "Courses      Spark\n",
       "Fee          20000\n",
       "Duration    30days\n",
       "Discount      1000\n",
       "Name: r1, dtype: object"
      ]
     },
     "execution_count": 12,
     "metadata": {},
     "output_type": "execute_result"
    }
   ],
   "source": [
    "df.iloc[0 , ] # first row = index 0 "
   ]
  },
  {
   "cell_type": "markdown",
   "id": "0376703d",
   "metadata": {},
   "source": [
    "Q4.2) Select Last 3 Rows"
   ]
  },
  {
   "cell_type": "code",
   "execution_count": 13,
   "id": "94c502cd",
   "metadata": {},
   "outputs": [
    {
     "data": {
      "text/html": [
       "<div>\n",
       "<style scoped>\n",
       "    .dataframe tbody tr th:only-of-type {\n",
       "        vertical-align: middle;\n",
       "    }\n",
       "\n",
       "    .dataframe tbody tr th {\n",
       "        vertical-align: top;\n",
       "    }\n",
       "\n",
       "    .dataframe thead th {\n",
       "        text-align: right;\n",
       "    }\n",
       "</style>\n",
       "<table border=\"1\" class=\"dataframe\">\n",
       "  <thead>\n",
       "    <tr style=\"text-align: right;\">\n",
       "      <th></th>\n",
       "      <th>Courses</th>\n",
       "      <th>Fee</th>\n",
       "      <th>Duration</th>\n",
       "      <th>Discount</th>\n",
       "    </tr>\n",
       "  </thead>\n",
       "  <tbody>\n",
       "    <tr>\n",
       "      <th>r5</th>\n",
       "      <td>pandas</td>\n",
       "      <td>24000</td>\n",
       "      <td>NaN</td>\n",
       "      <td>2500</td>\n",
       "    </tr>\n",
       "    <tr>\n",
       "      <th>r6</th>\n",
       "      <td>Oracle</td>\n",
       "      <td>21000</td>\n",
       "      <td>None</td>\n",
       "      <td>2100</td>\n",
       "    </tr>\n",
       "    <tr>\n",
       "      <th>r7</th>\n",
       "      <td>Java</td>\n",
       "      <td>22000</td>\n",
       "      <td>55days</td>\n",
       "      <td>2000</td>\n",
       "    </tr>\n",
       "  </tbody>\n",
       "</table>\n",
       "</div>"
      ],
      "text/plain": [
       "   Courses    Fee Duration  Discount\n",
       "r5  pandas  24000      NaN      2500\n",
       "r6  Oracle  21000     None      2100\n",
       "r7    Java  22000   55days      2000"
      ]
     },
     "execution_count": 13,
     "metadata": {},
     "output_type": "execute_result"
    }
   ],
   "source": [
    "df.iloc[ -3: , ]"
   ]
  },
  {
   "cell_type": "markdown",
   "id": "67fee26e",
   "metadata": {},
   "source": [
    "Q4.3) select rows where Courses equal \"Spark\"\n",
    "\n",
    "\n",
    "\n"
   ]
  },
  {
   "cell_type": "code",
   "execution_count": 14,
   "id": "7a7ded3a",
   "metadata": {},
   "outputs": [
    {
     "data": {
      "text/html": [
       "<div>\n",
       "<style scoped>\n",
       "    .dataframe tbody tr th:only-of-type {\n",
       "        vertical-align: middle;\n",
       "    }\n",
       "\n",
       "    .dataframe tbody tr th {\n",
       "        vertical-align: top;\n",
       "    }\n",
       "\n",
       "    .dataframe thead th {\n",
       "        text-align: right;\n",
       "    }\n",
       "</style>\n",
       "<table border=\"1\" class=\"dataframe\">\n",
       "  <thead>\n",
       "    <tr style=\"text-align: right;\">\n",
       "      <th></th>\n",
       "      <th>Courses</th>\n",
       "      <th>Fee</th>\n",
       "      <th>Duration</th>\n",
       "      <th>Discount</th>\n",
       "    </tr>\n",
       "  </thead>\n",
       "  <tbody>\n",
       "    <tr>\n",
       "      <th>r1</th>\n",
       "      <td>Spark</td>\n",
       "      <td>20000</td>\n",
       "      <td>30days</td>\n",
       "      <td>1000</td>\n",
       "    </tr>\n",
       "  </tbody>\n",
       "</table>\n",
       "</div>"
      ],
      "text/plain": [
       "   Courses    Fee Duration  Discount\n",
       "r1   Spark  20000   30days      1000"
      ]
     },
     "execution_count": 14,
     "metadata": {},
     "output_type": "execute_result"
    }
   ],
   "source": [
    "df[ df['Courses'] == \"Spark\" ]"
   ]
  },
  {
   "cell_type": "markdown",
   "id": "3028e256",
   "metadata": {},
   "source": [
    "Q4.4) select rows where Discount >= 2000"
   ]
  },
  {
   "cell_type": "code",
   "execution_count": 16,
   "id": "69311966",
   "metadata": {},
   "outputs": [
    {
     "data": {
      "text/html": [
       "<div>\n",
       "<style scoped>\n",
       "    .dataframe tbody tr th:only-of-type {\n",
       "        vertical-align: middle;\n",
       "    }\n",
       "\n",
       "    .dataframe tbody tr th {\n",
       "        vertical-align: top;\n",
       "    }\n",
       "\n",
       "    .dataframe thead th {\n",
       "        text-align: right;\n",
       "    }\n",
       "</style>\n",
       "<table border=\"1\" class=\"dataframe\">\n",
       "  <thead>\n",
       "    <tr style=\"text-align: right;\">\n",
       "      <th></th>\n",
       "      <th>Courses</th>\n",
       "      <th>Fee</th>\n",
       "      <th>Duration</th>\n",
       "      <th>Discount</th>\n",
       "    </tr>\n",
       "  </thead>\n",
       "  <tbody>\n",
       "    <tr>\n",
       "      <th>r2</th>\n",
       "      <td>PySpark</td>\n",
       "      <td>25000</td>\n",
       "      <td>40days</td>\n",
       "      <td>2300</td>\n",
       "    </tr>\n",
       "    <tr>\n",
       "      <th>r5</th>\n",
       "      <td>pandas</td>\n",
       "      <td>24000</td>\n",
       "      <td>NaN</td>\n",
       "      <td>2500</td>\n",
       "    </tr>\n",
       "    <tr>\n",
       "      <th>r6</th>\n",
       "      <td>Oracle</td>\n",
       "      <td>21000</td>\n",
       "      <td>None</td>\n",
       "      <td>2100</td>\n",
       "    </tr>\n",
       "    <tr>\n",
       "      <th>r7</th>\n",
       "      <td>Java</td>\n",
       "      <td>22000</td>\n",
       "      <td>55days</td>\n",
       "      <td>2000</td>\n",
       "    </tr>\n",
       "  </tbody>\n",
       "</table>\n",
       "</div>"
      ],
      "text/plain": [
       "    Courses    Fee Duration  Discount\n",
       "r2  PySpark  25000   40days      2300\n",
       "r5   pandas  24000      NaN      2500\n",
       "r6   Oracle  21000     None      2100\n",
       "r7     Java  22000   55days      2000"
      ]
     },
     "execution_count": 16,
     "metadata": {},
     "output_type": "execute_result"
    }
   ],
   "source": [
    "df[ df['Discount'] >= 2000] "
   ]
  },
  {
   "cell_type": "markdown",
   "id": "eddd94cf",
   "metadata": {},
   "source": [
    "Q4.5) select rows where Courses equal \"Spark\" or \"Python\""
   ]
  },
  {
   "cell_type": "code",
   "execution_count": 23,
   "id": "3d8f678b",
   "metadata": {},
   "outputs": [
    {
     "data": {
      "text/html": [
       "<div>\n",
       "<style scoped>\n",
       "    .dataframe tbody tr th:only-of-type {\n",
       "        vertical-align: middle;\n",
       "    }\n",
       "\n",
       "    .dataframe tbody tr th {\n",
       "        vertical-align: top;\n",
       "    }\n",
       "\n",
       "    .dataframe thead th {\n",
       "        text-align: right;\n",
       "    }\n",
       "</style>\n",
       "<table border=\"1\" class=\"dataframe\">\n",
       "  <thead>\n",
       "    <tr style=\"text-align: right;\">\n",
       "      <th></th>\n",
       "      <th>Courses</th>\n",
       "      <th>Fee</th>\n",
       "      <th>Duration</th>\n",
       "      <th>Discount</th>\n",
       "    </tr>\n",
       "  </thead>\n",
       "  <tbody>\n",
       "    <tr>\n",
       "      <th>r1</th>\n",
       "      <td>Spark</td>\n",
       "      <td>20000</td>\n",
       "      <td>30days</td>\n",
       "      <td>1000</td>\n",
       "    </tr>\n",
       "    <tr>\n",
       "      <th>r4</th>\n",
       "      <td>Python</td>\n",
       "      <td>22000</td>\n",
       "      <td>40days</td>\n",
       "      <td>1200</td>\n",
       "    </tr>\n",
       "  </tbody>\n",
       "</table>\n",
       "</div>"
      ],
      "text/plain": [
       "   Courses    Fee Duration  Discount\n",
       "r1   Spark  20000   30days      1000\n",
       "r4  Python  22000   40days      1200"
      ]
     },
     "execution_count": 23,
     "metadata": {},
     "output_type": "execute_result"
    }
   ],
   "source": [
    "df[ (df['Courses'] == 'Spark') | (df['Courses'] == 'Python')] "
   ]
  },
  {
   "cell_type": "markdown",
   "id": "1779c0b1",
   "metadata": {},
   "source": [
    "Q4.6) select rows where \"Fee\" >=25000 and show only value in column \"Courses\"\n"
   ]
  },
  {
   "cell_type": "code",
   "execution_count": 33,
   "id": "3e960d52",
   "metadata": {},
   "outputs": [
    {
     "data": {
      "text/html": [
       "<div>\n",
       "<style scoped>\n",
       "    .dataframe tbody tr th:only-of-type {\n",
       "        vertical-align: middle;\n",
       "    }\n",
       "\n",
       "    .dataframe tbody tr th {\n",
       "        vertical-align: top;\n",
       "    }\n",
       "\n",
       "    .dataframe thead th {\n",
       "        text-align: right;\n",
       "    }\n",
       "</style>\n",
       "<table border=\"1\" class=\"dataframe\">\n",
       "  <thead>\n",
       "    <tr style=\"text-align: right;\">\n",
       "      <th></th>\n",
       "      <th>Courses</th>\n",
       "    </tr>\n",
       "  </thead>\n",
       "  <tbody>\n",
       "    <tr>\n",
       "      <th>r2</th>\n",
       "      <td>PySpark</td>\n",
       "    </tr>\n",
       "    <tr>\n",
       "      <th>r3</th>\n",
       "      <td>Hadoop</td>\n",
       "    </tr>\n",
       "  </tbody>\n",
       "</table>\n",
       "</div>"
      ],
      "text/plain": [
       "    Courses\n",
       "r2  PySpark\n",
       "r3   Hadoop"
      ]
     },
     "execution_count": 33,
     "metadata": {},
     "output_type": "execute_result"
    }
   ],
   "source": [
    "df.loc[ df['Fee'] >= 25000 , ['Courses']]"
   ]
  },
  {
   "cell_type": "markdown",
   "id": "44a1da61",
   "metadata": {},
   "source": [
    "\n",
    "Q4.7) select rows where \"Fee\" >=25000 and show only value in both columns \"Courses\" and \"Discount\""
   ]
  },
  {
   "cell_type": "code",
   "execution_count": 34,
   "id": "3e37ba8a",
   "metadata": {},
   "outputs": [
    {
     "data": {
      "text/html": [
       "<div>\n",
       "<style scoped>\n",
       "    .dataframe tbody tr th:only-of-type {\n",
       "        vertical-align: middle;\n",
       "    }\n",
       "\n",
       "    .dataframe tbody tr th {\n",
       "        vertical-align: top;\n",
       "    }\n",
       "\n",
       "    .dataframe thead th {\n",
       "        text-align: right;\n",
       "    }\n",
       "</style>\n",
       "<table border=\"1\" class=\"dataframe\">\n",
       "  <thead>\n",
       "    <tr style=\"text-align: right;\">\n",
       "      <th></th>\n",
       "      <th>Courses</th>\n",
       "      <th>Discount</th>\n",
       "    </tr>\n",
       "  </thead>\n",
       "  <tbody>\n",
       "    <tr>\n",
       "      <th>r2</th>\n",
       "      <td>PySpark</td>\n",
       "      <td>2300</td>\n",
       "    </tr>\n",
       "    <tr>\n",
       "      <th>r3</th>\n",
       "      <td>Hadoop</td>\n",
       "      <td>1500</td>\n",
       "    </tr>\n",
       "  </tbody>\n",
       "</table>\n",
       "</div>"
      ],
      "text/plain": [
       "    Courses  Discount\n",
       "r2  PySpark      2300\n",
       "r3   Hadoop      1500"
      ]
     },
     "execution_count": 34,
     "metadata": {},
     "output_type": "execute_result"
    }
   ],
   "source": [
    "df.loc[ df['Fee'] >= 25000 , ['Courses','Discount']]"
   ]
  },
  {
   "cell_type": "markdown",
   "id": "ec9d8054",
   "metadata": {},
   "source": [
    "# PART 2. Pandas operations and grouping.\n",
    "\n",
    "## Instructions\n",
    "1. Read csv file StudentsPerformance.csv\n",
    "2. Perform the operations on the StudentsPerformance dataframe as instructed below.\n",
    "   \n",
    "*   a) Create a new column, **\"average score\"**, where the values are weighted in this criteria. (Math ~ 50%, reading ~25% and writing ~25%)  \n",
    "*   b) Assign a letter grade to each student where\n",
    "A >= 80, 80> B >=70, 70> C >=60, 60> D >=50 and F < 50 on **the average score**.\n",
    "\n",
    "3. Answer the questions below.\n",
    "\n",
    "\n",
    "*   a) How many students in this class get A? what is the percentage of A students? [19.6]\n",
    "*   b) If we observe only **\"male\"** students, What is the percentage among **\"male\"** students in this class get an A? [18.05]\n",
    "\n",
    "*   c) \\[True/False\\] We see more students who receive \"**A**\" on a parent with at least an \"associate's degree\" than a parent with a \"high school\" degree. [True]\n",
    "\n",
    "\n",
    "\"parental level of education\" ~ [master's degree\",\"bachelor's degree\",\"some college\",\"associate's degree\",'high school','some high school'] sorted by degree order.\n",
    "\n",
    "*You might want to use **.isin** to check if a value is in some list. ([ReadMe](https://stackoverflow.com/questions/12096252/use-a-list-of-values-to-select-rows-from-a-pandas-dataframe))*\n",
    "\n",
    "\n"
   ]
  },
  {
   "cell_type": "code",
   "execution_count": 35,
   "id": "269cc3ee",
   "metadata": {},
   "outputs": [],
   "source": [
    "import pandas as pd\n",
    "pd.set_option('display.max_columns', 20)\n",
    "pd.set_option('display.width', 1000)"
   ]
  },
  {
   "cell_type": "code",
   "execution_count": 36,
   "id": "b02fb179",
   "metadata": {},
   "outputs": [
    {
     "name": "stdout",
     "output_type": "stream",
     "text": [
      "     gender race/ethnicity parental level of education         lunch test preparation course  math score  reading score  writing score\n",
      "0    female        group B           bachelor's degree      standard                    none          72             72             74\n",
      "1    female        group C                some college      standard               completed          69             90             88\n",
      "2    female        group B             master's degree      standard                    none          90             95             93\n",
      "3      male        group A          associate's degree  free/reduced                    none          47             57             44\n",
      "4      male        group C                some college      standard                    none          76             78             75\n",
      "..      ...            ...                         ...           ...                     ...         ...            ...            ...\n",
      "995  female        group E             master's degree      standard               completed          88             99             95\n",
      "996    male        group C                 high school  free/reduced                    none          62             55             55\n",
      "997  female        group C                 high school  free/reduced               completed          59             71             65\n",
      "998  female        group D                some college      standard               completed          68             78             77\n",
      "999  female        group D                some college  free/reduced                    none          77             86             86\n",
      "\n",
      "[1000 rows x 8 columns]\n"
     ]
    }
   ],
   "source": [
    "df_exams = pd.read_csv('StudentsPerformance.csv')\n",
    "print(df_exams)"
   ]
  },
  {
   "cell_type": "code",
   "execution_count": 38,
   "id": "e05eb5ee",
   "metadata": {},
   "outputs": [
    {
     "data": {
      "text/html": [
       "<div>\n",
       "<style scoped>\n",
       "    .dataframe tbody tr th:only-of-type {\n",
       "        vertical-align: middle;\n",
       "    }\n",
       "\n",
       "    .dataframe tbody tr th {\n",
       "        vertical-align: top;\n",
       "    }\n",
       "\n",
       "    .dataframe thead th {\n",
       "        text-align: right;\n",
       "    }\n",
       "</style>\n",
       "<table border=\"1\" class=\"dataframe\">\n",
       "  <thead>\n",
       "    <tr style=\"text-align: right;\">\n",
       "      <th></th>\n",
       "      <th>gender</th>\n",
       "      <th>race/ethnicity</th>\n",
       "      <th>parental level of education</th>\n",
       "      <th>lunch</th>\n",
       "      <th>test preparation course</th>\n",
       "      <th>math score</th>\n",
       "      <th>reading score</th>\n",
       "      <th>writing score</th>\n",
       "      <th>average score</th>\n",
       "    </tr>\n",
       "  </thead>\n",
       "  <tbody>\n",
       "    <tr>\n",
       "      <th>0</th>\n",
       "      <td>female</td>\n",
       "      <td>group B</td>\n",
       "      <td>bachelor's degree</td>\n",
       "      <td>standard</td>\n",
       "      <td>none</td>\n",
       "      <td>72</td>\n",
       "      <td>72</td>\n",
       "      <td>74</td>\n",
       "      <td>72.50</td>\n",
       "    </tr>\n",
       "    <tr>\n",
       "      <th>1</th>\n",
       "      <td>female</td>\n",
       "      <td>group C</td>\n",
       "      <td>some college</td>\n",
       "      <td>standard</td>\n",
       "      <td>completed</td>\n",
       "      <td>69</td>\n",
       "      <td>90</td>\n",
       "      <td>88</td>\n",
       "      <td>79.00</td>\n",
       "    </tr>\n",
       "    <tr>\n",
       "      <th>2</th>\n",
       "      <td>female</td>\n",
       "      <td>group B</td>\n",
       "      <td>master's degree</td>\n",
       "      <td>standard</td>\n",
       "      <td>none</td>\n",
       "      <td>90</td>\n",
       "      <td>95</td>\n",
       "      <td>93</td>\n",
       "      <td>92.00</td>\n",
       "    </tr>\n",
       "    <tr>\n",
       "      <th>3</th>\n",
       "      <td>male</td>\n",
       "      <td>group A</td>\n",
       "      <td>associate's degree</td>\n",
       "      <td>free/reduced</td>\n",
       "      <td>none</td>\n",
       "      <td>47</td>\n",
       "      <td>57</td>\n",
       "      <td>44</td>\n",
       "      <td>48.75</td>\n",
       "    </tr>\n",
       "    <tr>\n",
       "      <th>4</th>\n",
       "      <td>male</td>\n",
       "      <td>group C</td>\n",
       "      <td>some college</td>\n",
       "      <td>standard</td>\n",
       "      <td>none</td>\n",
       "      <td>76</td>\n",
       "      <td>78</td>\n",
       "      <td>75</td>\n",
       "      <td>76.25</td>\n",
       "    </tr>\n",
       "    <tr>\n",
       "      <th>...</th>\n",
       "      <td>...</td>\n",
       "      <td>...</td>\n",
       "      <td>...</td>\n",
       "      <td>...</td>\n",
       "      <td>...</td>\n",
       "      <td>...</td>\n",
       "      <td>...</td>\n",
       "      <td>...</td>\n",
       "      <td>...</td>\n",
       "    </tr>\n",
       "    <tr>\n",
       "      <th>995</th>\n",
       "      <td>female</td>\n",
       "      <td>group E</td>\n",
       "      <td>master's degree</td>\n",
       "      <td>standard</td>\n",
       "      <td>completed</td>\n",
       "      <td>88</td>\n",
       "      <td>99</td>\n",
       "      <td>95</td>\n",
       "      <td>92.50</td>\n",
       "    </tr>\n",
       "    <tr>\n",
       "      <th>996</th>\n",
       "      <td>male</td>\n",
       "      <td>group C</td>\n",
       "      <td>high school</td>\n",
       "      <td>free/reduced</td>\n",
       "      <td>none</td>\n",
       "      <td>62</td>\n",
       "      <td>55</td>\n",
       "      <td>55</td>\n",
       "      <td>58.50</td>\n",
       "    </tr>\n",
       "    <tr>\n",
       "      <th>997</th>\n",
       "      <td>female</td>\n",
       "      <td>group C</td>\n",
       "      <td>high school</td>\n",
       "      <td>free/reduced</td>\n",
       "      <td>completed</td>\n",
       "      <td>59</td>\n",
       "      <td>71</td>\n",
       "      <td>65</td>\n",
       "      <td>63.50</td>\n",
       "    </tr>\n",
       "    <tr>\n",
       "      <th>998</th>\n",
       "      <td>female</td>\n",
       "      <td>group D</td>\n",
       "      <td>some college</td>\n",
       "      <td>standard</td>\n",
       "      <td>completed</td>\n",
       "      <td>68</td>\n",
       "      <td>78</td>\n",
       "      <td>77</td>\n",
       "      <td>72.75</td>\n",
       "    </tr>\n",
       "    <tr>\n",
       "      <th>999</th>\n",
       "      <td>female</td>\n",
       "      <td>group D</td>\n",
       "      <td>some college</td>\n",
       "      <td>free/reduced</td>\n",
       "      <td>none</td>\n",
       "      <td>77</td>\n",
       "      <td>86</td>\n",
       "      <td>86</td>\n",
       "      <td>81.50</td>\n",
       "    </tr>\n",
       "  </tbody>\n",
       "</table>\n",
       "<p>1000 rows × 9 columns</p>\n",
       "</div>"
      ],
      "text/plain": [
       "     gender race/ethnicity parental level of education         lunch test preparation course  math score  reading score  writing score  average score\n",
       "0    female        group B           bachelor's degree      standard                    none          72             72             74          72.50\n",
       "1    female        group C                some college      standard               completed          69             90             88          79.00\n",
       "2    female        group B             master's degree      standard                    none          90             95             93          92.00\n",
       "3      male        group A          associate's degree  free/reduced                    none          47             57             44          48.75\n",
       "4      male        group C                some college      standard                    none          76             78             75          76.25\n",
       "..      ...            ...                         ...           ...                     ...         ...            ...            ...            ...\n",
       "995  female        group E             master's degree      standard               completed          88             99             95          92.50\n",
       "996    male        group C                 high school  free/reduced                    none          62             55             55          58.50\n",
       "997  female        group C                 high school  free/reduced               completed          59             71             65          63.50\n",
       "998  female        group D                some college      standard               completed          68             78             77          72.75\n",
       "999  female        group D                some college  free/reduced                    none          77             86             86          81.50\n",
       "\n",
       "[1000 rows x 9 columns]"
      ]
     },
     "execution_count": 38,
     "metadata": {},
     "output_type": "execute_result"
    }
   ],
   "source": [
    "## 2a) create new column (average score) : Math 0.5 , Reading 0,25 , Writing 0.25\n",
    "df_exams['average score'] = 0.5 * df_exams['math score'] + 0.25 * df_exams['reading score'] + 0.25 * df_exams['writing score']\n",
    "df_exams"
   ]
  },
  {
   "cell_type": "code",
   "execution_count": 43,
   "id": "6ad4dd57",
   "metadata": {},
   "outputs": [
    {
     "data": {
      "text/html": [
       "<div>\n",
       "<style scoped>\n",
       "    .dataframe tbody tr th:only-of-type {\n",
       "        vertical-align: middle;\n",
       "    }\n",
       "\n",
       "    .dataframe tbody tr th {\n",
       "        vertical-align: top;\n",
       "    }\n",
       "\n",
       "    .dataframe thead th {\n",
       "        text-align: right;\n",
       "    }\n",
       "</style>\n",
       "<table border=\"1\" class=\"dataframe\">\n",
       "  <thead>\n",
       "    <tr style=\"text-align: right;\">\n",
       "      <th></th>\n",
       "      <th>gender</th>\n",
       "      <th>race/ethnicity</th>\n",
       "      <th>parental level of education</th>\n",
       "      <th>lunch</th>\n",
       "      <th>test preparation course</th>\n",
       "      <th>math score</th>\n",
       "      <th>reading score</th>\n",
       "      <th>writing score</th>\n",
       "      <th>average score</th>\n",
       "      <th>grade letter</th>\n",
       "    </tr>\n",
       "  </thead>\n",
       "  <tbody>\n",
       "    <tr>\n",
       "      <th>0</th>\n",
       "      <td>female</td>\n",
       "      <td>group B</td>\n",
       "      <td>bachelor's degree</td>\n",
       "      <td>standard</td>\n",
       "      <td>none</td>\n",
       "      <td>72</td>\n",
       "      <td>72</td>\n",
       "      <td>74</td>\n",
       "      <td>72.50</td>\n",
       "      <td>B</td>\n",
       "    </tr>\n",
       "    <tr>\n",
       "      <th>1</th>\n",
       "      <td>female</td>\n",
       "      <td>group C</td>\n",
       "      <td>some college</td>\n",
       "      <td>standard</td>\n",
       "      <td>completed</td>\n",
       "      <td>69</td>\n",
       "      <td>90</td>\n",
       "      <td>88</td>\n",
       "      <td>79.00</td>\n",
       "      <td>B</td>\n",
       "    </tr>\n",
       "    <tr>\n",
       "      <th>2</th>\n",
       "      <td>female</td>\n",
       "      <td>group B</td>\n",
       "      <td>master's degree</td>\n",
       "      <td>standard</td>\n",
       "      <td>none</td>\n",
       "      <td>90</td>\n",
       "      <td>95</td>\n",
       "      <td>93</td>\n",
       "      <td>92.00</td>\n",
       "      <td>A</td>\n",
       "    </tr>\n",
       "    <tr>\n",
       "      <th>3</th>\n",
       "      <td>male</td>\n",
       "      <td>group A</td>\n",
       "      <td>associate's degree</td>\n",
       "      <td>free/reduced</td>\n",
       "      <td>none</td>\n",
       "      <td>47</td>\n",
       "      <td>57</td>\n",
       "      <td>44</td>\n",
       "      <td>48.75</td>\n",
       "      <td>F</td>\n",
       "    </tr>\n",
       "    <tr>\n",
       "      <th>4</th>\n",
       "      <td>male</td>\n",
       "      <td>group C</td>\n",
       "      <td>some college</td>\n",
       "      <td>standard</td>\n",
       "      <td>none</td>\n",
       "      <td>76</td>\n",
       "      <td>78</td>\n",
       "      <td>75</td>\n",
       "      <td>76.25</td>\n",
       "      <td>B</td>\n",
       "    </tr>\n",
       "    <tr>\n",
       "      <th>...</th>\n",
       "      <td>...</td>\n",
       "      <td>...</td>\n",
       "      <td>...</td>\n",
       "      <td>...</td>\n",
       "      <td>...</td>\n",
       "      <td>...</td>\n",
       "      <td>...</td>\n",
       "      <td>...</td>\n",
       "      <td>...</td>\n",
       "      <td>...</td>\n",
       "    </tr>\n",
       "    <tr>\n",
       "      <th>995</th>\n",
       "      <td>female</td>\n",
       "      <td>group E</td>\n",
       "      <td>master's degree</td>\n",
       "      <td>standard</td>\n",
       "      <td>completed</td>\n",
       "      <td>88</td>\n",
       "      <td>99</td>\n",
       "      <td>95</td>\n",
       "      <td>92.50</td>\n",
       "      <td>A</td>\n",
       "    </tr>\n",
       "    <tr>\n",
       "      <th>996</th>\n",
       "      <td>male</td>\n",
       "      <td>group C</td>\n",
       "      <td>high school</td>\n",
       "      <td>free/reduced</td>\n",
       "      <td>none</td>\n",
       "      <td>62</td>\n",
       "      <td>55</td>\n",
       "      <td>55</td>\n",
       "      <td>58.50</td>\n",
       "      <td>D</td>\n",
       "    </tr>\n",
       "    <tr>\n",
       "      <th>997</th>\n",
       "      <td>female</td>\n",
       "      <td>group C</td>\n",
       "      <td>high school</td>\n",
       "      <td>free/reduced</td>\n",
       "      <td>completed</td>\n",
       "      <td>59</td>\n",
       "      <td>71</td>\n",
       "      <td>65</td>\n",
       "      <td>63.50</td>\n",
       "      <td>C</td>\n",
       "    </tr>\n",
       "    <tr>\n",
       "      <th>998</th>\n",
       "      <td>female</td>\n",
       "      <td>group D</td>\n",
       "      <td>some college</td>\n",
       "      <td>standard</td>\n",
       "      <td>completed</td>\n",
       "      <td>68</td>\n",
       "      <td>78</td>\n",
       "      <td>77</td>\n",
       "      <td>72.75</td>\n",
       "      <td>B</td>\n",
       "    </tr>\n",
       "    <tr>\n",
       "      <th>999</th>\n",
       "      <td>female</td>\n",
       "      <td>group D</td>\n",
       "      <td>some college</td>\n",
       "      <td>free/reduced</td>\n",
       "      <td>none</td>\n",
       "      <td>77</td>\n",
       "      <td>86</td>\n",
       "      <td>86</td>\n",
       "      <td>81.50</td>\n",
       "      <td>A</td>\n",
       "    </tr>\n",
       "  </tbody>\n",
       "</table>\n",
       "<p>1000 rows × 10 columns</p>\n",
       "</div>"
      ],
      "text/plain": [
       "     gender race/ethnicity parental level of education         lunch test preparation course  math score  reading score  writing score  average score grade letter\n",
       "0    female        group B           bachelor's degree      standard                    none          72             72             74          72.50            B\n",
       "1    female        group C                some college      standard               completed          69             90             88          79.00            B\n",
       "2    female        group B             master's degree      standard                    none          90             95             93          92.00            A\n",
       "3      male        group A          associate's degree  free/reduced                    none          47             57             44          48.75            F\n",
       "4      male        group C                some college      standard                    none          76             78             75          76.25            B\n",
       "..      ...            ...                         ...           ...                     ...         ...            ...            ...            ...          ...\n",
       "995  female        group E             master's degree      standard               completed          88             99             95          92.50            A\n",
       "996    male        group C                 high school  free/reduced                    none          62             55             55          58.50            D\n",
       "997  female        group C                 high school  free/reduced               completed          59             71             65          63.50            C\n",
       "998  female        group D                some college      standard               completed          68             78             77          72.75            B\n",
       "999  female        group D                some college  free/reduced                    none          77             86             86          81.50            A\n",
       "\n",
       "[1000 rows x 10 columns]"
      ]
     },
     "execution_count": 43,
     "metadata": {},
     "output_type": "execute_result"
    }
   ],
   "source": [
    "# 2b) assign grade letter \n",
    "def grading_student(score) : \n",
    "    if score >= 80 : \n",
    "        return 'A'\n",
    "    elif 70 <= score < 80 : \n",
    "        return 'B'\n",
    "    elif 60 <= score < 70 : \n",
    "        return 'C'\n",
    "    elif 50 <= score < 60 : \n",
    "        return 'D'\n",
    "    else : \n",
    "        return 'F'\n",
    "    \n",
    "# apply function to column\n",
    "df_exams['grade letter'] = df_exams.apply(lambda df_exams : grading_student( df_exams['average score'] ) , axis = 1)\n",
    "df_exams"
   ]
  },
  {
   "cell_type": "code",
   "execution_count": 61,
   "id": "0d29610d",
   "metadata": {},
   "outputs": [
    {
     "name": "stdout",
     "output_type": "stream",
     "text": [
      "Students who got grade letter A :  196\n",
      "Percentage of A students to all students :  19.6\n"
     ]
    }
   ],
   "source": [
    "# 3a) count student who got A and percentage of grade A in class\n",
    "grade_A = df_exams['grade letter'] == 'A'\n",
    "grade_A_students = sum(grade_A)\n",
    "\n",
    "# calculate to percentage\n",
    "print(\"Students who got grade letter A : \" , grade_A_students)\n",
    "print(\"Percentage of A students to all students : \" , grade_A_students / df_exams.shape[0] * 100 )"
   ]
  },
  {
   "cell_type": "code",
   "execution_count": 65,
   "id": "b7966138",
   "metadata": {},
   "outputs": [
    {
     "name": "stdout",
     "output_type": "stream",
     "text": [
      "Percentage of A and Male students to all Male students :  18.05\n"
     ]
    }
   ],
   "source": [
    "# 3b) count only male students from 3a)\n",
    "male_students = sum(df_exams['gender'] == 'male')\n",
    "grade_A_male = (df_exams['grade letter'] == 'A') & (df_exams['gender'] == 'male')\n",
    "grade_A_male_students = sum(grade_A_male)\n",
    "\n",
    "# calculate to percentage\n",
    "# print(\"Male Students who got grade letter A : \" , grade_A_male_students)\n",
    "print(\"Percentage of A and Male students to all Male students : \" , round(grade_A_male_students / male_students * 100 , 2) )"
   ]
  },
  {
   "cell_type": "code",
   "execution_count": null,
   "id": "edc7dd6a",
   "metadata": {},
   "outputs": [
    {
     "name": "stderr",
     "output_type": "stream",
     "text": [
      "/var/folders/t7/hn7xqdgs28vbkzlq0tg_5m480000gn/T/ipykernel_60299/3372194385.py:11: SettingWithCopyWarning: \n",
      "A value is trying to be set on a copy of a slice from a DataFrame.\n",
      "Try using .loc[row_indexer,col_indexer] = value instead\n",
      "\n",
      "See the caveats in the documentation: https://pandas.pydata.org/pandas-docs/stable/user_guide/indexing.html#returning-a-view-versus-a-copy\n",
      "  grade_A_students_df[\"parental level of education\"] = pd.Categorical(grade_A_students_df[\"parental level of education\"], categories=education_degree, ordered=True)\n"
     ]
    },
    {
     "data": {
      "text/plain": [
       "parental level of education\n",
       "associate's degree    53\n",
       "some college          45\n",
       "bachelor's degree     31\n",
       "some high school      27\n",
       "master's degree       21\n",
       "high school           19\n",
       "Name: count, dtype: int64"
      ]
     },
     "execution_count": 78,
     "metadata": {},
     "output_type": "execute_result"
    }
   ],
   "source": [
    "# 3c) check if A students' parents is from associate degree more than high school\n",
    "\n",
    "# cut dataframe for only students who got grade letter A \n",
    "grade_A_students_df = df_exams[ df_exams['grade letter'] == 'A' ]\n",
    "grade_A_students_df\n",
    "\n",
    "# create order of education\n",
    "education_degree = [\"master's degree\",\"bachelor's degree\",\"some college\",\"associate's degree\",'high school','some high school']\n",
    "\n",
    "# use pd.Categorical to sort by order\n",
    "grade_A_students_df[\"parental level of education\"] = pd.Categorical(grade_A_students_df[\"parental level of education\"], categories=education_degree, ordered=True)\n",
    "grade_A_students_df = grade_A_students_df.sort_values(by = \"parental level of education\")\n",
    "\n",
    "## count value in \"parental level of education\" column\n",
    "grade_A_students_df['parental level of education'].value_counts()\n",
    "\n",
    "## So , Parent with associate degree (53) is more than high school (27+19 = 46) == True"
   ]
  }
 ],
 "metadata": {
  "kernelspec": {
   "display_name": "chatrpholvenv",
   "language": "python",
   "name": "python3"
  },
  "language_info": {
   "codemirror_mode": {
    "name": "ipython",
    "version": 3
   },
   "file_extension": ".py",
   "mimetype": "text/x-python",
   "name": "python",
   "nbconvert_exporter": "python",
   "pygments_lexer": "ipython3",
   "version": "3.13.6"
  }
 },
 "nbformat": 4,
 "nbformat_minor": 5
}
