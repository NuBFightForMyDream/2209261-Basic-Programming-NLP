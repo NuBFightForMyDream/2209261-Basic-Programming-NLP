{
  "cells": [
    {
      "cell_type": "markdown",
      "id": "d29f7e7a",
      "metadata": {},
      "source": [
        "# 2209261 Basic Programming NLP\n",
        "# Lab 2 : String & List\n",
        "## Done By : 6730084521 Chatrphol Ovanonchai"
      ]
    },
    {
      "cell_type": "markdown",
      "id": "0a6e950d",
      "metadata": {
        "id": "0a6e950d"
      },
      "source": [
        "# PART 1. STRING"
      ]
    },
    {
      "cell_type": "markdown",
      "id": "c1c38d63",
      "metadata": {
        "id": "c1c38d63"
      },
      "source": [
        "### Exercise 1.1 : Full Name\n",
        "Concatinate firstName and lastName. Then, capitalize the first letter on both"
      ]
    },
    {
      "cell_type": "code",
      "execution_count": 31,
      "id": "6911e461",
      "metadata": {
        "id": "6911e461",
        "outputId": "48a49a6b-2d51-4d5e-f82b-07b6914110f1"
      },
      "outputs": [
        {
          "name": "stdout",
          "output_type": "stream",
          "text": [
            "John Doe\n"
          ]
        }
      ],
      "source": [
        "s1 = \"john\"\n",
        "s2 = \"doe\"\n",
        "\n",
        "# First letter will be Uppercase , other will be lowercase\n",
        "mix_name = s1[0].upper() + s1[1:] + \" \" + s2[0].upper() + s2[1:]\n",
        "print(mix_name)"
      ]
    },
    {
      "cell_type": "markdown",
      "id": "8f664d65",
      "metadata": {
        "id": "8f664d65"
      },
      "source": [
        "### Exercise 1.2 : Count Words\n",
        "Count how many words appear in a string."
      ]
    },
    {
      "cell_type": "code",
      "execution_count": 32,
      "id": "6a443c5e",
      "metadata": {
        "id": "6a443c5e",
        "outputId": "764e65c1-fd78-429f-87a4-08482d822b07"
      },
      "outputs": [
        {
          "name": "stdout",
          "output_type": "stream",
          "text": [
            "7\n"
          ]
        }
      ],
      "source": [
        "str1 = \"ART students are smart and AI Expert\" # 7\n",
        "\n",
        "# split words to list\n",
        "words = str1.split()\n",
        "print(len(words)) # len for length of words"
      ]
    },
    {
      "cell_type": "markdown",
      "id": "cb1ad599",
      "metadata": {
        "id": "cb1ad599"
      },
      "source": [
        "### Exercise 1.3 : Count Character\n",
        "\n",
        "Count how many characters \"a\" or \"A\" appear in the string.  "
      ]
    },
    {
      "cell_type": "code",
      "execution_count": 33,
      "id": "3994b82f",
      "metadata": {
        "id": "3994b82f",
        "outputId": "1f8d0b35-c71c-48f3-f8a2-0c2c612ebced"
      },
      "outputs": [
        {
          "name": "stdout",
          "output_type": "stream",
          "text": [
            "3\n"
          ]
        }
      ],
      "source": [
        "str1 = 'I Am 25 years and 10 months old. ' # 3\n",
        "\n",
        "# split into list\n",
        "words = str1.split()\n",
        "# for loop , check if 'A' or 'a' in each word\n",
        "countA = 0\n",
        "for eachWord in words : \n",
        "    if ('A' in eachWord) or ('a' in eachWord) :\n",
        "        countA += 1\n",
        "print(countA)"
      ]
    },
    {
      "cell_type": "markdown",
      "id": "75acd134",
      "metadata": {
        "id": "75acd134"
      },
      "source": [
        "### Exercise 1.4 : Replace String\n",
        "replace \"a\" with \"A\""
      ]
    },
    {
      "cell_type": "code",
      "execution_count": 34,
      "id": "b0481bbc",
      "metadata": {
        "id": "b0481bbc",
        "outputId": "9b0bf245-0149-41ab-8afc-8a57251d3ee7"
      },
      "outputs": [
        {
          "name": "stdout",
          "output_type": "stream",
          "text": [
            "I Am 25 yeArs And 10 months old. \n"
          ]
        }
      ],
      "source": [
        "str1 = 'I am 25 years and 10 months old. '\n",
        "\n",
        "# using replace() method\n",
        "replaceString = str1.replace('a' , 'A')\n",
        "print(replaceString)\n",
        "\n",
        "# another solution , for loop each character in str1 \n",
        "    # if that character is 'a' , change to 'A'"
      ]
    },
    {
      "cell_type": "markdown",
      "id": "ffd79153",
      "metadata": {
        "id": "ffd79153"
      },
      "source": [
        "### Exercise 1.5 : Check Word in String\n",
        "Check if \"and\" and \"AND\" is in a string."
      ]
    },
    {
      "cell_type": "code",
      "execution_count": 35,
      "id": "4721bfd0",
      "metadata": {
        "id": "4721bfd0",
        "outputId": "6f783ad9-04e5-498d-b5a6-ef80076a9a76"
      },
      "outputs": [
        {
          "name": "stdout",
          "output_type": "stream",
          "text": [
            "and: True\n",
            "AND: False\n"
          ]
        }
      ],
      "source": [
        "str1 = 'I am 25 years and 10 months old.'\n",
        "\n",
        "# define boolean\n",
        "andInString = False ; ANDInString = False \n",
        "# split into words\n",
        "words = str1.split()\n",
        "# for loop each word in list , check if 'AND' or 'and' in list\n",
        "for eachWord in words :\n",
        "    if eachWord == 'AND' : \n",
        "        ANDInString = True \n",
        "        break \n",
        "    elif eachWord == 'and' : \n",
        "        andInString = True \n",
        "        break\n",
        "    else : \n",
        "        pass # normal word\n",
        "    \n",
        "print('and: ' + str(andInString) + '\\n' + 'AND: ' + str(ANDInString) )"
      ]
    },
    {
      "cell_type": "markdown",
      "id": "10d2a9e7",
      "metadata": {
        "id": "10d2a9e7"
      },
      "source": [
        "### Exercise 1.6 : Reverse String\n",
        "\n",
        "Write a python function that recieve a string and reverse it."
      ]
    },
    {
      "cell_type": "code",
      "execution_count": 36,
      "id": "84885d8f",
      "metadata": {
        "id": "84885d8f",
        "outputId": "07a0c234-632f-49e4-8070-e77d466d8be7"
      },
      "outputs": [
        {
          "name": "stdout",
          "output_type": "stream",
          "text": [
            "olleh\n"
          ]
        }
      ],
      "source": [
        "def reverse_string(word) : \n",
        "    return word[::-1]\n",
        "\n",
        "# call function\n",
        "print(reverse_string(\"hello\"))"
      ]
    },
    {
      "cell_type": "markdown",
      "id": "e967e982",
      "metadata": {
        "id": "e967e982"
      },
      "source": [
        "# PART 2.Loop Exercise"
      ]
    },
    {
      "cell_type": "markdown",
      "id": "7cd8f26d",
      "metadata": {
        "id": "7cd8f26d"
      },
      "source": [
        "### 2.1 Print in loop\n",
        "Print the index number along with each color. The output format must be the same as shown here\n",
        "\n",
        "0: red, 1: green, 2: blue, 3: yellow, 4: white, 5: black,\n"
      ]
    },
    {
      "cell_type": "code",
      "execution_count": 37,
      "id": "d0b7b4b0",
      "metadata": {
        "id": "d0b7b4b0",
        "outputId": "49ce0942-08c3-4a50-f42d-f6a9f61ab454"
      },
      "outputs": [
        {
          "name": "stdout",
          "output_type": "stream",
          "text": [
            "0: red, 1: green, 2: blue, 3: yellow, 4: white, 5: black, \n"
          ]
        }
      ],
      "source": [
        "colors = ['red', 'green', 'blue', 'yellow', 'white', 'black']\n",
        "\n",
        "color_string = \"\"\n",
        "for posEachColor in range(len(colors)) : \n",
        "    color_string += str(posEachColor) + ': ' + colors[posEachColor] + ', '\n",
        "\n",
        "print(color_string)"
      ]
    },
    {
      "cell_type": "markdown",
      "id": "e820bfb2",
      "metadata": {
        "id": "e820bfb2"
      },
      "source": [
        "### 2.2 factorial of n\n",
        "Create a function to find a factorial of n!\n",
        "\n",
        "\n",
        "*   fact(2) = 1 x 2 = 2\n",
        "*   fact(5) = 1 x 2 x 3 x 4 x 5 = 120  \n",
        "\n"
      ]
    },
    {
      "cell_type": "code",
      "execution_count": 38,
      "id": "9e05d237",
      "metadata": {
        "id": "9e05d237",
        "outputId": "6e98ff90-9ef5-4358-98a2-7cdc0c19cc4b"
      },
      "outputs": [
        {
          "name": "stdout",
          "output_type": "stream",
          "text": [
            "2\n",
            "120\n"
          ]
        }
      ],
      "source": [
        "import math\n",
        "\n",
        "def fact(n) : \n",
        "    if n == 0 or n == 1 : \n",
        "        return 1\n",
        "    else : \n",
        "        return math.factorial(n) # importing math module\n",
        "    \n",
        "# another way , multiply until get n = 1 , (5 -> 4 -> 3 -> 2 -> 1) multiply each time \n",
        "\n",
        "\n",
        "# call function\n",
        "test = fact(2)\n",
        "print(test)\n",
        "test = fact(5)\n",
        "print(test)"
      ]
    },
    {
      "cell_type": "markdown",
      "id": "f87bfcc1",
      "metadata": {
        "id": "f87bfcc1"
      },
      "source": [
        "# PART 3. List Exercise  "
      ]
    },
    {
      "cell_type": "markdown",
      "id": "569e355b",
      "metadata": {
        "id": "569e355b"
      },
      "source": [
        "### 3.1 understand indexing\n",
        "\n",
        "Get two specific values \"China\" and \"Austria\" from countries list."
      ]
    },
    {
      "cell_type": "code",
      "execution_count": 39,
      "id": "a7735b07",
      "metadata": {
        "id": "a7735b07",
        "outputId": "796c8abb-0bce-4b82-ea60-816190e5f526"
      },
      "outputs": [
        {
          "name": "stdout",
          "output_type": "stream",
          "text": [
            "China\n",
            "Austria\n",
            "Austria\n"
          ]
        }
      ],
      "source": [
        "countries = ['United States', 'India', 'China', 'Brazil','UK', 'Germany', 'Austria']\n",
        "\n",
        "print(countries[2])\n",
        "print(countries[6])\n",
        "print(countries[-1])"
      ]
    },
    {
      "cell_type": "markdown",
      "id": "c6a3c3b3",
      "metadata": {
        "id": "c6a3c3b3"
      },
      "source": [
        "### 3.2 understand indexing\n",
        "Write a program to get value\n",
        "\n",
        "1.   40\n",
        "2.   400\n",
        "3.   [5000,6000]\n",
        "4.   6000\n",
        "\n",
        "\n",
        "\n",
        "\n",
        "\n"
      ]
    },
    {
      "cell_type": "code",
      "execution_count": 40,
      "id": "c165a1b1",
      "metadata": {
        "id": "c165a1b1",
        "outputId": "2c6ae42f-53d6-4090-f327-7401efd54e09"
      },
      "outputs": [
        {
          "name": "stdout",
          "output_type": "stream",
          "text": [
            "40\n",
            "400\n",
            "[5000, 6000]\n",
            "6000\n"
          ]
        }
      ],
      "source": [
        "vals = [10, 20, [300, 400, [5000, 6000], 500], 30, 40]\n",
        "\n",
        "print(vals[-1]) # 40 \n",
        "print(vals[2][1]) # vals[2] = [300, 400, [5000, 6000], 500] # 400\n",
        "print(vals[2][2]) # [5000 , 6000]\n",
        "print(vals[2][2][1]) # 6000"
      ]
    },
    {
      "cell_type": "markdown",
      "id": "e52989fb",
      "metadata": {
        "id": "e52989fb"
      },
      "source": [
        "### 3.3 understand indexing\n",
        "Write a program to add item 7000 after 6000 in the following vals list"
      ]
    },
    {
      "cell_type": "code",
      "execution_count": 41,
      "id": "ce878153",
      "metadata": {
        "id": "ce878153",
        "outputId": "65c44baa-9aa6-407d-e219-711f114630a8"
      },
      "outputs": [
        {
          "name": "stdout",
          "output_type": "stream",
          "text": [
            "[5000, 6000]\n",
            "[10, 20, [300, 400, [5000, 6000, 7000], 500], 30, 40]\n"
          ]
        }
      ],
      "source": [
        "vals = [10, 20, [300, 400, [5000, 6000], 500], 30, 40]\n",
        "\n",
        "print(vals[2][2]) # vals[2] = [300, 400, [5000, 6000], 500] -> get index 2 (list of [5000, 6000])\n",
        "vals[2][2].append(7000)\n",
        "\n",
        "print(vals) # [10, 20, [300, 400, [5000, 6000, 7000], 500], 30, 40]"
      ]
    },
    {
      "cell_type": "markdown",
      "id": "941ec0f2",
      "metadata": {
        "id": "941ec0f2"
      },
      "source": [
        "### 3.4 sum with for\n",
        "Find the sum of numbers in a list using **for** loop"
      ]
    },
    {
      "cell_type": "code",
      "execution_count": 42,
      "id": "510fff39",
      "metadata": {
        "id": "510fff39",
        "outputId": "5b4db884-41f2-46de-8be3-e1c1b30048c1"
      },
      "outputs": [
        {
          "name": "stdout",
          "output_type": "stream",
          "text": [
            "115\n"
          ]
        }
      ],
      "source": [
        "myList = [23,45,12,10,25]\n",
        "\n",
        "total = 0\n",
        "for eachNum in myList :\n",
        "    total += eachNum\n",
        "\n",
        "print(total) # 115"
      ]
    },
    {
      "cell_type": "markdown",
      "id": "49480ac7",
      "metadata": {
        "id": "49480ac7"
      },
      "source": [
        "### 3.5 sum with while\n",
        "Find the sum of numbers in a list using **while** loop"
      ]
    },
    {
      "cell_type": "code",
      "execution_count": 43,
      "id": "accfd23c",
      "metadata": {
        "id": "accfd23c",
        "outputId": "b578a114-f8ed-4bf9-9317-068c98f6a63f"
      },
      "outputs": [
        {
          "name": "stdout",
          "output_type": "stream",
          "text": [
            "5\n",
            "idx: 0  value: 23\n",
            "idx: 1  value: 45\n",
            "idx: 2  value: 12\n",
            "idx: 3  value: 10\n",
            "idx: 4  value: 25\n",
            "115\n"
          ]
        }
      ],
      "source": [
        "myList = [23,45,12,10,25]\n",
        "\n",
        "pos = 0 ; total = 0 # pos in list\n",
        "\n",
        "print(len(myList))\n",
        "\n",
        "# entering loop\n",
        "while pos < len(myList) : \n",
        "    # add value\n",
        "    value = myList[pos]\n",
        "    total += value\n",
        "    \n",
        "    # print statement\n",
        "    print(f\"idx: {pos}  value: {value}\")\n",
        "    \n",
        "    # add pos \n",
        "    pos += 1\n",
        "    \n",
        "# end loop \n",
        "print(total)"
      ]
    },
    {
      "cell_type": "markdown",
      "id": "7f7d1871",
      "metadata": {
        "id": "7f7d1871"
      },
      "source": [
        "# PART 4. Loop and List Exercise"
      ]
    },
    {
      "cell_type": "markdown",
      "id": "fcd889f1",
      "metadata": {
        "id": "fcd889f1"
      },
      "source": [
        "### 4.1 Find the maximum value in a list\n",
        "Find the maximum value in a list using a loop. (No sorting allow)"
      ]
    },
    {
      "cell_type": "code",
      "execution_count": 44,
      "id": "0bf0be21",
      "metadata": {
        "id": "0bf0be21",
        "outputId": "cae08c63-e2eb-4139-ed7b-2465fbcfd96a"
      },
      "outputs": [
        {
          "name": "stdout",
          "output_type": "stream",
          "text": [
            "the maximum value is 45\n"
          ]
        }
      ],
      "source": [
        "myList = [23,45,12,10,25]\n",
        "\n",
        "# define max value first (given as first index)\n",
        "max_value = myList[0]\n",
        "\n",
        "for element in myList :\n",
        "    if element > max_value : \n",
        "        max_value = element\n",
        "\n",
        "print(\"the maximum value is\" , max_value)"
      ]
    },
    {
      "cell_type": "markdown",
      "id": "da344996",
      "metadata": {
        "id": "da344996"
      },
      "source": [
        "### 4.2 Count Integer\n",
        "\n",
        "Count how many items in a list are integers."
      ]
    },
    {
      "cell_type": "code",
      "execution_count": 45,
      "id": "b703f49b",
      "metadata": {
        "id": "b703f49b",
        "outputId": "3366e5c0-a248-440a-9c4a-b67fbc235cb0"
      },
      "outputs": [
        {
          "name": "stdout",
          "output_type": "stream",
          "text": [
            "#int are 2\n"
          ]
        }
      ],
      "source": [
        "mixtypeLists = [\"name1\", \"long name1\",1,1,2.0,2.0] # #int are 2\n",
        "\n",
        "integer_count = 0 \n",
        "\n",
        "for each_element in mixtypeLists : \n",
        "    # check if floating number (float , int included)\n",
        "    if type(each_element) == float :\n",
        "        \n",
        "        # check if integer\n",
        "        if each_element % 1 == 0 : \n",
        "            integer_count += 1\n",
        "    \n",
        "print(\"#int are\" , integer_count)"
      ]
    },
    {
      "cell_type": "markdown",
      "id": "477eebf9",
      "metadata": {
        "id": "477eebf9"
      },
      "source": [
        "### 4.3 remove item in a list\n",
        "\n",
        "Write a python program to remove empty string from a list.\n"
      ]
    },
    {
      "cell_type": "code",
      "execution_count": 46,
      "id": "dde17076",
      "metadata": {
        "id": "dde17076",
        "outputId": "70ff9a95-1931-4694-86dc-4303a7f7943e"
      },
      "outputs": [
        {
          "name": "stdout",
          "output_type": "stream",
          "text": [
            "['Mike', 'Emma', 'Kelly']\n"
          ]
        }
      ],
      "source": [
        "list1 = [\"Mike\", \"\", \"Emma\", \"Kelly\", \"\", \"\"]\n",
        "\n",
        "for element in list1[:] : # remove() have a bug , so copying removing list then remove original list instead\n",
        "    if element == \"\" : \n",
        "        list1.remove(element)\n",
        "        \n",
        "print(list1)"
      ]
    },
    {
      "cell_type": "markdown",
      "id": "b89ee687",
      "metadata": {
        "id": "b89ee687"
      },
      "source": [
        "### 4.4 Iterate both lists with equal length simultaneously."
      ]
    },
    {
      "cell_type": "code",
      "execution_count": 47,
      "id": "55609dc1",
      "metadata": {
        "id": "55609dc1",
        "outputId": "3f9d0c72-cf7a-429e-c356-13068f9e7543"
      },
      "outputs": [
        {
          "name": "stdout",
          "output_type": "stream",
          "text": [
            "10 100\n",
            "20 200\n",
            "30 300\n",
            "40 400\n"
          ]
        }
      ],
      "source": [
        "list1 = [10, 20, 30, 40]\n",
        "list2 = [100, 200, 300, 400]\n",
        "\n",
        "for pos in range(len(list1)) : # len(list1) = len(list2)\n",
        "    print(list1[pos] , list2[pos])"
      ]
    },
    {
      "cell_type": "markdown",
      "id": "7a649a5d",
      "metadata": {
        "id": "7a649a5d"
      },
      "source": [
        "### 4.5 food lists\n",
        "\n",
        "Please write a function select_ingredients that takes the following input:\n",
        "\n",
        "* A list of ingredients for the dishes your friend will prepare.\n",
        "* A list of ingredients that the children do not eat.\n",
        "* This function must return a list of ingredients that your friend can use to cook for children.\n",
        "\n",
        "\n",
        "\n"
      ]
    },
    {
      "cell_type": "code",
      "execution_count": 48,
      "id": "61167935",
      "metadata": {
        "id": "61167935",
        "outputId": "e8509ae3-9e61-4033-aeda-178449f39e39"
      },
      "outputs": [
        {
          "name": "stdout",
          "output_type": "stream",
          "text": [
            "Ingredients that can be used: ['bokchoy', 'chicken', 'rice']\n"
          ]
        }
      ],
      "source": [
        "def select_ingredients(dish_ingredients , children_dislikes) : \n",
        "    # if some of elements in children_dislikes appear in dish_ingredients , remove it\n",
        "    for dislikeElement in children_dislikes : \n",
        "        if dislikeElement in dish_ingredients : \n",
        "            dish_ingredients.remove(dislikeElement)\n",
        "\n",
        "    return dish_ingredients\n",
        "\n",
        "# Example usage:\n",
        "dish_ingredients = [\"bokchoy\",'carrots', 'peas', 'chicken', 'rice']\n",
        "children_dislikes = ['peas', 'carrots','lime']\n",
        "usable_ingredients = select_ingredients(dish_ingredients, children_dislikes)\n",
        "print(f\"Ingredients that can be used: {usable_ingredients}\")"
      ]
    }
  ],
  "metadata": {
    "colab": {
      "provenance": []
    },
    "kernelspec": {
      "display_name": "chatrpholvenv",
      "language": "python",
      "name": "python3"
    },
    "language_info": {
      "codemirror_mode": {
        "name": "ipython",
        "version": 3
      },
      "file_extension": ".py",
      "mimetype": "text/x-python",
      "name": "python",
      "nbconvert_exporter": "python",
      "pygments_lexer": "ipython3",
      "version": "3.13.6"
    }
  },
  "nbformat": 4,
  "nbformat_minor": 5
}
