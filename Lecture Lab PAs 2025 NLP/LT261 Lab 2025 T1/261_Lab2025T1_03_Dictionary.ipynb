{
  "cells": [
    {
      "cell_type": "markdown",
      "id": "7e2a2e91",
      "metadata": {},
      "source": [
        "# 2209261 Basic Programming for NLP\n",
        "## Lab 3 : Dictionary\n",
        "## Done by : 6730084521 Chatrphol Ovanonchai"
      ]
    },
    {
      "cell_type": "markdown",
      "id": "215d05c4",
      "metadata": {
        "id": "215d05c4"
      },
      "source": [
        "# PART 1. Dictionary understanding"
      ]
    },
    {
      "cell_type": "markdown",
      "id": "36053090",
      "metadata": {
        "id": "36053090"
      },
      "source": [
        "### Exercise 1.1: Change Value in Dict\n",
        "Change value of dictionary. from 8000 of salary to 16000."
      ]
    },
    {
      "cell_type": "code",
      "execution_count": 1,
      "id": "992235be",
      "metadata": {
        "id": "992235be",
        "outputId": "5df99732-fa9d-4354-d746-cf7861e10080"
      },
      "outputs": [
        {
          "data": {
            "text/plain": [
              "{'name': 'Kelly', 'age': 25, 'salary': 16000, 'city': 'New york'}"
            ]
          },
          "execution_count": 1,
          "metadata": {},
          "output_type": "execute_result"
        }
      ],
      "source": [
        "sample_dict = {\n",
        "  \"name\": \"Kelly\",\n",
        "  \"age\":25,\n",
        "  \"salary\": 8000,\n",
        "  \"city\": \"New york\"\n",
        "}\n",
        "\n",
        "sample_dict[\"salary\"] = 16000\n",
        "sample_dict"
      ]
    },
    {
      "cell_type": "markdown",
      "id": "4e4248b5",
      "metadata": {
        "id": "4e4248b5"
      },
      "source": [
        "### Exercise 1.2 : Change Value in Nested Dict\n",
        "\n",
        "Change Brad’s salary to 8500 in the following dictionary."
      ]
    },
    {
      "cell_type": "code",
      "execution_count": 2,
      "id": "0c9556de",
      "metadata": {
        "id": "0c9556de",
        "outputId": "a8533b8d-3505-4b66-9a70-6fb5fc95f742"
      },
      "outputs": [
        {
          "data": {
            "text/plain": [
              "{'emp1': {'name': 'Jhon', 'salary': 7500},\n",
              " 'emp2': {'name': 'Emma', 'salary': 8000},\n",
              " 'emp3': {'name': 'Brad', 'salary': 8500}}"
            ]
          },
          "execution_count": 2,
          "metadata": {},
          "output_type": "execute_result"
        }
      ],
      "source": [
        "sample_dict = {\n",
        "    'emp1': {'name': 'Jhon', 'salary': 7500},\n",
        "    'emp2': {'name': 'Emma', 'salary': 8000},\n",
        "    'emp3': {'name': 'Brad', 'salary': 500}\n",
        "}\n",
        "\n",
        "(sample_dict[\"emp3\"])[\"salary\"] = 8500\n",
        "sample_dict"
      ]
    },
    {
      "cell_type": "markdown",
      "id": "8e6930aa",
      "metadata": {
        "id": "8e6930aa"
      },
      "source": [
        "### Exercise 1.3 Iterating Over Dictionaries\n",
        "Given a dictionary of stock prices, print each stock and its price."
      ]
    },
    {
      "cell_type": "code",
      "execution_count": 3,
      "id": "1d2ccc55",
      "metadata": {
        "id": "1d2ccc55",
        "outputId": "6c718275-b653-4499-c688-03a1121b6ded"
      },
      "outputs": [
        {
          "name": "stdout",
          "output_type": "stream",
          "text": [
            "Apple: $150\n",
            "Google: $100\n",
            "Amazon: $75\n"
          ]
        }
      ],
      "source": [
        "stocks = {'Apple': 150, 'Google': 100, 'Amazon': 75}\n",
        "\n",
        "for stockName in stocks : \n",
        "    print(f\"{stockName}: ${stocks[stockName]}\") # print key:value"
      ]
    },
    {
      "cell_type": "markdown",
      "id": "522d826c",
      "metadata": {
        "id": "522d826c"
      },
      "source": [
        "### Exercise 1.4 : Iterating in Dict\n",
        "\n",
        "Convert two lists into a dictionary using loops."
      ]
    },
    {
      "cell_type": "code",
      "execution_count": 4,
      "id": "488e05af",
      "metadata": {
        "id": "488e05af",
        "outputId": "d61f61d7-1cf2-4862-f463-c0973eeead61"
      },
      "outputs": [
        {
          "data": {
            "text/plain": [
              "{'Ten': 10, 'Twenty': 20, 'Thirty': 30}"
            ]
          },
          "execution_count": 4,
          "metadata": {},
          "output_type": "execute_result"
        }
      ],
      "source": [
        "keys = ['Ten', 'Twenty', 'Thirty']\n",
        "values = [10, 20, 30]\n",
        "\n",
        "newDict = {}\n",
        "for pos in range(len(keys)) : \n",
        "    newDict[ keys[pos] ] = values[pos]\n",
        "    \n",
        "# call newDict\n",
        "newDict"
      ]
    },
    {
      "cell_type": "markdown",
      "id": "ec562626",
      "metadata": {
        "id": "ec562626"
      },
      "source": [
        "### Exercise 1.5\n",
        "Find the total score of all subjects."
      ]
    },
    {
      "cell_type": "code",
      "execution_count": 5,
      "id": "a8260513",
      "metadata": {
        "id": "a8260513",
        "outputId": "cfab296d-c535-47d7-b5ca-f7b025e98751"
      },
      "outputs": [
        {
          "name": "stdout",
          "output_type": "stream",
          "text": [
            "412\n"
          ]
        }
      ],
      "source": [
        "sample_dict = {\n",
        "  'Physics': 82,\n",
        "  'Math': 65,\n",
        "  'history': 75,\n",
        "  'computer': 100,\n",
        "  \"english\": 90\n",
        "}\n",
        "\n",
        "# create variable \n",
        "totalScore = 0 \n",
        "\n",
        "for subject in sample_dict :\n",
        "  totalScore += sample_dict[subject]\n",
        "  \n",
        "print(totalScore)"
      ]
    },
    {
      "cell_type": "markdown",
      "id": "77a5983c",
      "metadata": {
        "id": "77a5983c"
      },
      "source": [
        "### Exercise 1.6\n",
        "\n",
        "Which subject do they score the lowest?"
      ]
    },
    {
      "cell_type": "code",
      "execution_count": 10,
      "id": "7d592040",
      "metadata": {
        "id": "7d592040",
        "outputId": "c5701f01-88f9-435c-ef86-d8ae0d800728"
      },
      "outputs": [
        {
          "name": "stdout",
          "output_type": "stream",
          "text": [
            "Math\n"
          ]
        }
      ],
      "source": [
        "sample_dict = {\n",
        "  'Physics': 82,\n",
        "  'Math': 65,\n",
        "  'history': 75,\n",
        "  'computer': 100,\n",
        "  \"english\": 90\n",
        "}\n",
        "\n",
        "# create dict with reverse key_dict\n",
        "reverseSampleDict = {}\n",
        "for subject in sample_dict : \n",
        "  reverseSampleDict[ sample_dict[subject] ] = subject\n",
        "\n",
        "# find key that is lowest -> get value using min() \n",
        "print(reverseSampleDict[ min(reverseSampleDict) ] )"
      ]
    },
    {
      "cell_type": "markdown",
      "id": "843ae7c6",
      "metadata": {
        "id": "843ae7c6"
      },
      "source": [
        "# Part 2. Python Data Structure"
      ]
    },
    {
      "cell_type": "markdown",
      "id": "3872b8d4",
      "metadata": {
        "id": "3872b8d4"
      },
      "source": [
        "### Exercise 2.1: Find Employee ID\n",
        "Create a python function that finds a name given an employee ID."
      ]
    },
    {
      "cell_type": "code",
      "execution_count": 17,
      "id": "9fc62000",
      "metadata": {
        "id": "9fc62000",
        "outputId": "3c622600-1370-43ee-d9f6-0b11f012b2e3"
      },
      "outputs": [
        {
          "name": "stdout",
          "output_type": "stream",
          "text": [
            "Alice\n",
            "ID Not Found\n"
          ]
        }
      ],
      "source": [
        "employees = {\"Alice\": 101, \"Bob\": 102, \"Charlie\": 103}\n",
        "\n",
        "def findEmployeeName(employeeID):\n",
        "    # use .items() instead\n",
        "    for Name, ID in employees.items():\n",
        "        if ID == employeeID:\n",
        "            return Name\n",
        "    return \"ID Not Found\"\n",
        "\n",
        "print(findEmployeeName(101))\n",
        "print(findEmployeeName(104))"
      ]
    },
    {
      "cell_type": "markdown",
      "id": "09c9c115",
      "metadata": {
        "id": "09c9c115"
      },
      "source": [
        "### Exercise 2.2: Frequency of Letter\n",
        "\n",
        "Given a string, count the frequency of each character (ignore spaces)."
      ]
    },
    {
      "cell_type": "code",
      "execution_count": 2,
      "id": "8934b693",
      "metadata": {
        "id": "8934b693",
        "outputId": "8ee191de-5cda-490e-a9c1-5476b08d0df9"
      },
      "outputs": [
        {
          "data": {
            "text/plain": [
              "{'h': 1, 'e': 1, 'l': 3, 'o': 2, 'w': 1, 'r': 1, 'd': 1}"
            ]
          },
          "execution_count": 2,
          "metadata": {},
          "output_type": "execute_result"
        }
      ],
      "source": [
        "text = \"hello world\"\n",
        "\n",
        "frequency_letter = {}\n",
        "\n",
        "for character in text : \n",
        "    if character.isalpha() == True : \n",
        "        # check if character was in dict or not\n",
        "        if character in frequency_letter : \n",
        "            frequency_letter[character] += 1\n",
        "        else : \n",
        "            frequency_letter[character] = 1 # set first count as 1\n",
        "            \n",
        "# call dict\n",
        "frequency_letter"
      ]
    },
    {
      "cell_type": "markdown",
      "id": "1ad753bc",
      "metadata": {
        "id": "1ad753bc"
      },
      "source": [
        "### Exercise 2.3 : Average Length of String\n",
        "Write a python function that finds the average length of a string.\n",
        "- please remove punctuation before counting the length of word\n",
        "- use string.punctuation to get a list of punctuation."
      ]
    },
    {
      "cell_type": "code",
      "execution_count": 14,
      "id": "481cbb03",
      "metadata": {
        "id": "481cbb03",
        "outputId": "3a13cad9-021b-42ac-90d4-b759607e7e12"
      },
      "outputs": [
        {
          "name": "stdout",
          "output_type": "stream",
          "text": [
            "4.166666666666667\n"
          ]
        }
      ],
      "source": [
        "def average_word_length(text) : \n",
        "    wordLength = {} # create dict\n",
        "    \n",
        "    # clean word first\n",
        "    text_cleaned = \"\"\n",
        "    for char in text : \n",
        "        if char.isalpha() == True or char.isspace() == True :\n",
        "            text_cleaned += char\n",
        "        \n",
        "    # split into list for counting length\n",
        "    words = text_cleaned.split()\n",
        "    for eachWord in words : \n",
        "        if len(eachWord) in wordLength : \n",
        "            wordLength[ len(eachWord) ] += 1\n",
        "        else : \n",
        "            wordLength[ len(eachWord) ] = 1\n",
        "    \n",
        "    # calculate average\n",
        "    total = 0\n",
        "    for length in wordLength : \n",
        "        total += length * wordLength[ length ]\n",
        "    \n",
        "    return total / sum(wordLength.values()) # divider is all count \n",
        "\n",
        "text = \"Hello, world! This is an example.\" # 4.166666666666667\n",
        "print(average_word_length(text))  # Output: 4.2"
      ]
    },
    {
      "cell_type": "markdown",
      "id": "99f18e56",
      "metadata": {
        "id": "99f18e56"
      },
      "source": [
        "### Exercise 2.4 : Words Frequency\n",
        "\n",
        "In a given storybook, each word’s occurrence has been counted and recorded in a one-dimensional list of strings. Your task is to analyze this data to determine the frequency of each word throughout the book.\n",
        "\n",
        "**Objective:** Write a Python script that counts how many times each unique word appears in the book.\n"
      ]
    },
    {
      "cell_type": "code",
      "execution_count": 3,
      "id": "792a9513",
      "metadata": {
        "id": "792a9513",
        "outputId": "e12f87e4-22e6-4d11-ab92-65499580672a"
      },
      "outputs": [
        {
          "name": "stdout",
          "output_type": "stream",
          "text": [
            "{'the': 2, 'quick': 1, 'brown': 2, 'fox': 1, 'jumps': 1, 'over': 1, 'lazy': 1, 'dog': 1}\n"
          ]
        }
      ],
      "source": [
        "words = [\"the\", \"quick\", \"brown\", \"fox\", \"jumps\", \"over\", \"the\", \"lazy\", \"brown\", \"dog\"]\n",
        "\n",
        "words_frequency = {}\n",
        "for eachWord in words : \n",
        "    if eachWord in words_frequency : # have in dict already\n",
        "        words_frequency[ eachWord ] += 1\n",
        "    else : \n",
        "        words_frequency[ eachWord ] = 1\n",
        "    \n",
        "print(words_frequency)"
      ]
    }
  ],
  "metadata": {
    "colab": {
      "provenance": []
    },
    "kernelspec": {
      "display_name": "chatrpholvenv",
      "language": "python",
      "name": "python3"
    },
    "language_info": {
      "codemirror_mode": {
        "name": "ipython",
        "version": 3
      },
      "file_extension": ".py",
      "mimetype": "text/x-python",
      "name": "python",
      "nbconvert_exporter": "python",
      "pygments_lexer": "ipython3",
      "version": "3.13.6"
    }
  },
  "nbformat": 4,
  "nbformat_minor": 5
}
